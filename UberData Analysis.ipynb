{
 "cells": [
  {
   "cell_type": "code",
   "execution_count": 1,
   "id": "eb8553b3",
   "metadata": {},
   "outputs": [],
   "source": [
    "import pandas as pd\n",
    "import numpy as np\n",
    "import seaborn as sns\n",
    "import matplotlib as plt\n",
    "import os"
   ]
  },
  {
   "cell_type": "code",
   "execution_count": 2,
   "id": "7564f465",
   "metadata": {},
   "outputs": [
    {
     "data": {
      "text/plain": [
       "['other-American_B01362.csv',\n",
       " 'other-Carmel_B00256.csv',\n",
       " 'other-Dial7_B00887.csv',\n",
       " 'other-Diplo_B01196.csv',\n",
       " 'other-Federal_02216.csv',\n",
       " 'other-FHV-services_jan-aug-2015.csv',\n",
       " 'other-Firstclass_B01536.csv',\n",
       " 'other-Highclass_B01717.csv',\n",
       " 'other-Lyft_B02510.csv',\n",
       " 'other-Prestige_B01338.csv',\n",
       " 'other-Skyline_B00111.csv',\n",
       " 'Uber-Jan-Feb-FOIL.csv',\n",
       " 'uber-raw-data-apr14.csv',\n",
       " 'uber-raw-data-aug14.csv',\n",
       " 'uber-raw-data-janjune-15.csv',\n",
       " 'uber-raw-data-janjune-15_sample.csv',\n",
       " 'uber-raw-data-jul14.csv',\n",
       " 'uber-raw-data-jun14.csv',\n",
       " 'uber-raw-data-may14.csv',\n",
       " 'uber-raw-data-sep14.csv']"
      ]
     },
     "execution_count": 2,
     "metadata": {},
     "output_type": "execute_result"
    }
   ],
   "source": [
    "os.listdir(r\"C:\\Users\\bhava\\Downloads\\Datasets\\uber\")"
   ]
  },
  {
   "cell_type": "code",
   "execution_count": 3,
   "id": "45013dec",
   "metadata": {},
   "outputs": [],
   "source": [
    "uber_15=pd.read_csv(r\"C:\\Users\\bhava\\Downloads\\Datasets\\uber\\uber-raw-data-janjune-15_sample.csv\")"
   ]
  },
  {
   "cell_type": "code",
   "execution_count": 4,
   "id": "ede2de2d",
   "metadata": {},
   "outputs": [
    {
     "data": {
      "text/html": [
       "<div>\n",
       "<style scoped>\n",
       "    .dataframe tbody tr th:only-of-type {\n",
       "        vertical-align: middle;\n",
       "    }\n",
       "\n",
       "    .dataframe tbody tr th {\n",
       "        vertical-align: top;\n",
       "    }\n",
       "\n",
       "    .dataframe thead th {\n",
       "        text-align: right;\n",
       "    }\n",
       "</style>\n",
       "<table border=\"1\" class=\"dataframe\">\n",
       "  <thead>\n",
       "    <tr style=\"text-align: right;\">\n",
       "      <th></th>\n",
       "      <th>Dispatching_base_num</th>\n",
       "      <th>Pickup_date</th>\n",
       "      <th>Affiliated_base_num</th>\n",
       "      <th>locationID</th>\n",
       "    </tr>\n",
       "  </thead>\n",
       "  <tbody>\n",
       "    <tr>\n",
       "      <th>0</th>\n",
       "      <td>B02617</td>\n",
       "      <td>2015-05-02 21:43:00</td>\n",
       "      <td>B02764</td>\n",
       "      <td>237</td>\n",
       "    </tr>\n",
       "    <tr>\n",
       "      <th>1</th>\n",
       "      <td>B02682</td>\n",
       "      <td>2015-01-20 19:52:59</td>\n",
       "      <td>B02682</td>\n",
       "      <td>231</td>\n",
       "    </tr>\n",
       "    <tr>\n",
       "      <th>2</th>\n",
       "      <td>B02617</td>\n",
       "      <td>2015-03-19 20:26:00</td>\n",
       "      <td>B02617</td>\n",
       "      <td>161</td>\n",
       "    </tr>\n",
       "    <tr>\n",
       "      <th>3</th>\n",
       "      <td>B02764</td>\n",
       "      <td>2015-04-10 17:38:00</td>\n",
       "      <td>B02764</td>\n",
       "      <td>107</td>\n",
       "    </tr>\n",
       "    <tr>\n",
       "      <th>4</th>\n",
       "      <td>B02764</td>\n",
       "      <td>2015-03-23 07:03:00</td>\n",
       "      <td>B00111</td>\n",
       "      <td>140</td>\n",
       "    </tr>\n",
       "    <tr>\n",
       "      <th>...</th>\n",
       "      <td>...</td>\n",
       "      <td>...</td>\n",
       "      <td>...</td>\n",
       "      <td>...</td>\n",
       "    </tr>\n",
       "    <tr>\n",
       "      <th>99995</th>\n",
       "      <td>B02764</td>\n",
       "      <td>2015-04-13 16:12:00</td>\n",
       "      <td>B02764</td>\n",
       "      <td>234</td>\n",
       "    </tr>\n",
       "    <tr>\n",
       "      <th>99996</th>\n",
       "      <td>B02764</td>\n",
       "      <td>2015-03-06 21:32:00</td>\n",
       "      <td>B02764</td>\n",
       "      <td>24</td>\n",
       "    </tr>\n",
       "    <tr>\n",
       "      <th>99997</th>\n",
       "      <td>B02598</td>\n",
       "      <td>2015-03-19 19:56:00</td>\n",
       "      <td>B02598</td>\n",
       "      <td>17</td>\n",
       "    </tr>\n",
       "    <tr>\n",
       "      <th>99998</th>\n",
       "      <td>B02682</td>\n",
       "      <td>2015-05-02 16:02:00</td>\n",
       "      <td>B02682</td>\n",
       "      <td>68</td>\n",
       "    </tr>\n",
       "    <tr>\n",
       "      <th>99999</th>\n",
       "      <td>B02764</td>\n",
       "      <td>2015-06-24 16:04:00</td>\n",
       "      <td>B02764</td>\n",
       "      <td>125</td>\n",
       "    </tr>\n",
       "  </tbody>\n",
       "</table>\n",
       "<p>100000 rows × 4 columns</p>\n",
       "</div>"
      ],
      "text/plain": [
       "      Dispatching_base_num          Pickup_date Affiliated_base_num  \\\n",
       "0                   B02617  2015-05-02 21:43:00              B02764   \n",
       "1                   B02682  2015-01-20 19:52:59              B02682   \n",
       "2                   B02617  2015-03-19 20:26:00              B02617   \n",
       "3                   B02764  2015-04-10 17:38:00              B02764   \n",
       "4                   B02764  2015-03-23 07:03:00              B00111   \n",
       "...                    ...                  ...                 ...   \n",
       "99995               B02764  2015-04-13 16:12:00              B02764   \n",
       "99996               B02764  2015-03-06 21:32:00              B02764   \n",
       "99997               B02598  2015-03-19 19:56:00              B02598   \n",
       "99998               B02682  2015-05-02 16:02:00              B02682   \n",
       "99999               B02764  2015-06-24 16:04:00              B02764   \n",
       "\n",
       "       locationID  \n",
       "0             237  \n",
       "1             231  \n",
       "2             161  \n",
       "3             107  \n",
       "4             140  \n",
       "...           ...  \n",
       "99995         234  \n",
       "99996          24  \n",
       "99997          17  \n",
       "99998          68  \n",
       "99999         125  \n",
       "\n",
       "[100000 rows x 4 columns]"
      ]
     },
     "execution_count": 4,
     "metadata": {},
     "output_type": "execute_result"
    }
   ],
   "source": [
    "uber_15"
   ]
  },
  {
   "cell_type": "markdown",
   "id": "9d6c64fa",
   "metadata": {},
   "source": [
    "Find duplicates"
   ]
  },
  {
   "cell_type": "code",
   "execution_count": 5,
   "id": "83235a2a",
   "metadata": {},
   "outputs": [
    {
     "data": {
      "text/plain": [
       "54"
      ]
     },
     "execution_count": 5,
     "metadata": {},
     "output_type": "execute_result"
    }
   ],
   "source": [
    "uber_15.duplicated().sum()"
   ]
  },
  {
   "cell_type": "code",
   "execution_count": 6,
   "id": "41accda0",
   "metadata": {},
   "outputs": [],
   "source": [
    "uber_15.drop_duplicates(inplace=True)"
   ]
  },
  {
   "cell_type": "code",
   "execution_count": 7,
   "id": "bb752a5f",
   "metadata": {},
   "outputs": [
    {
     "data": {
      "text/plain": [
       "(99946, 4)"
      ]
     },
     "execution_count": 7,
     "metadata": {},
     "output_type": "execute_result"
    }
   ],
   "source": [
    "uber_15.shape"
   ]
  },
  {
   "cell_type": "markdown",
   "id": "48be646c",
   "metadata": {},
   "source": [
    "Handling missing values"
   ]
  },
  {
   "cell_type": "code",
   "execution_count": 8,
   "id": "d2756786",
   "metadata": {},
   "outputs": [
    {
     "data": {
      "text/plain": [
       "Dispatching_base_num       0\n",
       "Pickup_date                0\n",
       "Affiliated_base_num     1116\n",
       "locationID                 0\n",
       "dtype: int64"
      ]
     },
     "execution_count": 8,
     "metadata": {},
     "output_type": "execute_result"
    }
   ],
   "source": [
    "uber_15.isnull().sum()"
   ]
  },
  {
   "cell_type": "code",
   "execution_count": 9,
   "id": "1dd0fe2a",
   "metadata": {},
   "outputs": [],
   "source": [
    "uber_15['Pickup_date']=pd.to_datetime(uber_15['Pickup_date'])"
   ]
  },
  {
   "cell_type": "markdown",
   "id": "9b43d4aa",
   "metadata": {},
   "source": [
    "Which month has maximum number of uber pickups"
   ]
  },
  {
   "cell_type": "code",
   "execution_count": 10,
   "id": "aea2b173",
   "metadata": {},
   "outputs": [],
   "source": [
    "uber_15['month']=uber_15['Pickup_date'].dt.month_name()"
   ]
  },
  {
   "cell_type": "code",
   "execution_count": 11,
   "id": "7f2da847",
   "metadata": {},
   "outputs": [
    {
     "data": {
      "text/plain": [
       "<AxesSubplot:>"
      ]
     },
     "execution_count": 11,
     "metadata": {},
     "output_type": "execute_result"
    },
    {
     "data": {
      "image/png": "[encoded data removed]",
      "text/plain": [
       "<Figure size 640x480 with 1 Axes>"
      ]
     },
     "metadata": {},
     "output_type": "display_data"
    }
   ],
   "source": [
    "uber_15['month'].value_counts().plot(kind=\"bar\")"
   ]
  },
  {
   "cell_type": "code",
   "execution_count": 12,
   "id": "a6c1e340",
   "metadata": {},
   "outputs": [],
   "source": [
    "uber_15['weekday']=uber_15['Pickup_date'].dt.day_name()\n",
    "uber_15['day']=uber_15['Pickup_date'].dt.day\n",
    "uber_15['hour']=uber_15['Pickup_date'].dt.hour\n",
    "uber_15['minute']=uber_15['Pickup_date'].dt.minute\n"
   ]
  },
  {
   "cell_type": "code",
   "execution_count": 13,
   "id": "e53fbe0d",
   "metadata": {},
   "outputs": [
    {
     "data": {
      "text/html": [
       "<div>\n",
       "<style scoped>\n",
       "    .dataframe tbody tr th:only-of-type {\n",
       "        vertical-align: middle;\n",
       "    }\n",
       "\n",
       "    .dataframe tbody tr th {\n",
       "        vertical-align: top;\n",
       "    }\n",
       "\n",
       "    .dataframe thead th {\n",
       "        text-align: right;\n",
       "    }\n",
       "</style>\n",
       "<table border=\"1\" class=\"dataframe\">\n",
       "  <thead>\n",
       "    <tr style=\"text-align: right;\">\n",
       "      <th></th>\n",
       "      <th>Dispatching_base_num</th>\n",
       "      <th>Pickup_date</th>\n",
       "      <th>Affiliated_base_num</th>\n",
       "      <th>locationID</th>\n",
       "      <th>month</th>\n",
       "      <th>weekday</th>\n",
       "      <th>day</th>\n",
       "      <th>hour</th>\n",
       "      <th>minute</th>\n",
       "    </tr>\n",
       "  </thead>\n",
       "  <tbody>\n",
       "    <tr>\n",
       "      <th>0</th>\n",
       "      <td>B02617</td>\n",
       "      <td>2015-05-02 21:43:00</td>\n",
       "      <td>B02764</td>\n",
       "      <td>237</td>\n",
       "      <td>May</td>\n",
       "      <td>Saturday</td>\n",
       "      <td>2</td>\n",
       "      <td>21</td>\n",
       "      <td>43</td>\n",
       "    </tr>\n",
       "    <tr>\n",
       "      <th>1</th>\n",
       "      <td>B02682</td>\n",
       "      <td>2015-01-20 19:52:59</td>\n",
       "      <td>B02682</td>\n",
       "      <td>231</td>\n",
       "      <td>January</td>\n",
       "      <td>Tuesday</td>\n",
       "      <td>20</td>\n",
       "      <td>19</td>\n",
       "      <td>52</td>\n",
       "    </tr>\n",
       "    <tr>\n",
       "      <th>2</th>\n",
       "      <td>B02617</td>\n",
       "      <td>2015-03-19 20:26:00</td>\n",
       "      <td>B02617</td>\n",
       "      <td>161</td>\n",
       "      <td>March</td>\n",
       "      <td>Thursday</td>\n",
       "      <td>19</td>\n",
       "      <td>20</td>\n",
       "      <td>26</td>\n",
       "    </tr>\n",
       "    <tr>\n",
       "      <th>3</th>\n",
       "      <td>B02764</td>\n",
       "      <td>2015-04-10 17:38:00</td>\n",
       "      <td>B02764</td>\n",
       "      <td>107</td>\n",
       "      <td>April</td>\n",
       "      <td>Friday</td>\n",
       "      <td>10</td>\n",
       "      <td>17</td>\n",
       "      <td>38</td>\n",
       "    </tr>\n",
       "  </tbody>\n",
       "</table>\n",
       "</div>"
      ],
      "text/plain": [
       "  Dispatching_base_num         Pickup_date Affiliated_base_num  locationID  \\\n",
       "0               B02617 2015-05-02 21:43:00              B02764         237   \n",
       "1               B02682 2015-01-20 19:52:59              B02682         231   \n",
       "2               B02617 2015-03-19 20:26:00              B02617         161   \n",
       "3               B02764 2015-04-10 17:38:00              B02764         107   \n",
       "\n",
       "     month   weekday  day  hour  minute  \n",
       "0      May  Saturday    2    21      43  \n",
       "1  January   Tuesday   20    19      52  \n",
       "2    March  Thursday   19    20      26  \n",
       "3    April    Friday   10    17      38  "
      ]
     },
     "execution_count": 13,
     "metadata": {},
     "output_type": "execute_result"
    }
   ],
   "source": [
    "uber_15.head(4)"
   ]
  },
  {
   "cell_type": "markdown",
   "id": "e5fe7f03",
   "metadata": {},
   "source": [
    "Uber pickups as per day monthly wise"
   ]
  },
  {
   "cell_type": "code",
   "execution_count": 14,
   "id": "96dc59e3",
   "metadata": {},
   "outputs": [],
   "source": [
    "pivot=pd.crosstab(index=uber_15['month'],columns=uber_15['weekday'])"
   ]
  },
  {
   "cell_type": "code",
   "execution_count": 15,
   "id": "02fdbedd",
   "metadata": {},
   "outputs": [
    {
     "data": {
      "text/plain": [
       "<AxesSubplot:xlabel='month'>"
      ]
     },
     "execution_count": 15,
     "metadata": {},
     "output_type": "execute_result"
    },
    {
     "data": {
      "image/png": "[encoded data removed]",
      "text/plain": [
       "<Figure size 800x900 with 1 Axes>"
      ]
     },
     "metadata": {},
     "output_type": "display_data"
    }
   ],
   "source": [
    "pivot.plot(kind=\"bar\",figsize=(8,9))"
   ]
  },
  {
   "cell_type": "markdown",
   "id": "9738f16c",
   "metadata": {},
   "source": [
    "Hourly rush in New York city"
   ]
  },
  {
   "cell_type": "code",
   "execution_count": 16,
   "id": "b8d24b61",
   "metadata": {},
   "outputs": [],
   "source": [
    "summary=uber_15.groupby(['weekday','hour'],as_index=False).size()"
   ]
  },
  {
   "cell_type": "code",
   "execution_count": 17,
   "id": "1a953a0b",
   "metadata": {},
   "outputs": [
    {
     "data": {
      "text/html": [
       "<div>\n",
       "<style scoped>\n",
       "    .dataframe tbody tr th:only-of-type {\n",
       "        vertical-align: middle;\n",
       "    }\n",
       "\n",
       "    .dataframe tbody tr th {\n",
       "        vertical-align: top;\n",
       "    }\n",
       "\n",
       "    .dataframe thead th {\n",
       "        text-align: right;\n",
       "    }\n",
       "</style>\n",
       "<table border=\"1\" class=\"dataframe\">\n",
       "  <thead>\n",
       "    <tr style=\"text-align: right;\">\n",
       "      <th></th>\n",
       "      <th>weekday</th>\n",
       "      <th>hour</th>\n",
       "      <th>size</th>\n",
       "    </tr>\n",
       "  </thead>\n",
       "  <tbody>\n",
       "    <tr>\n",
       "      <th>0</th>\n",
       "      <td>Friday</td>\n",
       "      <td>0</td>\n",
       "      <td>581</td>\n",
       "    </tr>\n",
       "    <tr>\n",
       "      <th>1</th>\n",
       "      <td>Friday</td>\n",
       "      <td>1</td>\n",
       "      <td>333</td>\n",
       "    </tr>\n",
       "    <tr>\n",
       "      <th>2</th>\n",
       "      <td>Friday</td>\n",
       "      <td>2</td>\n",
       "      <td>197</td>\n",
       "    </tr>\n",
       "    <tr>\n",
       "      <th>3</th>\n",
       "      <td>Friday</td>\n",
       "      <td>3</td>\n",
       "      <td>138</td>\n",
       "    </tr>\n",
       "    <tr>\n",
       "      <th>4</th>\n",
       "      <td>Friday</td>\n",
       "      <td>4</td>\n",
       "      <td>161</td>\n",
       "    </tr>\n",
       "    <tr>\n",
       "      <th>...</th>\n",
       "      <td>...</td>\n",
       "      <td>...</td>\n",
       "      <td>...</td>\n",
       "    </tr>\n",
       "    <tr>\n",
       "      <th>163</th>\n",
       "      <td>Wednesday</td>\n",
       "      <td>19</td>\n",
       "      <td>1044</td>\n",
       "    </tr>\n",
       "    <tr>\n",
       "      <th>164</th>\n",
       "      <td>Wednesday</td>\n",
       "      <td>20</td>\n",
       "      <td>897</td>\n",
       "    </tr>\n",
       "    <tr>\n",
       "      <th>165</th>\n",
       "      <td>Wednesday</td>\n",
       "      <td>21</td>\n",
       "      <td>949</td>\n",
       "    </tr>\n",
       "    <tr>\n",
       "      <th>166</th>\n",
       "      <td>Wednesday</td>\n",
       "      <td>22</td>\n",
       "      <td>900</td>\n",
       "    </tr>\n",
       "    <tr>\n",
       "      <th>167</th>\n",
       "      <td>Wednesday</td>\n",
       "      <td>23</td>\n",
       "      <td>669</td>\n",
       "    </tr>\n",
       "  </tbody>\n",
       "</table>\n",
       "<p>168 rows × 3 columns</p>\n",
       "</div>"
      ],
      "text/plain": [
       "       weekday  hour  size\n",
       "0       Friday     0   581\n",
       "1       Friday     1   333\n",
       "2       Friday     2   197\n",
       "3       Friday     3   138\n",
       "4       Friday     4   161\n",
       "..         ...   ...   ...\n",
       "163  Wednesday    19  1044\n",
       "164  Wednesday    20   897\n",
       "165  Wednesday    21   949\n",
       "166  Wednesday    22   900\n",
       "167  Wednesday    23   669\n",
       "\n",
       "[168 rows x 3 columns]"
      ]
     },
     "execution_count": 17,
     "metadata": {},
     "output_type": "execute_result"
    }
   ],
   "source": [
    "summary"
   ]
  },
  {
   "cell_type": "code",
   "execution_count": 18,
   "id": "71f4030a",
   "metadata": {},
   "outputs": [
    {
     "data": {
      "text/plain": [
       "<AxesSubplot:xlabel='hour', ylabel='size'>"
      ]
     },
     "execution_count": 18,
     "metadata": {},
     "output_type": "execute_result"
    },
    {
     "data": {
      "image/png": "[encoded data removed]",
      "text/plain": [
       "<Figure size 800x600 with 1 Axes>"
      ]
     },
     "metadata": {},
     "output_type": "display_data"
    }
   ],
   "source": [
    "sns.set(rc={\"figure.figsize\":(8, 6)})\n",
    "sns.pointplot(x=\"hour\",y=\"size\",hue=\"weekday\",data=summary)"
   ]
  },
  {
   "cell_type": "markdown",
   "id": "04974d22",
   "metadata": {},
   "source": [
    "Which Base number have most number of active vehicle"
   ]
  },
  {
   "cell_type": "code",
   "execution_count": 19,
   "id": "777f3ca4",
   "metadata": {},
   "outputs": [],
   "source": [
    "uber_foil=pd.read_csv(r\"C:\\Users\\bhava\\Downloads\\Datasets\\uber\\Uber-Jan-Feb-FOIL.csv\")"
   ]
  },
  {
   "cell_type": "code",
   "execution_count": 20,
   "id": "eb868917",
   "metadata": {},
   "outputs": [
    {
     "data": {
      "text/html": [
       "<div>\n",
       "<style scoped>\n",
       "    .dataframe tbody tr th:only-of-type {\n",
       "        vertical-align: middle;\n",
       "    }\n",
       "\n",
       "    .dataframe tbody tr th {\n",
       "        vertical-align: top;\n",
       "    }\n",
       "\n",
       "    .dataframe thead th {\n",
       "        text-align: right;\n",
       "    }\n",
       "</style>\n",
       "<table border=\"1\" class=\"dataframe\">\n",
       "  <thead>\n",
       "    <tr style=\"text-align: right;\">\n",
       "      <th></th>\n",
       "      <th>dispatching_base_number</th>\n",
       "      <th>date</th>\n",
       "      <th>active_vehicles</th>\n",
       "      <th>trips</th>\n",
       "    </tr>\n",
       "  </thead>\n",
       "  <tbody>\n",
       "    <tr>\n",
       "      <th>0</th>\n",
       "      <td>B02512</td>\n",
       "      <td>1/1/2015</td>\n",
       "      <td>190</td>\n",
       "      <td>1132</td>\n",
       "    </tr>\n",
       "    <tr>\n",
       "      <th>1</th>\n",
       "      <td>B02765</td>\n",
       "      <td>1/1/2015</td>\n",
       "      <td>225</td>\n",
       "      <td>1765</td>\n",
       "    </tr>\n",
       "    <tr>\n",
       "      <th>2</th>\n",
       "      <td>B02764</td>\n",
       "      <td>1/1/2015</td>\n",
       "      <td>3427</td>\n",
       "      <td>29421</td>\n",
       "    </tr>\n",
       "    <tr>\n",
       "      <th>3</th>\n",
       "      <td>B02682</td>\n",
       "      <td>1/1/2015</td>\n",
       "      <td>945</td>\n",
       "      <td>7679</td>\n",
       "    </tr>\n",
       "    <tr>\n",
       "      <th>4</th>\n",
       "      <td>B02617</td>\n",
       "      <td>1/1/2015</td>\n",
       "      <td>1228</td>\n",
       "      <td>9537</td>\n",
       "    </tr>\n",
       "  </tbody>\n",
       "</table>\n",
       "</div>"
      ],
      "text/plain": [
       "  dispatching_base_number      date  active_vehicles  trips\n",
       "0                  B02512  1/1/2015              190   1132\n",
       "1                  B02765  1/1/2015              225   1765\n",
       "2                  B02764  1/1/2015             3427  29421\n",
       "3                  B02682  1/1/2015              945   7679\n",
       "4                  B02617  1/1/2015             1228   9537"
      ]
     },
     "execution_count": 20,
     "metadata": {},
     "output_type": "execute_result"
    }
   ],
   "source": [
    "uber_foil.head()"
   ]
  },
  {
   "cell_type": "code",
   "execution_count": 21,
   "id": "42a1e7e1",
   "metadata": {},
   "outputs": [
    {
     "name": "stdout",
     "output_type": "stream",
     "text": [
      "Requirement already satisfied: chart_studio in c:\\users\\bhava\\anaconda3\\lib\\site-packages (1.1.0)\n",
      "Requirement already satisfied: six in c:\\users\\bhava\\anaconda3\\lib\\site-packages (from chart_studio) (1.16.0)\n",
      "Requirement already satisfied: requests in c:\\users\\bhava\\anaconda3\\lib\\site-packages (from chart_studio) (2.28.1)\n",
      "Requirement already satisfied: retrying>=1.3.3 in c:\\users\\bhava\\anaconda3\\lib\\site-packages (from chart_studio) (1.3.4)\n",
      "Requirement already satisfied: plotly in c:\\users\\bhava\\anaconda3\\lib\\site-packages (from chart_studio) (5.9.0)\n",
      "Requirement already satisfied: tenacity>=6.2.0 in c:\\users\\bhava\\anaconda3\\lib\\site-packages (from plotly->chart_studio) (8.0.1)\n",
      "Requirement already satisfied: idna<4,>=2.5 in c:\\users\\bhava\\anaconda3\\lib\\site-packages (from requests->chart_studio) (3.3)\n",
      "Requirement already satisfied: urllib3<1.27,>=1.21.1 in c:\\users\\bhava\\anaconda3\\lib\\site-packages (from requests->chart_studio) (1.26.11)\n",
      "Requirement already satisfied: charset-normalizer<3,>=2 in c:\\users\\bhava\\anaconda3\\lib\\site-packages (from requests->chart_studio) (2.0.4)\n",
      "Requirement already satisfied: certifi>=2017.4.17 in c:\\users\\bhava\\anaconda3\\lib\\site-packages (from requests->chart_studio) (2022.9.24)\n",
      "Requirement already satisfied: plotly in c:\\users\\bhava\\anaconda3\\lib\\site-packages (5.9.0)\n",
      "Requirement already satisfied: tenacity>=6.2.0 in c:\\users\\bhava\\anaconda3\\lib\\site-packages (from plotly) (8.0.1)\n"
     ]
    }
   ],
   "source": [
    "!pip install chart_studio\n",
    "!pip install plotly"
   ]
  },
  {
   "cell_type": "code",
   "execution_count": 22,
   "id": "fa91cd10",
   "metadata": {},
   "outputs": [],
   "source": [
    "import chart_studio.plotly as py\n",
    "import plotly.graph_objs as go\n",
    "import plotly.express as px\n",
    "from plotly.offline import download_plotlyjs, init_notebook_mode,plot, iplot"
   ]
  },
  {
   "cell_type": "code",
   "execution_count": 23,
   "id": "097f4962",
   "metadata": {},
   "outputs": [
    {
     "data": {
      "text/html": [
       "        <script type=\"text/javascript\">\n",
       "        window.PlotlyConfig = {MathJaxConfig: 'local'};\n",
       "        if (window.MathJax && window.MathJax.Hub && window.MathJax.Hub.Config) {window.MathJax.Hub.Config({SVG: {font: \"STIX-Web\"}});}\n",
       "        if (typeof require !== 'undefined') {\n",
       "        require.undef(\"plotly\");\n",
       "        requirejs.config({\n",
       "            paths: {\n",
       "                'plotly': ['https://cdn.plot.ly/plotly-2.12.1.min']\n",
       "            }\n",
       "        });\n",
       "        require(['plotly'], function(Plotly) {\n",
       "            window._Plotly = Plotly;\n",
       "        });\n",
       "        }\n",
       "        </script>\n",
       "        "
      ]
     },
     "metadata": {},
     "output_type": "display_data"
    }
   ],
   "source": [
    "init_notebook_mode(connected=True)"
   ]
  },
  {
   "cell_type": "code",
   "execution_count": 24,
   "id": "80a91a0f",
   "metadata": {},
   "outputs": [
    {
     "data": {
      "text/plain": [
       "Index(['dispatching_base_number', 'date', 'active_vehicles', 'trips'], dtype='object')"
      ]
     },
     "execution_count": 24,
     "metadata": {},
     "output_type": "execute_result"
    }
   ],
   "source": [
    "uber_foil.columns"
   ]
  },
  {
   "cell_type": "code",
   "execution_count": 25,
   "id": "bc165b4f",
   "metadata": {},
   "outputs": [
    {
     "data": {
      "application/vnd.plotly.v1+json": {
       "config": {
        "plotlyServerURL": "https://plot.ly"
       },
       "data": [
        {
         "alignmentgroup": "True",
         "hovertemplate": "dispatching_base_number=%{x}<br>active_vehicles=%{y}<extra></extra>",
         "legendgroup": "",
         "marker": {
          "color": "#636efa"
         },
         "name": "",
         "notched": false,
         "offsetgroup": "",
         "orientation": "v",
         "showlegend": false,
         "type": "box",
         "x": [
          "B02512",
          "B02765",
          "B02764",
          "B02682",
          "B02617",
          "B02598",
          "B02598",
          "B02617",
          "B02512",
          "B02682",
          "B02765",
          "B02764",
          "B02765",
          "B02617",
          "B02598",
          "B02682",
          "B02512",
          "B02764",
          "B02512",
          "B02682",
          "B02598",
          "B02765",
          "B02617",
          "B02764",
          "B02512",
          "B02682",
          "B02617",
          "B02764",
          "B02598",
          "B02765",
          "B02764",
          "B02682",
          "B02617",
          "B02765",
          "B02512",
          "B02598",
          "B02617",
          "B02682",
          "B02764",
          "B02765",
          "B02512",
          "B02598",
          "B02765",
          "B02598",
          "B02512",
          "B02682",
          "B02764",
          "B02617",
          "B02617",
          "B02512",
          "B02764",
          "B02682",
          "B02598",
          "B02765",
          "B02682",
          "B02617",
          "B02598",
          "B02512",
          "B02764",
          "B02765",
          "B02765",
          "B02598",
          "B02682",
          "B02764",
          "B02617",
          "B02512",
          "B02764",
          "B02765",
          "B02512",
          "B02598",
          "B02682",
          "B02617",
          "B02765",
          "B02598",
          "B02617",
          "B02512",
          "B02764",
          "B02682",
          "B02764",
          "B02765",
          "B02598",
          "B02512",
          "B02617",
          "B02682",
          "B02512",
          "B02682",
          "B02617",
          "B02765",
          "B02764",
          "B02598",
          "B02617",
          "B02765",
          "B02764",
          "B02682",
          "B02512",
          "B02598",
          "B02598",
          "B02512",
          "B02682",
          "B02765",
          "B02617",
          "B02764",
          "B02512",
          "B02598",
          "B02765",
          "B02764",
          "B02682",
          "B02617",
          "B02682",
          "B02617",
          "B02765",
          "B02764",
          "B02512",
          "B02598",
          "B02598",
          "B02682",
          "B02512",
          "B02764",
          "B02765",
          "B02617",
          "B02764",
          "B02512",
          "B02682",
          "B02598",
          "B02765",
          "B02617",
          "B02617",
          "B02764",
          "B02512",
          "B02598",
          "B02682",
          "B02765",
          "B02598",
          "B02512",
          "B02765",
          "B02764",
          "B02617",
          "B02682",
          "B02598",
          "B02764",
          "B02512",
          "B02617",
          "B02682",
          "B02765",
          "B02512",
          "B02764",
          "B02765",
          "B02598",
          "B02682",
          "B02617",
          "B02617",
          "B02598",
          "B02765",
          "B02764",
          "B02682",
          "B02512",
          "B02682",
          "B02765",
          "B02617",
          "B02598",
          "B02512",
          "B02764",
          "B02764",
          "B02682",
          "B02765",
          "B02617",
          "B02598",
          "B02512",
          "B02617",
          "B02764",
          "B02682",
          "B02765",
          "B02512",
          "B02598",
          "B02512",
          "B02617",
          "B02682",
          "B02764",
          "B02765",
          "B02598",
          "B02765",
          "B02512",
          "B02617",
          "B02682",
          "B02764",
          "B02598",
          "B02598",
          "B02682",
          "B02512",
          "B02765",
          "B02617",
          "B02764",
          "B02617",
          "B02682",
          "B02765",
          "B02598",
          "B02764",
          "B02512",
          "B02765",
          "B02598",
          "B02512",
          "B02764",
          "B02617",
          "B02682",
          "B02764",
          "B02765",
          "B02512",
          "B02682",
          "B02617",
          "B02598",
          "B02617",
          "B02682",
          "B02598",
          "B02512",
          "B02765",
          "B02764",
          "B02617",
          "B02765",
          "B02598",
          "B02512",
          "B02764",
          "B02682",
          "B02598",
          "B02512",
          "B02617",
          "B02682",
          "B02764",
          "B02765",
          "B02764",
          "B02765",
          "B02598",
          "B02617",
          "B02682",
          "B02512",
          "B02617",
          "B02682",
          "B02598",
          "B02764",
          "B02512",
          "B02765",
          "B02764",
          "B02512",
          "B02617",
          "B02765",
          "B02682",
          "B02598",
          "B02617",
          "B02764",
          "B02512",
          "B02598",
          "B02765",
          "B02682",
          "B02617",
          "B02512",
          "B02682",
          "B02765",
          "B02598",
          "B02764",
          "B02617",
          "B02682",
          "B02764",
          "B02765",
          "B02512",
          "B02598",
          "B02764",
          "B02512",
          "B02598",
          "B02765",
          "B02617",
          "B02682",
          "B02682",
          "B02764",
          "B02617",
          "B02765",
          "B02512",
          "B02598",
          "B02598",
          "B02512",
          "B02617",
          "B02764",
          "B02682",
          "B02765",
          "B02764",
          "B02512",
          "B02682",
          "B02617",
          "B02598",
          "B02765",
          "B02598",
          "B02682",
          "B02617",
          "B02765",
          "B02764",
          "B02512",
          "B02598",
          "B02512",
          "B02682",
          "B02764",
          "B02765",
          "B02617",
          "B02764",
          "B02617",
          "B02598",
          "B02682",
          "B02765",
          "B02512",
          "B02598",
          "B02682",
          "B02765",
          "B02617",
          "B02512",
          "B02764",
          "B02512",
          "B02617",
          "B02682",
          "B02764",
          "B02598",
          "B02765",
          "B02598",
          "B02617",
          "B02764",
          "B02682",
          "B02765",
          "B02512",
          "B02764",
          "B02512",
          "B02598",
          "B02682",
          "B02617",
          "B02765",
          "B02512",
          "B02598",
          "B02765",
          "B02682",
          "B02617",
          "B02764",
          "B02598",
          "B02617",
          "B02682",
          "B02512",
          "B02765",
          "B02764",
          "B02765",
          "B02617",
          "B02598",
          "B02512",
          "B02764",
          "B02682",
          "B02598",
          "B02764",
          "B02617",
          "B02682",
          "B02512",
          "B02765"
         ],
         "x0": " ",
         "xaxis": "x",
         "y": [
          190,
          225,
          3427,
          945,
          1228,
          870,
          785,
          1137,
          175,
          890,
          196,
          3147,
          201,
          1188,
          818,
          915,
          173,
          3215,
          147,
          812,
          746,
          183,
          1088,
          2862,
          194,
          951,
          1218,
          3387,
          907,
          227,
          3473,
          1022,
          1336,
          234,
          218,
          933,
          1363,
          1039,
          3603,
          248,
          217,
          974,
          262,
          1070,
          238,
          1135,
          3831,
          1463,
          1455,
          224,
          3820,
          1140,
          1070,
          280,
          1057,
          1331,
          949,
          206,
          3558,
          245,
          220,
          832,
          943,
          3186,
          1228,
          162,
          3499,
          279,
          217,
          964,
          1082,
          1323,
          258,
          975,
          1342,
          234,
          3658,
          1092,
          3736,
          271,
          1030,
          233,
          1405,
          1174,
          237,
          1208,
          1457,
          270,
          3840,
          1068,
          1445,
          290,
          3975,
          1250,
          234,
          1079,
          974,
          201,
          1137,
          252,
          1306,
          3657,
          177,
          869,
          248,
          3290,
          1056,
          1223,
          883,
          992,
          238,
          2958,
          168,
          706,
          944,
          1151,
          221,
          3654,
          272,
          1350,
          3718,
          242,
          1228,
          1035,
          296,
          1429,
          1471,
          3889,
          246,
          1071,
          1295,
          295,
          1093,
          246,
          299,
          4040,
          1482,
          1330,
          945,
          3652,
          211,
          1367,
          1223,
          245,
          183,
          3300,
          226,
          829,
          1046,
          1203,
          1150,
          860,
          230,
          3012,
          1084,
          197,
          600,
          135,
          596,
          434,
          112,
          1619,
          3692,
          1235,
          286,
          1356,
          1011,
          235,
          1474,
          3959,
          1316,
          295,
          250,
          1082,
          256,
          1501,
          1384,
          4124,
          322,
          1106,
          309,
          225,
          1394,
          1321,
          3947,
          1027,
          961,
          1214,
          193,
          289,
          1355,
          3740,
          1217,
          1152,
          275,
          939,
          3270,
          227,
          299,
          991,
          257,
          3674,
          1350,
          1269,
          3856,
          309,
          244,
          1311,
          1393,
          1072,
          1524,
          1418,
          1179,
          264,
          355,
          4093,
          1526,
          385,
          1181,
          261,
          4170,
          1414,
          1031,
          211,
          1383,
          1300,
          3849,
          345,
          3422,
          313,
          923,
          1256,
          1136,
          176,
          1312,
          1241,
          976,
          3543,
          228,
          388,
          3700,
          233,
          1364,
          422,
          1281,
          1029,
          1450,
          3849,
          255,
          1115,
          450,
          1396,
          1532,
          269,
          1468,
          536,
          1181,
          4137,
          1590,
          1523,
          4395,
          599,
          281,
          1216,
          4129,
          236,
          1111,
          583,
          1486,
          1428,
          1261,
          3651,
          1293,
          521,
          210,
          1003,
          934,
          207,
          1214,
          3524,
          1164,
          508,
          3826,
          241,
          1314,
          1378,
          1066,
          578,
          1078,
          1314,
          1394,
          586,
          3842,
          228,
          1127,
          250,
          1428,
          4110,
          663,
          1452,
          4384,
          1574,
          1186,
          1497,
          736,
          272,
          1044,
          1374,
          685,
          1443,
          238,
          3981,
          199,
          1248,
          1220,
          3478,
          909,
          566,
          966,
          1332,
          3734,
          1262,
          665,
          238,
          3965,
          247,
          1061,
          1346,
          1456,
          698,
          246,
          1076,
          706,
          1395,
          1473,
          3934,
          1134,
          1539,
          1465,
          243,
          745,
          4101,
          786,
          1551,
          1114,
          272,
          4253,
          1510,
          994,
          3952,
          1372,
          1386,
          230,
          747
         ],
         "y0": " ",
         "yaxis": "y"
        }
       ],
       "layout": {
        "boxmode": "group",
        "legend": {
         "tracegroupgap": 0
        },
        "margin": {
         "t": 60
        },
        "template": {
         "data": {
          "bar": [
           {
            "error_x": {
             "color": "#2a3f5f"
            },
            "error_y": {
             "color": "#2a3f5f"
            },
            "marker": {
             "line": {
              "color": "#E5ECF6",
              "width": 0.5
             },
             "pattern": {
              "fillmode": "overlay",
              "size": 10,
              "solidity": 0.2
             }
            },
            "type": "bar"
           }
          ],
          "barpolar": [
           {
            "marker": {
             "line": {
              "color": "#E5ECF6",
              "width": 0.5
             },
             "pattern": {
              "fillmode": "overlay",
              "size": 10,
              "solidity": 0.2
             }
            },
            "type": "barpolar"
           }
          ],
          "carpet": [
           {
            "aaxis": {
             "endlinecolor": "#2a3f5f",
             "gridcolor": "white",
             "linecolor": "white",
             "minorgridcolor": "white",
             "startlinecolor": "#2a3f5f"
            },
            "baxis": {
             "endlinecolor": "#2a3f5f",
             "gridcolor": "white",
             "linecolor": "white",
             "minorgridcolor": "white",
             "startlinecolor": "#2a3f5f"
            },
            "type": "carpet"
           }
          ],
          "choropleth": [
           {
            "colorbar": {
             "outlinewidth": 0,
             "ticks": ""
            },
            "type": "choropleth"
           }
          ],
          "contour": [
           {
            "colorbar": {
             "outlinewidth": 0,
             "ticks": ""
            },
            "colorscale": [
             [
              0,
              "#0d0887"
             ],
             [
              0.1111111111111111,
              "#46039f"
             ],
             [
              0.2222222222222222,
              "#7201a8"
             ],
             [
              0.3333333333333333,
              "#9c179e"
             ],
             [
              0.4444444444444444,
              "#bd3786"
             ],
             [
              0.5555555555555556,
              "#d8576b"
             ],
             [
              0.6666666666666666,
              "#ed7953"
             ],
             [
              0.7777777777777778,
              "#fb9f3a"
             ],
             [
              0.8888888888888888,
              "#fdca26"
             ],
             [
              1,
              "#f0f921"
             ]
            ],
            "type": "contour"
           }
          ],
          "contourcarpet": [
           {
            "colorbar": {
             "outlinewidth": 0,
             "ticks": ""
            },
            "type": "contourcarpet"
           }
          ],
          "heatmap": [
           {
            "colorbar": {
             "outlinewidth": 0,
             "ticks": ""
            },
            "colorscale": [
             [
              0,
              "#0d0887"
             ],
             [
              0.1111111111111111,
              "#46039f"
             ],
             [
              0.2222222222222222,
              "#7201a8"
             ],
             [
              0.3333333333333333,
              "#9c179e"
             ],
             [
              0.4444444444444444,
              "#bd3786"
             ],
             [
              0.5555555555555556,
              "#d8576b"
             ],
             [
              0.6666666666666666,
              "#ed7953"
             ],
             [
              0.7777777777777778,
              "#fb9f3a"
             ],
             [
              0.8888888888888888,
              "#fdca26"
             ],
             [
              1,
              "#f0f921"
             ]
            ],
            "type": "heatmap"
           }
          ],
          "heatmapgl": [
           {
            "colorbar": {
             "outlinewidth": 0,
             "ticks": ""
            },
            "colorscale": [
             [
              0,
              "#0d0887"
             ],
             [
              0.1111111111111111,
              "#46039f"
             ],
             [
              0.2222222222222222,
              "#7201a8"
             ],
             [
              0.3333333333333333,
              "#9c179e"
             ],
             [
              0.4444444444444444,
              "#bd3786"
             ],
             [
              0.5555555555555556,
              "#d8576b"
             ],
             [
              0.6666666666666666,
              "#ed7953"
             ],
             [
              0.7777777777777778,
              "#fb9f3a"
             ],
             [
              0.8888888888888888,
              "#fdca26"
             ],
             [
              1,
              "#f0f921"
             ]
            ],
            "type": "heatmapgl"
           }
          ],
          "histogram": [
           {
            "marker": {
             "pattern": {
              "fillmode": "overlay",
              "size": 10,
              "solidity": 0.2
             }
            },
            "type": "histogram"
           }
          ],
          "histogram2d": [
           {
            "colorbar": {
             "outlinewidth": 0,
             "ticks": ""
            },
            "colorscale": [
             [
              0,
              "#0d0887"
             ],
             [
              0.1111111111111111,
              "#46039f"
             ],
             [
              0.2222222222222222,
              "#7201a8"
             ],
             [
              0.3333333333333333,
              "#9c179e"
             ],
             [
              0.4444444444444444,
              "#bd3786"
             ],
             [
              0.5555555555555556,
              "#d8576b"
             ],
             [
              0.6666666666666666,
              "#ed7953"
             ],
             [
              0.7777777777777778,
              "#fb9f3a"
             ],
             [
              0.8888888888888888,
              "#fdca26"
             ],
             [
              1,
              "#f0f921"
             ]
            ],
            "type": "histogram2d"
           }
          ],
          "histogram2dcontour": [
           {
            "colorbar": {
             "outlinewidth": 0,
             "ticks": ""
            },
            "colorscale": [
             [
              0,
              "#0d0887"
             ],
             [
              0.1111111111111111,
              "#46039f"
             ],
             [
              0.2222222222222222,
              "#7201a8"
             ],
             [
              0.3333333333333333,
              "#9c179e"
             ],
             [
              0.4444444444444444,
              "#bd3786"
             ],
             [
              0.5555555555555556,
              "#d8576b"
             ],
             [
              0.6666666666666666,
              "#ed7953"
             ],
             [
              0.7777777777777778,
              "#fb9f3a"
             ],
             [
              0.8888888888888888,
              "#fdca26"
             ],
             [
              1,
              "#f0f921"
             ]
            ],
            "type": "histogram2dcontour"
           }
          ],
          "mesh3d": [
           {
            "colorbar": {
             "outlinewidth": 0,
             "ticks": ""
            },
            "type": "mesh3d"
           }
          ],
          "parcoords": [
           {
            "line": {
             "colorbar": {
              "outlinewidth": 0,
              "ticks": ""
             }
            },
            "type": "parcoords"
           }
          ],
          "pie": [
           {
            "automargin": true,
            "type": "pie"
           }
          ],
          "scatter": [
           {
            "fillpattern": {
             "fillmode": "overlay",
             "size": 10,
             "solidity": 0.2
            },
            "type": "scatter"
           }
          ],
          "scatter3d": [
           {
            "line": {
             "colorbar": {
              "outlinewidth": 0,
              "ticks": ""
             }
            },
            "marker": {
             "colorbar": {
              "outlinewidth": 0,
              "ticks": ""
             }
            },
            "type": "scatter3d"
           }
          ],
          "scattercarpet": [
           {
            "marker": {
             "colorbar": {
              "outlinewidth": 0,
              "ticks": ""
             }
            },
            "type": "scattercarpet"
           }
          ],
          "scattergeo": [
           {
            "marker": {
             "colorbar": {
              "outlinewidth": 0,
              "ticks": ""
             }
            },
            "type": "scattergeo"
           }
          ],
          "scattergl": [
           {
            "marker": {
             "colorbar": {
              "outlinewidth": 0,
              "ticks": ""
             }
            },
            "type": "scattergl"
           }
          ],
          "scattermapbox": [
           {
            "marker": {
             "colorbar": {
              "outlinewidth": 0,
              "ticks": ""
             }
            },
            "type": "scattermapbox"
           }
          ],
          "scatterpolar": [
           {
            "marker": {
             "colorbar": {
              "outlinewidth": 0,
              "ticks": ""
             }
            },
            "type": "scatterpolar"
           }
          ],
          "scatterpolargl": [
           {
            "marker": {
             "colorbar": {
              "outlinewidth": 0,
              "ticks": ""
             }
            },
            "type": "scatterpolargl"
           }
          ],
          "scatterternary": [
           {
            "marker": {
             "colorbar": {
              "outlinewidth": 0,
              "ticks": ""
             }
            },
            "type": "scatterternary"
           }
          ],
          "surface": [
           {
            "colorbar": {
             "outlinewidth": 0,
             "ticks": ""
            },
            "colorscale": [
             [
              0,
              "#0d0887"
             ],
             [
              0.1111111111111111,
              "#46039f"
             ],
             [
              0.2222222222222222,
              "#7201a8"
             ],
             [
              0.3333333333333333,
              "#9c179e"
             ],
             [
              0.4444444444444444,
              "#bd3786"
             ],
             [
              0.5555555555555556,
              "#d8576b"
             ],
             [
              0.6666666666666666,
              "#ed7953"
             ],
             [
              0.7777777777777778,
              "#fb9f3a"
             ],
             [
              0.8888888888888888,
              "#fdca26"
             ],
             [
              1,
              "#f0f921"
             ]
            ],
            "type": "surface"
           }
          ],
          "table": [
           {
            "cells": {
             "fill": {
              "color": "#EBF0F8"
             },
             "line": {
              "color": "white"
             }
            },
            "header": {
             "fill": {
              "color": "#C8D4E3"
             },
             "line": {
              "color": "white"
             }
            },
            "type": "table"
           }
          ]
         },
         "layout": {
          "annotationdefaults": {
           "arrowcolor": "#2a3f5f",
           "arrowhead": 0,
           "arrowwidth": 1
          },
          "autotypenumbers": "strict",
          "coloraxis": {
           "colorbar": {
            "outlinewidth": 0,
            "ticks": ""
           }
          },
          "colorscale": {
           "diverging": [
            [
             0,
             "#8e0152"
            ],
            [
             0.1,
             "#c51b7d"
            ],
            [
             0.2,
             "#de77ae"
            ],
            [
             0.3,
             "#f1b6da"
            ],
            [
             0.4,
             "#fde0ef"
            ],
            [
             0.5,
             "#f7f7f7"
            ],
            [
             0.6,
             "#e6f5d0"
            ],
            [
             0.7,
             "#b8e186"
            ],
            [
             0.8,
             "#7fbc41"
            ],
            [
             0.9,
             "#4d9221"
            ],
            [
             1,
             "#276419"
            ]
           ],
           "sequential": [
            [
             0,
             "#0d0887"
            ],
            [
             0.1111111111111111,
             "#46039f"
            ],
            [
             0.2222222222222222,
             "#7201a8"
            ],
            [
             0.3333333333333333,
             "#9c179e"
            ],
            [
             0.4444444444444444,
             "#bd3786"
            ],
            [
             0.5555555555555556,
             "#d8576b"
            ],
            [
             0.6666666666666666,
             "#ed7953"
            ],
            [
             0.7777777777777778,
             "#fb9f3a"
            ],
            [
             0.8888888888888888,
             "#fdca26"
            ],
            [
             1,
             "#f0f921"
            ]
           ],
           "sequentialminus": [
            [
             0,
             "#0d0887"
            ],
            [
             0.1111111111111111,
             "#46039f"
            ],
            [
             0.2222222222222222,
             "#7201a8"
            ],
            [
             0.3333333333333333,
             "#9c179e"
            ],
            [
             0.4444444444444444,
             "#bd3786"
            ],
            [
             0.5555555555555556,
             "#d8576b"
            ],
            [
             0.6666666666666666,
             "#ed7953"
            ],
            [
             0.7777777777777778,
             "#fb9f3a"
            ],
            [
             0.8888888888888888,
             "#fdca26"
            ],
            [
             1,
             "#f0f921"
            ]
           ]
          },
          "colorway": [
           "#636efa",
           "#EF553B",
           "#00cc96",
           "#ab63fa",
           "#FFA15A",
           "#19d3f3",
           "#FF6692",
           "#B6E880",
           "#FF97FF",
           "#FECB52"
          ],
          "font": {
           "color": "#2a3f5f"
          },
          "geo": {
           "bgcolor": "white",
           "lakecolor": "white",
           "landcolor": "#E5ECF6",
           "showlakes": true,
           "showland": true,
           "subunitcolor": "white"
          },
          "hoverlabel": {
           "align": "left"
          },
          "hovermode": "closest",
          "mapbox": {
           "style": "light"
          },
          "paper_bgcolor": "white",
          "plot_bgcolor": "#E5ECF6",
          "polar": {
           "angularaxis": {
            "gridcolor": "white",
            "linecolor": "white",
            "ticks": ""
           },
           "bgcolor": "#E5ECF6",
           "radialaxis": {
            "gridcolor": "white",
            "linecolor": "white",
            "ticks": ""
           }
          },
          "scene": {
           "xaxis": {
            "backgroundcolor": "#E5ECF6",
            "gridcolor": "white",
            "gridwidth": 2,
            "linecolor": "white",
            "showbackground": true,
            "ticks": "",
            "zerolinecolor": "white"
           },
           "yaxis": {
            "backgroundcolor": "#E5ECF6",
            "gridcolor": "white",
            "gridwidth": 2,
            "linecolor": "white",
            "showbackground": true,
            "ticks": "",
            "zerolinecolor": "white"
           },
           "zaxis": {
            "backgroundcolor": "#E5ECF6",
            "gridcolor": "white",
            "gridwidth": 2,
            "linecolor": "white",
            "showbackground": true,
            "ticks": "",
            "zerolinecolor": "white"
           }
          },
          "shapedefaults": {
           "line": {
            "color": "#2a3f5f"
           }
          },
          "ternary": {
           "aaxis": {
            "gridcolor": "white",
            "linecolor": "white",
            "ticks": ""
           },
           "baxis": {
            "gridcolor": "white",
            "linecolor": "white",
            "ticks": ""
           },
           "bgcolor": "#E5ECF6",
           "caxis": {
            "gridcolor": "white",
            "linecolor": "white",
            "ticks": ""
           }
          },
          "title": {
           "x": 0.05
          },
          "xaxis": {
           "automargin": true,
           "gridcolor": "white",
           "linecolor": "white",
           "ticks": "",
           "title": {
            "standoff": 15
           },
           "zerolinecolor": "white",
           "zerolinewidth": 2
          },
          "yaxis": {
           "automargin": true,
           "gridcolor": "white",
           "linecolor": "white",
           "ticks": "",
           "title": {
            "standoff": 15
           },
           "zerolinecolor": "white",
           "zerolinewidth": 2
          }
         }
        },
        "xaxis": {
         "anchor": "y",
         "domain": [
          0,
          1
         ],
         "title": {
          "text": "dispatching_base_number"
         }
        },
        "yaxis": {
         "anchor": "x",
         "domain": [
          0,
          1
         ],
         "title": {
          "text": "active_vehicles"
         }
        }
       }
      },
      "text/html": [
       "<div>                            <div id=\"b8fe9b98-fdd7-4a70-9cd3-7e69872a7acb\" class=\"plotly-graph-div\" style=\"height:525px; width:100%;\"></div>            <script type=\"text/javascript\">                require([\"plotly\"], function(Plotly) {                    window.PLOTLYENV=window.PLOTLYENV || {};                                    if (document.getElementById(\"b8fe9b98-fdd7-4a70-9cd3-7e69872a7acb\")) {                    Plotly.newPlot(                        \"b8fe9b98-fdd7-4a70-9cd3-7e69872a7acb\",                        [{\"alignmentgroup\":\"True\",\"hovertemplate\":\"dispatching_base_number=%{x}<br>active_vehicles=%{y}<extra></extra>\",\"legendgroup\":\"\",\"marker\":{\"color\":\"#636efa\"},\"name\":\"\",\"notched\":false,\"offsetgroup\":\"\",\"orientation\":\"v\",\"showlegend\":false,\"x\":[\"B02512\",\"B02765\",\"B02764\",\"B02682\",\"B02617\",\"B02598\",\"B02598\",\"B02617\",\"B02512\",\"B02682\",\"B02765\",\"B02764\",\"B02765\",\"B02617\",\"B02598\",\"B02682\",\"B02512\",\"B02764\",\"B02512\",\"B02682\",\"B02598\",\"B02765\",\"B02617\",\"B02764\",\"B02512\",\"B02682\",\"B02617\",\"B02764\",\"B02598\",\"B02765\",\"B02764\",\"B02682\",\"B02617\",\"B02765\",\"B02512\",\"B02598\",\"B02617\",\"B02682\",\"B02764\",\"B02765\",\"B02512\",\"B02598\",\"B02765\",\"B02598\",\"B02512\",\"B02682\",\"B02764\",\"B02617\",\"B02617\",\"B02512\",\"B02764\",\"B02682\",\"B02598\",\"B02765\",\"B02682\",\"B02617\",\"B02598\",\"B02512\",\"B02764\",\"B02765\",\"B02765\",\"B02598\",\"B02682\",\"B02764\",\"B02617\",\"B02512\",\"B02764\",\"B02765\",\"B02512\",\"B02598\",\"B02682\",\"B02617\",\"B02765\",\"B02598\",\"B02617\",\"B02512\",\"B02764\",\"B02682\",\"B02764\",\"B02765\",\"B02598\",\"B02512\",\"B02617\",\"B02682\",\"B02512\",\"B02682\",\"B02617\",\"B02765\",\"B02764\",\"B02598\",\"B02617\",\"B02765\",\"B02764\",\"B02682\",\"B02512\",\"B02598\",\"B02598\",\"B02512\",\"B02682\",\"B02765\",\"B02617\",\"B02764\",\"B02512\",\"B02598\",\"B02765\",\"B02764\",\"B02682\",\"B02617\",\"B02682\",\"B02617\",\"B02765\",\"B02764\",\"B02512\",\"B02598\",\"B02598\",\"B02682\",\"B02512\",\"B02764\",\"B02765\",\"B02617\",\"B02764\",\"B02512\",\"B02682\",\"B02598\",\"B02765\",\"B02617\",\"B02617\",\"B02764\",\"B02512\",\"B02598\",\"B02682\",\"B02765\",\"B02598\",\"B02512\",\"B02765\",\"B02764\",\"B02617\",\"B02682\",\"B02598\",\"B02764\",\"B02512\",\"B02617\",\"B02682\",\"B02765\",\"B02512\",\"B02764\",\"B02765\",\"B02598\",\"B02682\",\"B02617\",\"B02617\",\"B02598\",\"B02765\",\"B02764\",\"B02682\",\"B02512\",\"B02682\",\"B02765\",\"B02617\",\"B02598\",\"B02512\",\"B02764\",\"B02764\",\"B02682\",\"B02765\",\"B02617\",\"B02598\",\"B02512\",\"B02617\",\"B02764\",\"B02682\",\"B02765\",\"B02512\",\"B02598\",\"B02512\",\"B02617\",\"B02682\",\"B02764\",\"B02765\",\"B02598\",\"B02765\",\"B02512\",\"B02617\",\"B02682\",\"B02764\",\"B02598\",\"B02598\",\"B02682\",\"B02512\",\"B02765\",\"B02617\",\"B02764\",\"B02617\",\"B02682\",\"B02765\",\"B02598\",\"B02764\",\"B02512\",\"B02765\",\"B02598\",\"B02512\",\"B02764\",\"B02617\",\"B02682\",\"B02764\",\"B02765\",\"B02512\",\"B02682\",\"B02617\",\"B02598\",\"B02617\",\"B02682\",\"B02598\",\"B02512\",\"B02765\",\"B02764\",\"B02617\",\"B02765\",\"B02598\",\"B02512\",\"B02764\",\"B02682\",\"B02598\",\"B02512\",\"B02617\",\"B02682\",\"B02764\",\"B02765\",\"B02764\",\"B02765\",\"B02598\",\"B02617\",\"B02682\",\"B02512\",\"B02617\",\"B02682\",\"B02598\",\"B02764\",\"B02512\",\"B02765\",\"B02764\",\"B02512\",\"B02617\",\"B02765\",\"B02682\",\"B02598\",\"B02617\",\"B02764\",\"B02512\",\"B02598\",\"B02765\",\"B02682\",\"B02617\",\"B02512\",\"B02682\",\"B02765\",\"B02598\",\"B02764\",\"B02617\",\"B02682\",\"B02764\",\"B02765\",\"B02512\",\"B02598\",\"B02764\",\"B02512\",\"B02598\",\"B02765\",\"B02617\",\"B02682\",\"B02682\",\"B02764\",\"B02617\",\"B02765\",\"B02512\",\"B02598\",\"B02598\",\"B02512\",\"B02617\",\"B02764\",\"B02682\",\"B02765\",\"B02764\",\"B02512\",\"B02682\",\"B02617\",\"B02598\",\"B02765\",\"B02598\",\"B02682\",\"B02617\",\"B02765\",\"B02764\",\"B02512\",\"B02598\",\"B02512\",\"B02682\",\"B02764\",\"B02765\",\"B02617\",\"B02764\",\"B02617\",\"B02598\",\"B02682\",\"B02765\",\"B02512\",\"B02598\",\"B02682\",\"B02765\",\"B02617\",\"B02512\",\"B02764\",\"B02512\",\"B02617\",\"B02682\",\"B02764\",\"B02598\",\"B02765\",\"B02598\",\"B02617\",\"B02764\",\"B02682\",\"B02765\",\"B02512\",\"B02764\",\"B02512\",\"B02598\",\"B02682\",\"B02617\",\"B02765\",\"B02512\",\"B02598\",\"B02765\",\"B02682\",\"B02617\",\"B02764\",\"B02598\",\"B02617\",\"B02682\",\"B02512\",\"B02765\",\"B02764\",\"B02765\",\"B02617\",\"B02598\",\"B02512\",\"B02764\",\"B02682\",\"B02598\",\"B02764\",\"B02617\",\"B02682\",\"B02512\",\"B02765\"],\"x0\":\" \",\"xaxis\":\"x\",\"y\":[190,225,3427,945,1228,870,785,1137,175,890,196,3147,201,1188,818,915,173,3215,147,812,746,183,1088,2862,194,951,1218,3387,907,227,3473,1022,1336,234,218,933,1363,1039,3603,248,217,974,262,1070,238,1135,3831,1463,1455,224,3820,1140,1070,280,1057,1331,949,206,3558,245,220,832,943,3186,1228,162,3499,279,217,964,1082,1323,258,975,1342,234,3658,1092,3736,271,1030,233,1405,1174,237,1208,1457,270,3840,1068,1445,290,3975,1250,234,1079,974,201,1137,252,1306,3657,177,869,248,3290,1056,1223,883,992,238,2958,168,706,944,1151,221,3654,272,1350,3718,242,1228,1035,296,1429,1471,3889,246,1071,1295,295,1093,246,299,4040,1482,1330,945,3652,211,1367,1223,245,183,3300,226,829,1046,1203,1150,860,230,3012,1084,197,600,135,596,434,112,1619,3692,1235,286,1356,1011,235,1474,3959,1316,295,250,1082,256,1501,1384,4124,322,1106,309,225,1394,1321,3947,1027,961,1214,193,289,1355,3740,1217,1152,275,939,3270,227,299,991,257,3674,1350,1269,3856,309,244,1311,1393,1072,1524,1418,1179,264,355,4093,1526,385,1181,261,4170,1414,1031,211,1383,1300,3849,345,3422,313,923,1256,1136,176,1312,1241,976,3543,228,388,3700,233,1364,422,1281,1029,1450,3849,255,1115,450,1396,1532,269,1468,536,1181,4137,1590,1523,4395,599,281,1216,4129,236,1111,583,1486,1428,1261,3651,1293,521,210,1003,934,207,1214,3524,1164,508,3826,241,1314,1378,1066,578,1078,1314,1394,586,3842,228,1127,250,1428,4110,663,1452,4384,1574,1186,1497,736,272,1044,1374,685,1443,238,3981,199,1248,1220,3478,909,566,966,1332,3734,1262,665,238,3965,247,1061,1346,1456,698,246,1076,706,1395,1473,3934,1134,1539,1465,243,745,4101,786,1551,1114,272,4253,1510,994,3952,1372,1386,230,747],\"y0\":\" \",\"yaxis\":\"y\",\"type\":\"box\"}],                        {\"template\":{\"data\":{\"histogram2dcontour\":[{\"type\":\"histogram2dcontour\",\"colorbar\":{\"outlinewidth\":0,\"ticks\":\"\"},\"colorscale\":[[0.0,\"#0d0887\"],[0.1111111111111111,\"#46039f\"],[0.2222222222222222,\"#7201a8\"],[0.3333333333333333,\"#9c179e\"],[0.4444444444444444,\"#bd3786\"],[0.5555555555555556,\"#d8576b\"],[0.6666666666666666,\"#ed7953\"],[0.7777777777777778,\"#fb9f3a\"],[0.8888888888888888,\"#fdca26\"],[1.0,\"#f0f921\"]]}],\"choropleth\":[{\"type\":\"choropleth\",\"colorbar\":{\"outlinewidth\":0,\"ticks\":\"\"}}],\"histogram2d\":[{\"type\":\"histogram2d\",\"colorbar\":{\"outlinewidth\":0,\"ticks\":\"\"},\"colorscale\":[[0.0,\"#0d0887\"],[0.1111111111111111,\"#46039f\"],[0.2222222222222222,\"#7201a8\"],[0.3333333333333333,\"#9c179e\"],[0.4444444444444444,\"#bd3786\"],[0.5555555555555556,\"#d8576b\"],[0.6666666666666666,\"#ed7953\"],[0.7777777777777778,\"#fb9f3a\"],[0.8888888888888888,\"#fdca26\"],[1.0,\"#f0f921\"]]}],\"heatmap\":[{\"type\":\"heatmap\",\"colorbar\":{\"outlinewidth\":0,\"ticks\":\"\"},\"colorscale\":[[0.0,\"#0d0887\"],[0.1111111111111111,\"#46039f\"],[0.2222222222222222,\"#7201a8\"],[0.3333333333333333,\"#9c179e\"],[0.4444444444444444,\"#bd3786\"],[0.5555555555555556,\"#d8576b\"],[0.6666666666666666,\"#ed7953\"],[0.7777777777777778,\"#fb9f3a\"],[0.8888888888888888,\"#fdca26\"],[1.0,\"#f0f921\"]]}],\"heatmapgl\":[{\"type\":\"heatmapgl\",\"colorbar\":{\"outlinewidth\":0,\"ticks\":\"\"},\"colorscale\":[[0.0,\"#0d0887\"],[0.1111111111111111,\"#46039f\"],[0.2222222222222222,\"#7201a8\"],[0.3333333333333333,\"#9c179e\"],[0.4444444444444444,\"#bd3786\"],[0.5555555555555556,\"#d8576b\"],[0.6666666666666666,\"#ed7953\"],[0.7777777777777778,\"#fb9f3a\"],[0.8888888888888888,\"#fdca26\"],[1.0,\"#f0f921\"]]}],\"contourcarpet\":[{\"type\":\"contourcarpet\",\"colorbar\":{\"outlinewidth\":0,\"ticks\":\"\"}}],\"contour\":[{\"type\":\"contour\",\"colorbar\":{\"outlinewidth\":0,\"ticks\":\"\"},\"colorscale\":[[0.0,\"#0d0887\"],[0.1111111111111111,\"#46039f\"],[0.2222222222222222,\"#7201a8\"],[0.3333333333333333,\"#9c179e\"],[0.4444444444444444,\"#bd3786\"],[0.5555555555555556,\"#d8576b\"],[0.6666666666666666,\"#ed7953\"],[0.7777777777777778,\"#fb9f3a\"],[0.8888888888888888,\"#fdca26\"],[1.0,\"#f0f921\"]]}],\"surface\":[{\"type\":\"surface\",\"colorbar\":{\"outlinewidth\":0,\"ticks\":\"\"},\"colorscale\":[[0.0,\"#0d0887\"],[0.1111111111111111,\"#46039f\"],[0.2222222222222222,\"#7201a8\"],[0.3333333333333333,\"#9c179e\"],[0.4444444444444444,\"#bd3786\"],[0.5555555555555556,\"#d8576b\"],[0.6666666666666666,\"#ed7953\"],[0.7777777777777778,\"#fb9f3a\"],[0.8888888888888888,\"#fdca26\"],[1.0,\"#f0f921\"]]}],\"mesh3d\":[{\"type\":\"mesh3d\",\"colorbar\":{\"outlinewidth\":0,\"ticks\":\"\"}}],\"scatter\":[{\"fillpattern\":{\"fillmode\":\"overlay\",\"size\":10,\"solidity\":0.2},\"type\":\"scatter\"}],\"parcoords\":[{\"type\":\"parcoords\",\"line\":{\"colorbar\":{\"outlinewidth\":0,\"ticks\":\"\"}}}],\"scatterpolargl\":[{\"type\":\"scatterpolargl\",\"marker\":{\"colorbar\":{\"outlinewidth\":0,\"ticks\":\"\"}}}],\"bar\":[{\"error_x\":{\"color\":\"#2a3f5f\"},\"error_y\":{\"color\":\"#2a3f5f\"},\"marker\":{\"line\":{\"color\":\"#E5ECF6\",\"width\":0.5},\"pattern\":{\"fillmode\":\"overlay\",\"size\":10,\"solidity\":0.2}},\"type\":\"bar\"}],\"scattergeo\":[{\"type\":\"scattergeo\",\"marker\":{\"colorbar\":{\"outlinewidth\":0,\"ticks\":\"\"}}}],\"scatterpolar\":[{\"type\":\"scatterpolar\",\"marker\":{\"colorbar\":{\"outlinewidth\":0,\"ticks\":\"\"}}}],\"histogram\":[{\"marker\":{\"pattern\":{\"fillmode\":\"overlay\",\"size\":10,\"solidity\":0.2}},\"type\":\"histogram\"}],\"scattergl\":[{\"type\":\"scattergl\",\"marker\":{\"colorbar\":{\"outlinewidth\":0,\"ticks\":\"\"}}}],\"scatter3d\":[{\"type\":\"scatter3d\",\"line\":{\"colorbar\":{\"outlinewidth\":0,\"ticks\":\"\"}},\"marker\":{\"colorbar\":{\"outlinewidth\":0,\"ticks\":\"\"}}}],\"scattermapbox\":[{\"type\":\"scattermapbox\",\"marker\":{\"colorbar\":{\"outlinewidth\":0,\"ticks\":\"\"}}}],\"scatterternary\":[{\"type\":\"scatterternary\",\"marker\":{\"colorbar\":{\"outlinewidth\":0,\"ticks\":\"\"}}}],\"scattercarpet\":[{\"type\":\"scattercarpet\",\"marker\":{\"colorbar\":{\"outlinewidth\":0,\"ticks\":\"\"}}}],\"carpet\":[{\"aaxis\":{\"endlinecolor\":\"#2a3f5f\",\"gridcolor\":\"white\",\"linecolor\":\"white\",\"minorgridcolor\":\"white\",\"startlinecolor\":\"#2a3f5f\"},\"baxis\":{\"endlinecolor\":\"#2a3f5f\",\"gridcolor\":\"white\",\"linecolor\":\"white\",\"minorgridcolor\":\"white\",\"startlinecolor\":\"#2a3f5f\"},\"type\":\"carpet\"}],\"table\":[{\"cells\":{\"fill\":{\"color\":\"#EBF0F8\"},\"line\":{\"color\":\"white\"}},\"header\":{\"fill\":{\"color\":\"#C8D4E3\"},\"line\":{\"color\":\"white\"}},\"type\":\"table\"}],\"barpolar\":[{\"marker\":{\"line\":{\"color\":\"#E5ECF6\",\"width\":0.5},\"pattern\":{\"fillmode\":\"overlay\",\"size\":10,\"solidity\":0.2}},\"type\":\"barpolar\"}],\"pie\":[{\"automargin\":true,\"type\":\"pie\"}]},\"layout\":{\"autotypenumbers\":\"strict\",\"colorway\":[\"#636efa\",\"#EF553B\",\"#00cc96\",\"#ab63fa\",\"#FFA15A\",\"#19d3f3\",\"#FF6692\",\"#B6E880\",\"#FF97FF\",\"#FECB52\"],\"font\":{\"color\":\"#2a3f5f\"},\"hovermode\":\"closest\",\"hoverlabel\":{\"align\":\"left\"},\"paper_bgcolor\":\"white\",\"plot_bgcolor\":\"#E5ECF6\",\"polar\":{\"bgcolor\":\"#E5ECF6\",\"angularaxis\":{\"gridcolor\":\"white\",\"linecolor\":\"white\",\"ticks\":\"\"},\"radialaxis\":{\"gridcolor\":\"white\",\"linecolor\":\"white\",\"ticks\":\"\"}},\"ternary\":{\"bgcolor\":\"#E5ECF6\",\"aaxis\":{\"gridcolor\":\"white\",\"linecolor\":\"white\",\"ticks\":\"\"},\"baxis\":{\"gridcolor\":\"white\",\"linecolor\":\"white\",\"ticks\":\"\"},\"caxis\":{\"gridcolor\":\"white\",\"linecolor\":\"white\",\"ticks\":\"\"}},\"coloraxis\":{\"colorbar\":{\"outlinewidth\":0,\"ticks\":\"\"}},\"colorscale\":{\"sequential\":[[0.0,\"#0d0887\"],[0.1111111111111111,\"#46039f\"],[0.2222222222222222,\"#7201a8\"],[0.3333333333333333,\"#9c179e\"],[0.4444444444444444,\"#bd3786\"],[0.5555555555555556,\"#d8576b\"],[0.6666666666666666,\"#ed7953\"],[0.7777777777777778,\"#fb9f3a\"],[0.8888888888888888,\"#fdca26\"],[1.0,\"#f0f921\"]],\"sequentialminus\":[[0.0,\"#0d0887\"],[0.1111111111111111,\"#46039f\"],[0.2222222222222222,\"#7201a8\"],[0.3333333333333333,\"#9c179e\"],[0.4444444444444444,\"#bd3786\"],[0.5555555555555556,\"#d8576b\"],[0.6666666666666666,\"#ed7953\"],[0.7777777777777778,\"#fb9f3a\"],[0.8888888888888888,\"#fdca26\"],[1.0,\"#f0f921\"]],\"diverging\":[[0,\"#8e0152\"],[0.1,\"#c51b7d\"],[0.2,\"#de77ae\"],[0.3,\"#f1b6da\"],[0.4,\"#fde0ef\"],[0.5,\"#f7f7f7\"],[0.6,\"#e6f5d0\"],[0.7,\"#b8e186\"],[0.8,\"#7fbc41\"],[0.9,\"#4d9221\"],[1,\"#276419\"]]},\"xaxis\":{\"gridcolor\":\"white\",\"linecolor\":\"white\",\"ticks\":\"\",\"title\":{\"standoff\":15},\"zerolinecolor\":\"white\",\"automargin\":true,\"zerolinewidth\":2},\"yaxis\":{\"gridcolor\":\"white\",\"linecolor\":\"white\",\"ticks\":\"\",\"title\":{\"standoff\":15},\"zerolinecolor\":\"white\",\"automargin\":true,\"zerolinewidth\":2},\"scene\":{\"xaxis\":{\"backgroundcolor\":\"#E5ECF6\",\"gridcolor\":\"white\",\"linecolor\":\"white\",\"showbackground\":true,\"ticks\":\"\",\"zerolinecolor\":\"white\",\"gridwidth\":2},\"yaxis\":{\"backgroundcolor\":\"#E5ECF6\",\"gridcolor\":\"white\",\"linecolor\":\"white\",\"showbackground\":true,\"ticks\":\"\",\"zerolinecolor\":\"white\",\"gridwidth\":2},\"zaxis\":{\"backgroundcolor\":\"#E5ECF6\",\"gridcolor\":\"white\",\"linecolor\":\"white\",\"showbackground\":true,\"ticks\":\"\",\"zerolinecolor\":\"white\",\"gridwidth\":2}},\"shapedefaults\":{\"line\":{\"color\":\"#2a3f5f\"}},\"annotationdefaults\":{\"arrowcolor\":\"#2a3f5f\",\"arrowhead\":0,\"arrowwidth\":1},\"geo\":{\"bgcolor\":\"white\",\"landcolor\":\"#E5ECF6\",\"subunitcolor\":\"white\",\"showland\":true,\"showlakes\":true,\"lakecolor\":\"white\"},\"title\":{\"x\":0.05},\"mapbox\":{\"style\":\"light\"}}},\"xaxis\":{\"anchor\":\"y\",\"domain\":[0.0,1.0],\"title\":{\"text\":\"dispatching_base_number\"}},\"yaxis\":{\"anchor\":\"x\",\"domain\":[0.0,1.0],\"title\":{\"text\":\"active_vehicles\"}},\"legend\":{\"tracegroupgap\":0},\"margin\":{\"t\":60},\"boxmode\":\"group\"},                        {\"responsive\": true}                    ).then(function(){\n",
       "                            \n",
       "var gd = document.getElementById('b8fe9b98-fdd7-4a70-9cd3-7e69872a7acb');\n",
       "var x = new MutationObserver(function (mutations, observer) {{\n",
       "        var display = window.getComputedStyle(gd).display;\n",
       "        if (!display || display === 'none') {{\n",
       "            console.log([gd, 'removed!']);\n",
       "            Plotly.purge(gd);\n",
       "            observer.disconnect();\n",
       "        }}\n",
       "}});\n",
       "\n",
       "// Listen for the removal of the full notebook cells\n",
       "var notebookContainer = gd.closest('#notebook-container');\n",
       "if (notebookContainer) {{\n",
       "    x.observe(notebookContainer, {childList: true});\n",
       "}}\n",
       "\n",
       "// Listen for the clearing of the current output cell\n",
       "var outputEl = gd.closest('.output');\n",
       "if (outputEl) {{\n",
       "    x.observe(outputEl, {childList: true});\n",
       "}}\n",
       "\n",
       "                        })                };                });            </script>        </div>"
      ]
     },
     "metadata": {},
     "output_type": "display_data"
    }
   ],
   "source": [
    "px.box(x=\"dispatching_base_number\",y=\"active_vehicles\",data_frame=uber_foil)"
   ]
  },
  {
   "cell_type": "code",
   "execution_count": 26,
   "id": "d4471c88",
   "metadata": {},
   "outputs": [
    {
     "data": {
      "application/vnd.plotly.v1+json": {
       "config": {
        "plotlyServerURL": "https://plot.ly"
       },
       "data": [
        {
         "alignmentgroup": "True",
         "box": {
          "visible": false
         },
         "hovertemplate": "dispatching_base_number=%{x}<br>active_vehicles=%{y}<extra></extra>",
         "legendgroup": "",
         "marker": {
          "color": "#636efa"
         },
         "name": "",
         "offsetgroup": "",
         "orientation": "v",
         "scalegroup": "True",
         "showlegend": false,
         "type": "violin",
         "x": [
          "B02512",
          "B02765",
          "B02764",
          "B02682",
          "B02617",
          "B02598",
          "B02598",
          "B02617",
          "B02512",
          "B02682",
          "B02765",
          "B02764",
          "B02765",
          "B02617",
          "B02598",
          "B02682",
          "B02512",
          "B02764",
          "B02512",
          "B02682",
          "B02598",
          "B02765",
          "B02617",
          "B02764",
          "B02512",
          "B02682",
          "B02617",
          "B02764",
          "B02598",
          "B02765",
          "B02764",
          "B02682",
          "B02617",
          "B02765",
          "B02512",
          "B02598",
          "B02617",
          "B02682",
          "B02764",
          "B02765",
          "B02512",
          "B02598",
          "B02765",
          "B02598",
          "B02512",
          "B02682",
          "B02764",
          "B02617",
          "B02617",
          "B02512",
          "B02764",
          "B02682",
          "B02598",
          "B02765",
          "B02682",
          "B02617",
          "B02598",
          "B02512",
          "B02764",
          "B02765",
          "B02765",
          "B02598",
          "B02682",
          "B02764",
          "B02617",
          "B02512",
          "B02764",
          "B02765",
          "B02512",
          "B02598",
          "B02682",
          "B02617",
          "B02765",
          "B02598",
          "B02617",
          "B02512",
          "B02764",
          "B02682",
          "B02764",
          "B02765",
          "B02598",
          "B02512",
          "B02617",
          "B02682",
          "B02512",
          "B02682",
          "B02617",
          "B02765",
          "B02764",
          "B02598",
          "B02617",
          "B02765",
          "B02764",
          "B02682",
          "B02512",
          "B02598",
          "B02598",
          "B02512",
          "B02682",
          "B02765",
          "B02617",
          "B02764",
          "B02512",
          "B02598",
          "B02765",
          "B02764",
          "B02682",
          "B02617",
          "B02682",
          "B02617",
          "B02765",
          "B02764",
          "B02512",
          "B02598",
          "B02598",
          "B02682",
          "B02512",
          "B02764",
          "B02765",
          "B02617",
          "B02764",
          "B02512",
          "B02682",
          "B02598",
          "B02765",
          "B02617",
          "B02617",
          "B02764",
          "B02512",
          "B02598",
          "B02682",
          "B02765",
          "B02598",
          "B02512",
          "B02765",
          "B02764",
          "B02617",
          "B02682",
          "B02598",
          "B02764",
          "B02512",
          "B02617",
          "B02682",
          "B02765",
          "B02512",
          "B02764",
          "B02765",
          "B02598",
          "B02682",
          "B02617",
          "B02617",
          "B02598",
          "B02765",
          "B02764",
          "B02682",
          "B02512",
          "B02682",
          "B02765",
          "B02617",
          "B02598",
          "B02512",
          "B02764",
          "B02764",
          "B02682",
          "B02765",
          "B02617",
          "B02598",
          "B02512",
          "B02617",
          "B02764",
          "B02682",
          "B02765",
          "B02512",
          "B02598",
          "B02512",
          "B02617",
          "B02682",
          "B02764",
          "B02765",
          "B02598",
          "B02765",
          "B02512",
          "B02617",
          "B02682",
          "B02764",
          "B02598",
          "B02598",
          "B02682",
          "B02512",
          "B02765",
          "B02617",
          "B02764",
          "B02617",
          "B02682",
          "B02765",
          "B02598",
          "B02764",
          "B02512",
          "B02765",
          "B02598",
          "B02512",
          "B02764",
          "B02617",
          "B02682",
          "B02764",
          "B02765",
          "B02512",
          "B02682",
          "B02617",
          "B02598",
          "B02617",
          "B02682",
          "B02598",
          "B02512",
          "B02765",
          "B02764",
          "B02617",
          "B02765",
          "B02598",
          "B02512",
          "B02764",
          "B02682",
          "B02598",
          "B02512",
          "B02617",
          "B02682",
          "B02764",
          "B02765",
          "B02764",
          "B02765",
          "B02598",
          "B02617",
          "B02682",
          "B02512",
          "B02617",
          "B02682",
          "B02598",
          "B02764",
          "B02512",
          "B02765",
          "B02764",
          "B02512",
          "B02617",
          "B02765",
          "B02682",
          "B02598",
          "B02617",
          "B02764",
          "B02512",
          "B02598",
          "B02765",
          "B02682",
          "B02617",
          "B02512",
          "B02682",
          "B02765",
          "B02598",
          "B02764",
          "B02617",
          "B02682",
          "B02764",
          "B02765",
          "B02512",
          "B02598",
          "B02764",
          "B02512",
          "B02598",
          "B02765",
          "B02617",
          "B02682",
          "B02682",
          "B02764",
          "B02617",
          "B02765",
          "B02512",
          "B02598",
          "B02598",
          "B02512",
          "B02617",
          "B02764",
          "B02682",
          "B02765",
          "B02764",
          "B02512",
          "B02682",
          "B02617",
          "B02598",
          "B02765",
          "B02598",
          "B02682",
          "B02617",
          "B02765",
          "B02764",
          "B02512",
          "B02598",
          "B02512",
          "B02682",
          "B02764",
          "B02765",
          "B02617",
          "B02764",
          "B02617",
          "B02598",
          "B02682",
          "B02765",
          "B02512",
          "B02598",
          "B02682",
          "B02765",
          "B02617",
          "B02512",
          "B02764",
          "B02512",
          "B02617",
          "B02682",
          "B02764",
          "B02598",
          "B02765",
          "B02598",
          "B02617",
          "B02764",
          "B02682",
          "B02765",
          "B02512",
          "B02764",
          "B02512",
          "B02598",
          "B02682",
          "B02617",
          "B02765",
          "B02512",
          "B02598",
          "B02765",
          "B02682",
          "B02617",
          "B02764",
          "B02598",
          "B02617",
          "B02682",
          "B02512",
          "B02765",
          "B02764",
          "B02765",
          "B02617",
          "B02598",
          "B02512",
          "B02764",
          "B02682",
          "B02598",
          "B02764",
          "B02617",
          "B02682",
          "B02512",
          "B02765"
         ],
         "x0": " ",
         "xaxis": "x",
         "y": [
          190,
          225,
          3427,
          945,
          1228,
          870,
          785,
          1137,
          175,
          890,
          196,
          3147,
          201,
          1188,
          818,
          915,
          173,
          3215,
          147,
          812,
          746,
          183,
          1088,
          2862,
          194,
          951,
          1218,
          3387,
          907,
          227,
          3473,
          1022,
          1336,
          234,
          218,
          933,
          1363,
          1039,
          3603,
          248,
          217,
          974,
          262,
          1070,
          238,
          1135,
          3831,
          1463,
          1455,
          224,
          3820,
          1140,
          1070,
          280,
          1057,
          1331,
          949,
          206,
          3558,
          245,
          220,
          832,
          943,
          3186,
          1228,
          162,
          3499,
          279,
          217,
          964,
          1082,
          1323,
          258,
          975,
          1342,
          234,
          3658,
          1092,
          3736,
          271,
          1030,
          233,
          1405,
          1174,
          237,
          1208,
          1457,
          270,
          3840,
          1068,
          1445,
          290,
          3975,
          1250,
          234,
          1079,
          974,
          201,
          1137,
          252,
          1306,
          3657,
          177,
          869,
          248,
          3290,
          1056,
          1223,
          883,
          992,
          238,
          2958,
          168,
          706,
          944,
          1151,
          221,
          3654,
          272,
          1350,
          3718,
          242,
          1228,
          1035,
          296,
          1429,
          1471,
          3889,
          246,
          1071,
          1295,
          295,
          1093,
          246,
          299,
          4040,
          1482,
          1330,
          945,
          3652,
          211,
          1367,
          1223,
          245,
          183,
          3300,
          226,
          829,
          1046,
          1203,
          1150,
          860,
          230,
          3012,
          1084,
          197,
          600,
          135,
          596,
          434,
          112,
          1619,
          3692,
          1235,
          286,
          1356,
          1011,
          235,
          1474,
          3959,
          1316,
          295,
          250,
          1082,
          256,
          1501,
          1384,
          4124,
          322,
          1106,
          309,
          225,
          1394,
          1321,
          3947,
          1027,
          961,
          1214,
          193,
          289,
          1355,
          3740,
          1217,
          1152,
          275,
          939,
          3270,
          227,
          299,
          991,
          257,
          3674,
          1350,
          1269,
          3856,
          309,
          244,
          1311,
          1393,
          1072,
          1524,
          1418,
          1179,
          264,
          355,
          4093,
          1526,
          385,
          1181,
          261,
          4170,
          1414,
          1031,
          211,
          1383,
          1300,
          3849,
          345,
          3422,
          313,
          923,
          1256,
          1136,
          176,
          1312,
          1241,
          976,
          3543,
          228,
          388,
          3700,
          233,
          1364,
          422,
          1281,
          1029,
          1450,
          3849,
          255,
          1115,
          450,
          1396,
          1532,
          269,
          1468,
          536,
          1181,
          4137,
          1590,
          1523,
          4395,
          599,
          281,
          1216,
          4129,
          236,
          1111,
          583,
          1486,
          1428,
          1261,
          3651,
          1293,
          521,
          210,
          1003,
          934,
          207,
          1214,
          3524,
          1164,
          508,
          3826,
          241,
          1314,
          1378,
          1066,
          578,
          1078,
          1314,
          1394,
          586,
          3842,
          228,
          1127,
          250,
          1428,
          4110,
          663,
          1452,
          4384,
          1574,
          1186,
          1497,
          736,
          272,
          1044,
          1374,
          685,
          1443,
          238,
          3981,
          199,
          1248,
          1220,
          3478,
          909,
          566,
          966,
          1332,
          3734,
          1262,
          665,
          238,
          3965,
          247,
          1061,
          1346,
          1456,
          698,
          246,
          1076,
          706,
          1395,
          1473,
          3934,
          1134,
          1539,
          1465,
          243,
          745,
          4101,
          786,
          1551,
          1114,
          272,
          4253,
          1510,
          994,
          3952,
          1372,
          1386,
          230,
          747
         ],
         "y0": " ",
         "yaxis": "y"
        }
       ],
       "layout": {
        "legend": {
         "tracegroupgap": 0
        },
        "margin": {
         "t": 60
        },
        "template": {
         "data": {
          "bar": [
           {
            "error_x": {
             "color": "#2a3f5f"
            },
            "error_y": {
             "color": "#2a3f5f"
            },
            "marker": {
             "line": {
              "color": "#E5ECF6",
              "width": 0.5
             },
             "pattern": {
              "fillmode": "overlay",
              "size": 10,
              "solidity": 0.2
             }
            },
            "type": "bar"
           }
          ],
          "barpolar": [
           {
            "marker": {
             "line": {
              "color": "#E5ECF6",
              "width": 0.5
             },
             "pattern": {
              "fillmode": "overlay",
              "size": 10,
              "solidity": 0.2
             }
            },
            "type": "barpolar"
           }
          ],
          "carpet": [
           {
            "aaxis": {
             "endlinecolor": "#2a3f5f",
             "gridcolor": "white",
             "linecolor": "white",
             "minorgridcolor": "white",
             "startlinecolor": "#2a3f5f"
            },
            "baxis": {
             "endlinecolor": "#2a3f5f",
             "gridcolor": "white",
             "linecolor": "white",
             "minorgridcolor": "white",
             "startlinecolor": "#2a3f5f"
            },
            "type": "carpet"
           }
          ],
          "choropleth": [
           {
            "colorbar": {
             "outlinewidth": 0,
             "ticks": ""
            },
            "type": "choropleth"
           }
          ],
          "contour": [
           {
            "colorbar": {
             "outlinewidth": 0,
             "ticks": ""
            },
            "colorscale": [
             [
              0,
              "#0d0887"
             ],
             [
              0.1111111111111111,
              "#46039f"
             ],
             [
              0.2222222222222222,
              "#7201a8"
             ],
             [
              0.3333333333333333,
              "#9c179e"
             ],
             [
              0.4444444444444444,
              "#bd3786"
             ],
             [
              0.5555555555555556,
              "#d8576b"
             ],
             [
              0.6666666666666666,
              "#ed7953"
             ],
             [
              0.7777777777777778,
              "#fb9f3a"
             ],
             [
              0.8888888888888888,
              "#fdca26"
             ],
             [
              1,
              "#f0f921"
             ]
            ],
            "type": "contour"
           }
          ],
          "contourcarpet": [
           {
            "colorbar": {
             "outlinewidth": 0,
             "ticks": ""
            },
            "type": "contourcarpet"
           }
          ],
          "heatmap": [
           {
            "colorbar": {
             "outlinewidth": 0,
             "ticks": ""
            },
            "colorscale": [
             [
              0,
              "#0d0887"
             ],
             [
              0.1111111111111111,
              "#46039f"
             ],
             [
              0.2222222222222222,
              "#7201a8"
             ],
             [
              0.3333333333333333,
              "#9c179e"
             ],
             [
              0.4444444444444444,
              "#bd3786"
             ],
             [
              0.5555555555555556,
              "#d8576b"
             ],
             [
              0.6666666666666666,
              "#ed7953"
             ],
             [
              0.7777777777777778,
              "#fb9f3a"
             ],
             [
              0.8888888888888888,
              "#fdca26"
             ],
             [
              1,
              "#f0f921"
             ]
            ],
            "type": "heatmap"
           }
          ],
          "heatmapgl": [
           {
            "colorbar": {
             "outlinewidth": 0,
             "ticks": ""
            },
            "colorscale": [
             [
              0,
              "#0d0887"
             ],
             [
              0.1111111111111111,
              "#46039f"
             ],
             [
              0.2222222222222222,
              "#7201a8"
             ],
             [
              0.3333333333333333,
              "#9c179e"
             ],
             [
              0.4444444444444444,
              "#bd3786"
             ],
             [
              0.5555555555555556,
              "#d8576b"
             ],
             [
              0.6666666666666666,
              "#ed7953"
             ],
             [
              0.7777777777777778,
              "#fb9f3a"
             ],
             [
              0.8888888888888888,
              "#fdca26"
             ],
             [
              1,
              "#f0f921"
             ]
            ],
            "type": "heatmapgl"
           }
          ],
          "histogram": [
           {
            "marker": {
             "pattern": {
              "fillmode": "overlay",
              "size": 10,
              "solidity": 0.2
             }
            },
            "type": "histogram"
           }
          ],
          "histogram2d": [
           {
            "colorbar": {
             "outlinewidth": 0,
             "ticks": ""
            },
            "colorscale": [
             [
              0,
              "#0d0887"
             ],
             [
              0.1111111111111111,
              "#46039f"
             ],
             [
              0.2222222222222222,
              "#7201a8"
             ],
             [
              0.3333333333333333,
              "#9c179e"
             ],
             [
              0.4444444444444444,
              "#bd3786"
             ],
             [
              0.5555555555555556,
              "#d8576b"
             ],
             [
              0.6666666666666666,
              "#ed7953"
             ],
             [
              0.7777777777777778,
              "#fb9f3a"
             ],
             [
              0.8888888888888888,
              "#fdca26"
             ],
             [
              1,
              "#f0f921"
             ]
            ],
            "type": "histogram2d"
           }
          ],
          "histogram2dcontour": [
           {
            "colorbar": {
             "outlinewidth": 0,
             "ticks": ""
            },
            "colorscale": [
             [
              0,
              "#0d0887"
             ],
             [
              0.1111111111111111,
              "#46039f"
             ],
             [
              0.2222222222222222,
              "#7201a8"
             ],
             [
              0.3333333333333333,
              "#9c179e"
             ],
             [
              0.4444444444444444,
              "#bd3786"
             ],
             [
              0.5555555555555556,
              "#d8576b"
             ],
             [
              0.6666666666666666,
              "#ed7953"
             ],
             [
              0.7777777777777778,
              "#fb9f3a"
             ],
             [
              0.8888888888888888,
              "#fdca26"
             ],
             [
              1,
              "#f0f921"
             ]
            ],
            "type": "histogram2dcontour"
           }
          ],
          "mesh3d": [
           {
            "colorbar": {
             "outlinewidth": 0,
             "ticks": ""
            },
            "type": "mesh3d"
           }
          ],
          "parcoords": [
           {
            "line": {
             "colorbar": {
              "outlinewidth": 0,
              "ticks": ""
             }
            },
            "type": "parcoords"
           }
          ],
          "pie": [
           {
            "automargin": true,
            "type": "pie"
           }
          ],
          "scatter": [
           {
            "fillpattern": {
             "fillmode": "overlay",
             "size": 10,
             "solidity": 0.2
            },
            "type": "scatter"
           }
          ],
          "scatter3d": [
           {
            "line": {
             "colorbar": {
              "outlinewidth": 0,
              "ticks": ""
             }
            },
            "marker": {
             "colorbar": {
              "outlinewidth": 0,
              "ticks": ""
             }
            },
            "type": "scatter3d"
           }
          ],
          "scattercarpet": [
           {
            "marker": {
             "colorbar": {
              "outlinewidth": 0,
              "ticks": ""
             }
            },
            "type": "scattercarpet"
           }
          ],
          "scattergeo": [
           {
            "marker": {
             "colorbar": {
              "outlinewidth": 0,
              "ticks": ""
             }
            },
            "type": "scattergeo"
           }
          ],
          "scattergl": [
           {
            "marker": {
             "colorbar": {
              "outlinewidth": 0,
              "ticks": ""
             }
            },
            "type": "scattergl"
           }
          ],
          "scattermapbox": [
           {
            "marker": {
             "colorbar": {
              "outlinewidth": 0,
              "ticks": ""
             }
            },
            "type": "scattermapbox"
           }
          ],
          "scatterpolar": [
           {
            "marker": {
             "colorbar": {
              "outlinewidth": 0,
              "ticks": ""
             }
            },
            "type": "scatterpolar"
           }
          ],
          "scatterpolargl": [
           {
            "marker": {
             "colorbar": {
              "outlinewidth": 0,
              "ticks": ""
             }
            },
            "type": "scatterpolargl"
           }
          ],
          "scatterternary": [
           {
            "marker": {
             "colorbar": {
              "outlinewidth": 0,
              "ticks": ""
             }
            },
            "type": "scatterternary"
           }
          ],
          "surface": [
           {
            "colorbar": {
             "outlinewidth": 0,
             "ticks": ""
            },
            "colorscale": [
             [
              0,
              "#0d0887"
             ],
             [
              0.1111111111111111,
              "#46039f"
             ],
             [
              0.2222222222222222,
              "#7201a8"
             ],
             [
              0.3333333333333333,
              "#9c179e"
             ],
             [
              0.4444444444444444,
              "#bd3786"
             ],
             [
              0.5555555555555556,
              "#d8576b"
             ],
             [
              0.6666666666666666,
              "#ed7953"
             ],
             [
              0.7777777777777778,
              "#fb9f3a"
             ],
             [
              0.8888888888888888,
              "#fdca26"
             ],
             [
              1,
              "#f0f921"
             ]
            ],
            "type": "surface"
           }
          ],
          "table": [
           {
            "cells": {
             "fill": {
              "color": "#EBF0F8"
             },
             "line": {
              "color": "white"
             }
            },
            "header": {
             "fill": {
              "color": "#C8D4E3"
             },
             "line": {
              "color": "white"
             }
            },
            "type": "table"
           }
          ]
         },
         "layout": {
          "annotationdefaults": {
           "arrowcolor": "#2a3f5f",
           "arrowhead": 0,
           "arrowwidth": 1
          },
          "autotypenumbers": "strict",
          "coloraxis": {
           "colorbar": {
            "outlinewidth": 0,
            "ticks": ""
           }
          },
          "colorscale": {
           "diverging": [
            [
             0,
             "#8e0152"
            ],
            [
             0.1,
             "#c51b7d"
            ],
            [
             0.2,
             "#de77ae"
            ],
            [
             0.3,
             "#f1b6da"
            ],
            [
             0.4,
             "#fde0ef"
            ],
            [
             0.5,
             "#f7f7f7"
            ],
            [
             0.6,
             "#e6f5d0"
            ],
            [
             0.7,
             "#b8e186"
            ],
            [
             0.8,
             "#7fbc41"
            ],
            [
             0.9,
             "#4d9221"
            ],
            [
             1,
             "#276419"
            ]
           ],
           "sequential": [
            [
             0,
             "#0d0887"
            ],
            [
             0.1111111111111111,
             "#46039f"
            ],
            [
             0.2222222222222222,
             "#7201a8"
            ],
            [
             0.3333333333333333,
             "#9c179e"
            ],
            [
             0.4444444444444444,
             "#bd3786"
            ],
            [
             0.5555555555555556,
             "#d8576b"
            ],
            [
             0.6666666666666666,
             "#ed7953"
            ],
            [
             0.7777777777777778,
             "#fb9f3a"
            ],
            [
             0.8888888888888888,
             "#fdca26"
            ],
            [
             1,
             "#f0f921"
            ]
           ],
           "sequentialminus": [
            [
             0,
             "#0d0887"
            ],
            [
             0.1111111111111111,
             "#46039f"
            ],
            [
             0.2222222222222222,
             "#7201a8"
            ],
            [
             0.3333333333333333,
             "#9c179e"
            ],
            [
             0.4444444444444444,
             "#bd3786"
            ],
            [
             0.5555555555555556,
             "#d8576b"
            ],
            [
             0.6666666666666666,
             "#ed7953"
            ],
            [
             0.7777777777777778,
             "#fb9f3a"
            ],
            [
             0.8888888888888888,
             "#fdca26"
            ],
            [
             1,
             "#f0f921"
            ]
           ]
          },
          "colorway": [
           "#636efa",
           "#EF553B",
           "#00cc96",
           "#ab63fa",
           "#FFA15A",
           "#19d3f3",
           "#FF6692",
           "#B6E880",
           "#FF97FF",
           "#FECB52"
          ],
          "font": {
           "color": "#2a3f5f"
          },
          "geo": {
           "bgcolor": "white",
           "lakecolor": "white",
           "landcolor": "#E5ECF6",
           "showlakes": true,
           "showland": true,
           "subunitcolor": "white"
          },
          "hoverlabel": {
           "align": "left"
          },
          "hovermode": "closest",
          "mapbox": {
           "style": "light"
          },
          "paper_bgcolor": "white",
          "plot_bgcolor": "#E5ECF6",
          "polar": {
           "angularaxis": {
            "gridcolor": "white",
            "linecolor": "white",
            "ticks": ""
           },
           "bgcolor": "#E5ECF6",
           "radialaxis": {
            "gridcolor": "white",
            "linecolor": "white",
            "ticks": ""
           }
          },
          "scene": {
           "xaxis": {
            "backgroundcolor": "#E5ECF6",
            "gridcolor": "white",
            "gridwidth": 2,
            "linecolor": "white",
            "showbackground": true,
            "ticks": "",
            "zerolinecolor": "white"
           },
           "yaxis": {
            "backgroundcolor": "#E5ECF6",
            "gridcolor": "white",
            "gridwidth": 2,
            "linecolor": "white",
            "showbackground": true,
            "ticks": "",
            "zerolinecolor": "white"
           },
           "zaxis": {
            "backgroundcolor": "#E5ECF6",
            "gridcolor": "white",
            "gridwidth": 2,
            "linecolor": "white",
            "showbackground": true,
            "ticks": "",
            "zerolinecolor": "white"
           }
          },
          "shapedefaults": {
           "line": {
            "color": "#2a3f5f"
           }
          },
          "ternary": {
           "aaxis": {
            "gridcolor": "white",
            "linecolor": "white",
            "ticks": ""
           },
           "baxis": {
            "gridcolor": "white",
            "linecolor": "white",
            "ticks": ""
           },
           "bgcolor": "#E5ECF6",
           "caxis": {
            "gridcolor": "white",
            "linecolor": "white",
            "ticks": ""
           }
          },
          "title": {
           "x": 0.05
          },
          "xaxis": {
           "automargin": true,
           "gridcolor": "white",
           "linecolor": "white",
           "ticks": "",
           "title": {
            "standoff": 15
           },
           "zerolinecolor": "white",
           "zerolinewidth": 2
          },
          "yaxis": {
           "automargin": true,
           "gridcolor": "white",
           "linecolor": "white",
           "ticks": "",
           "title": {
            "standoff": 15
           },
           "zerolinecolor": "white",
           "zerolinewidth": 2
          }
         }
        },
        "violinmode": "group",
        "xaxis": {
         "anchor": "y",
         "domain": [
          0,
          1
         ],
         "title": {
          "text": "dispatching_base_number"
         }
        },
        "yaxis": {
         "anchor": "x",
         "domain": [
          0,
          1
         ],
         "title": {
          "text": "active_vehicles"
         }
        }
       }
      },
      "text/html": [
       "<div>                            <div id=\"0b080d51-1cd3-4f2d-83d4-d4997afecfd1\" class=\"plotly-graph-div\" style=\"height:525px; width:100%;\"></div>            <script type=\"text/javascript\">                require([\"plotly\"], function(Plotly) {                    window.PLOTLYENV=window.PLOTLYENV || {};                                    if (document.getElementById(\"0b080d51-1cd3-4f2d-83d4-d4997afecfd1\")) {                    Plotly.newPlot(                        \"0b080d51-1cd3-4f2d-83d4-d4997afecfd1\",                        [{\"alignmentgroup\":\"True\",\"box\":{\"visible\":false},\"hovertemplate\":\"dispatching_base_number=%{x}<br>active_vehicles=%{y}<extra></extra>\",\"legendgroup\":\"\",\"marker\":{\"color\":\"#636efa\"},\"name\":\"\",\"offsetgroup\":\"\",\"orientation\":\"v\",\"scalegroup\":\"True\",\"showlegend\":false,\"x\":[\"B02512\",\"B02765\",\"B02764\",\"B02682\",\"B02617\",\"B02598\",\"B02598\",\"B02617\",\"B02512\",\"B02682\",\"B02765\",\"B02764\",\"B02765\",\"B02617\",\"B02598\",\"B02682\",\"B02512\",\"B02764\",\"B02512\",\"B02682\",\"B02598\",\"B02765\",\"B02617\",\"B02764\",\"B02512\",\"B02682\",\"B02617\",\"B02764\",\"B02598\",\"B02765\",\"B02764\",\"B02682\",\"B02617\",\"B02765\",\"B02512\",\"B02598\",\"B02617\",\"B02682\",\"B02764\",\"B02765\",\"B02512\",\"B02598\",\"B02765\",\"B02598\",\"B02512\",\"B02682\",\"B02764\",\"B02617\",\"B02617\",\"B02512\",\"B02764\",\"B02682\",\"B02598\",\"B02765\",\"B02682\",\"B02617\",\"B02598\",\"B02512\",\"B02764\",\"B02765\",\"B02765\",\"B02598\",\"B02682\",\"B02764\",\"B02617\",\"B02512\",\"B02764\",\"B02765\",\"B02512\",\"B02598\",\"B02682\",\"B02617\",\"B02765\",\"B02598\",\"B02617\",\"B02512\",\"B02764\",\"B02682\",\"B02764\",\"B02765\",\"B02598\",\"B02512\",\"B02617\",\"B02682\",\"B02512\",\"B02682\",\"B02617\",\"B02765\",\"B02764\",\"B02598\",\"B02617\",\"B02765\",\"B02764\",\"B02682\",\"B02512\",\"B02598\",\"B02598\",\"B02512\",\"B02682\",\"B02765\",\"B02617\",\"B02764\",\"B02512\",\"B02598\",\"B02765\",\"B02764\",\"B02682\",\"B02617\",\"B02682\",\"B02617\",\"B02765\",\"B02764\",\"B02512\",\"B02598\",\"B02598\",\"B02682\",\"B02512\",\"B02764\",\"B02765\",\"B02617\",\"B02764\",\"B02512\",\"B02682\",\"B02598\",\"B02765\",\"B02617\",\"B02617\",\"B02764\",\"B02512\",\"B02598\",\"B02682\",\"B02765\",\"B02598\",\"B02512\",\"B02765\",\"B02764\",\"B02617\",\"B02682\",\"B02598\",\"B02764\",\"B02512\",\"B02617\",\"B02682\",\"B02765\",\"B02512\",\"B02764\",\"B02765\",\"B02598\",\"B02682\",\"B02617\",\"B02617\",\"B02598\",\"B02765\",\"B02764\",\"B02682\",\"B02512\",\"B02682\",\"B02765\",\"B02617\",\"B02598\",\"B02512\",\"B02764\",\"B02764\",\"B02682\",\"B02765\",\"B02617\",\"B02598\",\"B02512\",\"B02617\",\"B02764\",\"B02682\",\"B02765\",\"B02512\",\"B02598\",\"B02512\",\"B02617\",\"B02682\",\"B02764\",\"B02765\",\"B02598\",\"B02765\",\"B02512\",\"B02617\",\"B02682\",\"B02764\",\"B02598\",\"B02598\",\"B02682\",\"B02512\",\"B02765\",\"B02617\",\"B02764\",\"B02617\",\"B02682\",\"B02765\",\"B02598\",\"B02764\",\"B02512\",\"B02765\",\"B02598\",\"B02512\",\"B02764\",\"B02617\",\"B02682\",\"B02764\",\"B02765\",\"B02512\",\"B02682\",\"B02617\",\"B02598\",\"B02617\",\"B02682\",\"B02598\",\"B02512\",\"B02765\",\"B02764\",\"B02617\",\"B02765\",\"B02598\",\"B02512\",\"B02764\",\"B02682\",\"B02598\",\"B02512\",\"B02617\",\"B02682\",\"B02764\",\"B02765\",\"B02764\",\"B02765\",\"B02598\",\"B02617\",\"B02682\",\"B02512\",\"B02617\",\"B02682\",\"B02598\",\"B02764\",\"B02512\",\"B02765\",\"B02764\",\"B02512\",\"B02617\",\"B02765\",\"B02682\",\"B02598\",\"B02617\",\"B02764\",\"B02512\",\"B02598\",\"B02765\",\"B02682\",\"B02617\",\"B02512\",\"B02682\",\"B02765\",\"B02598\",\"B02764\",\"B02617\",\"B02682\",\"B02764\",\"B02765\",\"B02512\",\"B02598\",\"B02764\",\"B02512\",\"B02598\",\"B02765\",\"B02617\",\"B02682\",\"B02682\",\"B02764\",\"B02617\",\"B02765\",\"B02512\",\"B02598\",\"B02598\",\"B02512\",\"B02617\",\"B02764\",\"B02682\",\"B02765\",\"B02764\",\"B02512\",\"B02682\",\"B02617\",\"B02598\",\"B02765\",\"B02598\",\"B02682\",\"B02617\",\"B02765\",\"B02764\",\"B02512\",\"B02598\",\"B02512\",\"B02682\",\"B02764\",\"B02765\",\"B02617\",\"B02764\",\"B02617\",\"B02598\",\"B02682\",\"B02765\",\"B02512\",\"B02598\",\"B02682\",\"B02765\",\"B02617\",\"B02512\",\"B02764\",\"B02512\",\"B02617\",\"B02682\",\"B02764\",\"B02598\",\"B02765\",\"B02598\",\"B02617\",\"B02764\",\"B02682\",\"B02765\",\"B02512\",\"B02764\",\"B02512\",\"B02598\",\"B02682\",\"B02617\",\"B02765\",\"B02512\",\"B02598\",\"B02765\",\"B02682\",\"B02617\",\"B02764\",\"B02598\",\"B02617\",\"B02682\",\"B02512\",\"B02765\",\"B02764\",\"B02765\",\"B02617\",\"B02598\",\"B02512\",\"B02764\",\"B02682\",\"B02598\",\"B02764\",\"B02617\",\"B02682\",\"B02512\",\"B02765\"],\"x0\":\" \",\"xaxis\":\"x\",\"y\":[190,225,3427,945,1228,870,785,1137,175,890,196,3147,201,1188,818,915,173,3215,147,812,746,183,1088,2862,194,951,1218,3387,907,227,3473,1022,1336,234,218,933,1363,1039,3603,248,217,974,262,1070,238,1135,3831,1463,1455,224,3820,1140,1070,280,1057,1331,949,206,3558,245,220,832,943,3186,1228,162,3499,279,217,964,1082,1323,258,975,1342,234,3658,1092,3736,271,1030,233,1405,1174,237,1208,1457,270,3840,1068,1445,290,3975,1250,234,1079,974,201,1137,252,1306,3657,177,869,248,3290,1056,1223,883,992,238,2958,168,706,944,1151,221,3654,272,1350,3718,242,1228,1035,296,1429,1471,3889,246,1071,1295,295,1093,246,299,4040,1482,1330,945,3652,211,1367,1223,245,183,3300,226,829,1046,1203,1150,860,230,3012,1084,197,600,135,596,434,112,1619,3692,1235,286,1356,1011,235,1474,3959,1316,295,250,1082,256,1501,1384,4124,322,1106,309,225,1394,1321,3947,1027,961,1214,193,289,1355,3740,1217,1152,275,939,3270,227,299,991,257,3674,1350,1269,3856,309,244,1311,1393,1072,1524,1418,1179,264,355,4093,1526,385,1181,261,4170,1414,1031,211,1383,1300,3849,345,3422,313,923,1256,1136,176,1312,1241,976,3543,228,388,3700,233,1364,422,1281,1029,1450,3849,255,1115,450,1396,1532,269,1468,536,1181,4137,1590,1523,4395,599,281,1216,4129,236,1111,583,1486,1428,1261,3651,1293,521,210,1003,934,207,1214,3524,1164,508,3826,241,1314,1378,1066,578,1078,1314,1394,586,3842,228,1127,250,1428,4110,663,1452,4384,1574,1186,1497,736,272,1044,1374,685,1443,238,3981,199,1248,1220,3478,909,566,966,1332,3734,1262,665,238,3965,247,1061,1346,1456,698,246,1076,706,1395,1473,3934,1134,1539,1465,243,745,4101,786,1551,1114,272,4253,1510,994,3952,1372,1386,230,747],\"y0\":\" \",\"yaxis\":\"y\",\"type\":\"violin\"}],                        {\"template\":{\"data\":{\"histogram2dcontour\":[{\"type\":\"histogram2dcontour\",\"colorbar\":{\"outlinewidth\":0,\"ticks\":\"\"},\"colorscale\":[[0.0,\"#0d0887\"],[0.1111111111111111,\"#46039f\"],[0.2222222222222222,\"#7201a8\"],[0.3333333333333333,\"#9c179e\"],[0.4444444444444444,\"#bd3786\"],[0.5555555555555556,\"#d8576b\"],[0.6666666666666666,\"#ed7953\"],[0.7777777777777778,\"#fb9f3a\"],[0.8888888888888888,\"#fdca26\"],[1.0,\"#f0f921\"]]}],\"choropleth\":[{\"type\":\"choropleth\",\"colorbar\":{\"outlinewidth\":0,\"ticks\":\"\"}}],\"histogram2d\":[{\"type\":\"histogram2d\",\"colorbar\":{\"outlinewidth\":0,\"ticks\":\"\"},\"colorscale\":[[0.0,\"#0d0887\"],[0.1111111111111111,\"#46039f\"],[0.2222222222222222,\"#7201a8\"],[0.3333333333333333,\"#9c179e\"],[0.4444444444444444,\"#bd3786\"],[0.5555555555555556,\"#d8576b\"],[0.6666666666666666,\"#ed7953\"],[0.7777777777777778,\"#fb9f3a\"],[0.8888888888888888,\"#fdca26\"],[1.0,\"#f0f921\"]]}],\"heatmap\":[{\"type\":\"heatmap\",\"colorbar\":{\"outlinewidth\":0,\"ticks\":\"\"},\"colorscale\":[[0.0,\"#0d0887\"],[0.1111111111111111,\"#46039f\"],[0.2222222222222222,\"#7201a8\"],[0.3333333333333333,\"#9c179e\"],[0.4444444444444444,\"#bd3786\"],[0.5555555555555556,\"#d8576b\"],[0.6666666666666666,\"#ed7953\"],[0.7777777777777778,\"#fb9f3a\"],[0.8888888888888888,\"#fdca26\"],[1.0,\"#f0f921\"]]}],\"heatmapgl\":[{\"type\":\"heatmapgl\",\"colorbar\":{\"outlinewidth\":0,\"ticks\":\"\"},\"colorscale\":[[0.0,\"#0d0887\"],[0.1111111111111111,\"#46039f\"],[0.2222222222222222,\"#7201a8\"],[0.3333333333333333,\"#9c179e\"],[0.4444444444444444,\"#bd3786\"],[0.5555555555555556,\"#d8576b\"],[0.6666666666666666,\"#ed7953\"],[0.7777777777777778,\"#fb9f3a\"],[0.8888888888888888,\"#fdca26\"],[1.0,\"#f0f921\"]]}],\"contourcarpet\":[{\"type\":\"contourcarpet\",\"colorbar\":{\"outlinewidth\":0,\"ticks\":\"\"}}],\"contour\":[{\"type\":\"contour\",\"colorbar\":{\"outlinewidth\":0,\"ticks\":\"\"},\"colorscale\":[[0.0,\"#0d0887\"],[0.1111111111111111,\"#46039f\"],[0.2222222222222222,\"#7201a8\"],[0.3333333333333333,\"#9c179e\"],[0.4444444444444444,\"#bd3786\"],[0.5555555555555556,\"#d8576b\"],[0.6666666666666666,\"#ed7953\"],[0.7777777777777778,\"#fb9f3a\"],[0.8888888888888888,\"#fdca26\"],[1.0,\"#f0f921\"]]}],\"surface\":[{\"type\":\"surface\",\"colorbar\":{\"outlinewidth\":0,\"ticks\":\"\"},\"colorscale\":[[0.0,\"#0d0887\"],[0.1111111111111111,\"#46039f\"],[0.2222222222222222,\"#7201a8\"],[0.3333333333333333,\"#9c179e\"],[0.4444444444444444,\"#bd3786\"],[0.5555555555555556,\"#d8576b\"],[0.6666666666666666,\"#ed7953\"],[0.7777777777777778,\"#fb9f3a\"],[0.8888888888888888,\"#fdca26\"],[1.0,\"#f0f921\"]]}],\"mesh3d\":[{\"type\":\"mesh3d\",\"colorbar\":{\"outlinewidth\":0,\"ticks\":\"\"}}],\"scatter\":[{\"fillpattern\":{\"fillmode\":\"overlay\",\"size\":10,\"solidity\":0.2},\"type\":\"scatter\"}],\"parcoords\":[{\"type\":\"parcoords\",\"line\":{\"colorbar\":{\"outlinewidth\":0,\"ticks\":\"\"}}}],\"scatterpolargl\":[{\"type\":\"scatterpolargl\",\"marker\":{\"colorbar\":{\"outlinewidth\":0,\"ticks\":\"\"}}}],\"bar\":[{\"error_x\":{\"color\":\"#2a3f5f\"},\"error_y\":{\"color\":\"#2a3f5f\"},\"marker\":{\"line\":{\"color\":\"#E5ECF6\",\"width\":0.5},\"pattern\":{\"fillmode\":\"overlay\",\"size\":10,\"solidity\":0.2}},\"type\":\"bar\"}],\"scattergeo\":[{\"type\":\"scattergeo\",\"marker\":{\"colorbar\":{\"outlinewidth\":0,\"ticks\":\"\"}}}],\"scatterpolar\":[{\"type\":\"scatterpolar\",\"marker\":{\"colorbar\":{\"outlinewidth\":0,\"ticks\":\"\"}}}],\"histogram\":[{\"marker\":{\"pattern\":{\"fillmode\":\"overlay\",\"size\":10,\"solidity\":0.2}},\"type\":\"histogram\"}],\"scattergl\":[{\"type\":\"scattergl\",\"marker\":{\"colorbar\":{\"outlinewidth\":0,\"ticks\":\"\"}}}],\"scatter3d\":[{\"type\":\"scatter3d\",\"line\":{\"colorbar\":{\"outlinewidth\":0,\"ticks\":\"\"}},\"marker\":{\"colorbar\":{\"outlinewidth\":0,\"ticks\":\"\"}}}],\"scattermapbox\":[{\"type\":\"scattermapbox\",\"marker\":{\"colorbar\":{\"outlinewidth\":0,\"ticks\":\"\"}}}],\"scatterternary\":[{\"type\":\"scatterternary\",\"marker\":{\"colorbar\":{\"outlinewidth\":0,\"ticks\":\"\"}}}],\"scattercarpet\":[{\"type\":\"scattercarpet\",\"marker\":{\"colorbar\":{\"outlinewidth\":0,\"ticks\":\"\"}}}],\"carpet\":[{\"aaxis\":{\"endlinecolor\":\"#2a3f5f\",\"gridcolor\":\"white\",\"linecolor\":\"white\",\"minorgridcolor\":\"white\",\"startlinecolor\":\"#2a3f5f\"},\"baxis\":{\"endlinecolor\":\"#2a3f5f\",\"gridcolor\":\"white\",\"linecolor\":\"white\",\"minorgridcolor\":\"white\",\"startlinecolor\":\"#2a3f5f\"},\"type\":\"carpet\"}],\"table\":[{\"cells\":{\"fill\":{\"color\":\"#EBF0F8\"},\"line\":{\"color\":\"white\"}},\"header\":{\"fill\":{\"color\":\"#C8D4E3\"},\"line\":{\"color\":\"white\"}},\"type\":\"table\"}],\"barpolar\":[{\"marker\":{\"line\":{\"color\":\"#E5ECF6\",\"width\":0.5},\"pattern\":{\"fillmode\":\"overlay\",\"size\":10,\"solidity\":0.2}},\"type\":\"barpolar\"}],\"pie\":[{\"automargin\":true,\"type\":\"pie\"}]},\"layout\":{\"autotypenumbers\":\"strict\",\"colorway\":[\"#636efa\",\"#EF553B\",\"#00cc96\",\"#ab63fa\",\"#FFA15A\",\"#19d3f3\",\"#FF6692\",\"#B6E880\",\"#FF97FF\",\"#FECB52\"],\"font\":{\"color\":\"#2a3f5f\"},\"hovermode\":\"closest\",\"hoverlabel\":{\"align\":\"left\"},\"paper_bgcolor\":\"white\",\"plot_bgcolor\":\"#E5ECF6\",\"polar\":{\"bgcolor\":\"#E5ECF6\",\"angularaxis\":{\"gridcolor\":\"white\",\"linecolor\":\"white\",\"ticks\":\"\"},\"radialaxis\":{\"gridcolor\":\"white\",\"linecolor\":\"white\",\"ticks\":\"\"}},\"ternary\":{\"bgcolor\":\"#E5ECF6\",\"aaxis\":{\"gridcolor\":\"white\",\"linecolor\":\"white\",\"ticks\":\"\"},\"baxis\":{\"gridcolor\":\"white\",\"linecolor\":\"white\",\"ticks\":\"\"},\"caxis\":{\"gridcolor\":\"white\",\"linecolor\":\"white\",\"ticks\":\"\"}},\"coloraxis\":{\"colorbar\":{\"outlinewidth\":0,\"ticks\":\"\"}},\"colorscale\":{\"sequential\":[[0.0,\"#0d0887\"],[0.1111111111111111,\"#46039f\"],[0.2222222222222222,\"#7201a8\"],[0.3333333333333333,\"#9c179e\"],[0.4444444444444444,\"#bd3786\"],[0.5555555555555556,\"#d8576b\"],[0.6666666666666666,\"#ed7953\"],[0.7777777777777778,\"#fb9f3a\"],[0.8888888888888888,\"#fdca26\"],[1.0,\"#f0f921\"]],\"sequentialminus\":[[0.0,\"#0d0887\"],[0.1111111111111111,\"#46039f\"],[0.2222222222222222,\"#7201a8\"],[0.3333333333333333,\"#9c179e\"],[0.4444444444444444,\"#bd3786\"],[0.5555555555555556,\"#d8576b\"],[0.6666666666666666,\"#ed7953\"],[0.7777777777777778,\"#fb9f3a\"],[0.8888888888888888,\"#fdca26\"],[1.0,\"#f0f921\"]],\"diverging\":[[0,\"#8e0152\"],[0.1,\"#c51b7d\"],[0.2,\"#de77ae\"],[0.3,\"#f1b6da\"],[0.4,\"#fde0ef\"],[0.5,\"#f7f7f7\"],[0.6,\"#e6f5d0\"],[0.7,\"#b8e186\"],[0.8,\"#7fbc41\"],[0.9,\"#4d9221\"],[1,\"#276419\"]]},\"xaxis\":{\"gridcolor\":\"white\",\"linecolor\":\"white\",\"ticks\":\"\",\"title\":{\"standoff\":15},\"zerolinecolor\":\"white\",\"automargin\":true,\"zerolinewidth\":2},\"yaxis\":{\"gridcolor\":\"white\",\"linecolor\":\"white\",\"ticks\":\"\",\"title\":{\"standoff\":15},\"zerolinecolor\":\"white\",\"automargin\":true,\"zerolinewidth\":2},\"scene\":{\"xaxis\":{\"backgroundcolor\":\"#E5ECF6\",\"gridcolor\":\"white\",\"linecolor\":\"white\",\"showbackground\":true,\"ticks\":\"\",\"zerolinecolor\":\"white\",\"gridwidth\":2},\"yaxis\":{\"backgroundcolor\":\"#E5ECF6\",\"gridcolor\":\"white\",\"linecolor\":\"white\",\"showbackground\":true,\"ticks\":\"\",\"zerolinecolor\":\"white\",\"gridwidth\":2},\"zaxis\":{\"backgroundcolor\":\"#E5ECF6\",\"gridcolor\":\"white\",\"linecolor\":\"white\",\"showbackground\":true,\"ticks\":\"\",\"zerolinecolor\":\"white\",\"gridwidth\":2}},\"shapedefaults\":{\"line\":{\"color\":\"#2a3f5f\"}},\"annotationdefaults\":{\"arrowcolor\":\"#2a3f5f\",\"arrowhead\":0,\"arrowwidth\":1},\"geo\":{\"bgcolor\":\"white\",\"landcolor\":\"#E5ECF6\",\"subunitcolor\":\"white\",\"showland\":true,\"showlakes\":true,\"lakecolor\":\"white\"},\"title\":{\"x\":0.05},\"mapbox\":{\"style\":\"light\"}}},\"xaxis\":{\"anchor\":\"y\",\"domain\":[0.0,1.0],\"title\":{\"text\":\"dispatching_base_number\"}},\"yaxis\":{\"anchor\":\"x\",\"domain\":[0.0,1.0],\"title\":{\"text\":\"active_vehicles\"}},\"legend\":{\"tracegroupgap\":0},\"margin\":{\"t\":60},\"violinmode\":\"group\"},                        {\"responsive\": true}                    ).then(function(){\n",
       "                            \n",
       "var gd = document.getElementById('0b080d51-1cd3-4f2d-83d4-d4997afecfd1');\n",
       "var x = new MutationObserver(function (mutations, observer) {{\n",
       "        var display = window.getComputedStyle(gd).display;\n",
       "        if (!display || display === 'none') {{\n",
       "            console.log([gd, 'removed!']);\n",
       "            Plotly.purge(gd);\n",
       "            observer.disconnect();\n",
       "        }}\n",
       "}});\n",
       "\n",
       "// Listen for the removal of the full notebook cells\n",
       "var notebookContainer = gd.closest('#notebook-container');\n",
       "if (notebookContainer) {{\n",
       "    x.observe(notebookContainer, {childList: true});\n",
       "}}\n",
       "\n",
       "// Listen for the clearing of the current output cell\n",
       "var outputEl = gd.closest('.output');\n",
       "if (outputEl) {{\n",
       "    x.observe(outputEl, {childList: true});\n",
       "}}\n",
       "\n",
       "                        })                };                });            </script>        </div>"
      ]
     },
     "metadata": {},
     "output_type": "display_data"
    }
   ],
   "source": [
    "px.violin(x=\"dispatching_base_number\",y=\"active_vehicles\",data_frame=uber_foil)"
   ]
  },
  {
   "cell_type": "markdown",
   "id": "34ca7ed1",
   "metadata": {},
   "source": [
    "Complete Data Collection"
   ]
  },
  {
   "cell_type": "code",
   "execution_count": 27,
   "id": "a5fd5103",
   "metadata": {},
   "outputs": [],
   "source": [
    "files=os.listdir(r\"C:\\Users\\bhava\\Downloads\\Datasets\\uber\")[-8:]\n"
   ]
  },
  {
   "cell_type": "code",
   "execution_count": 28,
   "id": "84aff30d",
   "metadata": {},
   "outputs": [
    {
     "data": {
      "text/plain": [
       "['uber-raw-data-apr14.csv',\n",
       " 'uber-raw-data-aug14.csv',\n",
       " 'uber-raw-data-janjune-15.csv',\n",
       " 'uber-raw-data-janjune-15_sample.csv',\n",
       " 'uber-raw-data-jul14.csv',\n",
       " 'uber-raw-data-jun14.csv',\n",
       " 'uber-raw-data-may14.csv',\n",
       " 'uber-raw-data-sep14.csv']"
      ]
     },
     "execution_count": 28,
     "metadata": {},
     "output_type": "execute_result"
    }
   ],
   "source": [
    "files"
   ]
  },
  {
   "cell_type": "code",
   "execution_count": 29,
   "id": "81eea675",
   "metadata": {},
   "outputs": [],
   "source": [
    "files.remove(\"uber-raw-data-janjune-15.csv\")"
   ]
  },
  {
   "cell_type": "code",
   "execution_count": 30,
   "id": "2544bc6c",
   "metadata": {},
   "outputs": [
    {
     "data": {
      "text/plain": [
       "['uber-raw-data-apr14.csv',\n",
       " 'uber-raw-data-aug14.csv',\n",
       " 'uber-raw-data-janjune-15_sample.csv',\n",
       " 'uber-raw-data-jul14.csv',\n",
       " 'uber-raw-data-jun14.csv',\n",
       " 'uber-raw-data-may14.csv',\n",
       " 'uber-raw-data-sep14.csv']"
      ]
     },
     "execution_count": 30,
     "metadata": {},
     "output_type": "execute_result"
    }
   ],
   "source": [
    "files"
   ]
  },
  {
   "cell_type": "code",
   "execution_count": 31,
   "id": "62a7e516",
   "metadata": {},
   "outputs": [],
   "source": [
    "finaldf=pd.DataFrame()\n",
    "path=r\"C:\\Users\\bhava\\Downloads\\Datasets\\uber\"\n",
    "for file in files:\n",
    "    currdf=pd.read_csv(path+'/'+file)\n",
    "    finaldf=pd.concat([currdf,finaldf])"
   ]
  },
  {
   "cell_type": "code",
   "execution_count": 32,
   "id": "b25d39ef",
   "metadata": {},
   "outputs": [
    {
     "data": {
      "text/plain": [
       "(4634327, 8)"
      ]
     },
     "execution_count": 32,
     "metadata": {},
     "output_type": "execute_result"
    }
   ],
   "source": [
    "finaldf.shape"
   ]
  },
  {
   "cell_type": "code",
   "execution_count": 33,
   "id": "bdf77c66",
   "metadata": {},
   "outputs": [
    {
     "data": {
      "text/plain": [
       "82635"
      ]
     },
     "execution_count": 33,
     "metadata": {},
     "output_type": "execute_result"
    }
   ],
   "source": [
    "finaldf.duplicated().sum()"
   ]
  },
  {
   "cell_type": "code",
   "execution_count": 34,
   "id": "55705a82",
   "metadata": {},
   "outputs": [],
   "source": [
    "finaldf.drop_duplicates(inplace=True)"
   ]
  },
  {
   "cell_type": "code",
   "execution_count": 35,
   "id": "152104df",
   "metadata": {},
   "outputs": [
    {
     "data": {
      "text/plain": [
       "(4551692, 8)"
      ]
     },
     "execution_count": 35,
     "metadata": {},
     "output_type": "execute_result"
    }
   ],
   "source": [
    "finaldf.shape"
   ]
  },
  {
   "cell_type": "code",
   "execution_count": 36,
   "id": "09edd4ec",
   "metadata": {},
   "outputs": [
    {
     "data": {
      "text/html": [
       "<div>\n",
       "<style scoped>\n",
       "    .dataframe tbody tr th:only-of-type {\n",
       "        vertical-align: middle;\n",
       "    }\n",
       "\n",
       "    .dataframe tbody tr th {\n",
       "        vertical-align: top;\n",
       "    }\n",
       "\n",
       "    .dataframe thead th {\n",
       "        text-align: right;\n",
       "    }\n",
       "</style>\n",
       "<table border=\"1\" class=\"dataframe\">\n",
       "  <thead>\n",
       "    <tr style=\"text-align: right;\">\n",
       "      <th></th>\n",
       "      <th>Date/Time</th>\n",
       "      <th>Lat</th>\n",
       "      <th>Lon</th>\n",
       "      <th>Base</th>\n",
       "      <th>Dispatching_base_num</th>\n",
       "      <th>Pickup_date</th>\n",
       "      <th>Affiliated_base_num</th>\n",
       "      <th>locationID</th>\n",
       "    </tr>\n",
       "  </thead>\n",
       "  <tbody>\n",
       "    <tr>\n",
       "      <th>0</th>\n",
       "      <td>9/1/2014 0:01:00</td>\n",
       "      <td>40.2201</td>\n",
       "      <td>-74.0021</td>\n",
       "      <td>B02512</td>\n",
       "      <td>NaN</td>\n",
       "      <td>NaN</td>\n",
       "      <td>NaN</td>\n",
       "      <td>NaN</td>\n",
       "    </tr>\n",
       "    <tr>\n",
       "      <th>1</th>\n",
       "      <td>9/1/2014 0:01:00</td>\n",
       "      <td>40.7500</td>\n",
       "      <td>-74.0027</td>\n",
       "      <td>B02512</td>\n",
       "      <td>NaN</td>\n",
       "      <td>NaN</td>\n",
       "      <td>NaN</td>\n",
       "      <td>NaN</td>\n",
       "    </tr>\n",
       "    <tr>\n",
       "      <th>2</th>\n",
       "      <td>9/1/2014 0:03:00</td>\n",
       "      <td>40.7559</td>\n",
       "      <td>-73.9864</td>\n",
       "      <td>B02512</td>\n",
       "      <td>NaN</td>\n",
       "      <td>NaN</td>\n",
       "      <td>NaN</td>\n",
       "      <td>NaN</td>\n",
       "    </tr>\n",
       "    <tr>\n",
       "      <th>3</th>\n",
       "      <td>9/1/2014 0:06:00</td>\n",
       "      <td>40.7450</td>\n",
       "      <td>-73.9889</td>\n",
       "      <td>B02512</td>\n",
       "      <td>NaN</td>\n",
       "      <td>NaN</td>\n",
       "      <td>NaN</td>\n",
       "      <td>NaN</td>\n",
       "    </tr>\n",
       "    <tr>\n",
       "      <th>4</th>\n",
       "      <td>9/1/2014 0:11:00</td>\n",
       "      <td>40.8145</td>\n",
       "      <td>-73.9444</td>\n",
       "      <td>B02512</td>\n",
       "      <td>NaN</td>\n",
       "      <td>NaN</td>\n",
       "      <td>NaN</td>\n",
       "      <td>NaN</td>\n",
       "    </tr>\n",
       "    <tr>\n",
       "      <th>...</th>\n",
       "      <td>...</td>\n",
       "      <td>...</td>\n",
       "      <td>...</td>\n",
       "      <td>...</td>\n",
       "      <td>...</td>\n",
       "      <td>...</td>\n",
       "      <td>...</td>\n",
       "      <td>...</td>\n",
       "    </tr>\n",
       "    <tr>\n",
       "      <th>564511</th>\n",
       "      <td>4/30/2014 23:22:00</td>\n",
       "      <td>40.7640</td>\n",
       "      <td>-73.9744</td>\n",
       "      <td>B02764</td>\n",
       "      <td>NaN</td>\n",
       "      <td>NaN</td>\n",
       "      <td>NaN</td>\n",
       "      <td>NaN</td>\n",
       "    </tr>\n",
       "    <tr>\n",
       "      <th>564512</th>\n",
       "      <td>4/30/2014 23:26:00</td>\n",
       "      <td>40.7629</td>\n",
       "      <td>-73.9672</td>\n",
       "      <td>B02764</td>\n",
       "      <td>NaN</td>\n",
       "      <td>NaN</td>\n",
       "      <td>NaN</td>\n",
       "      <td>NaN</td>\n",
       "    </tr>\n",
       "    <tr>\n",
       "      <th>564513</th>\n",
       "      <td>4/30/2014 23:31:00</td>\n",
       "      <td>40.7443</td>\n",
       "      <td>-73.9889</td>\n",
       "      <td>B02764</td>\n",
       "      <td>NaN</td>\n",
       "      <td>NaN</td>\n",
       "      <td>NaN</td>\n",
       "      <td>NaN</td>\n",
       "    </tr>\n",
       "    <tr>\n",
       "      <th>564514</th>\n",
       "      <td>4/30/2014 23:32:00</td>\n",
       "      <td>40.6756</td>\n",
       "      <td>-73.9405</td>\n",
       "      <td>B02764</td>\n",
       "      <td>NaN</td>\n",
       "      <td>NaN</td>\n",
       "      <td>NaN</td>\n",
       "      <td>NaN</td>\n",
       "    </tr>\n",
       "    <tr>\n",
       "      <th>564515</th>\n",
       "      <td>4/30/2014 23:48:00</td>\n",
       "      <td>40.6880</td>\n",
       "      <td>-73.9608</td>\n",
       "      <td>B02764</td>\n",
       "      <td>NaN</td>\n",
       "      <td>NaN</td>\n",
       "      <td>NaN</td>\n",
       "      <td>NaN</td>\n",
       "    </tr>\n",
       "  </tbody>\n",
       "</table>\n",
       "<p>4551692 rows × 8 columns</p>\n",
       "</div>"
      ],
      "text/plain": [
       "                 Date/Time      Lat      Lon    Base Dispatching_base_num  \\\n",
       "0         9/1/2014 0:01:00  40.2201 -74.0021  B02512                  NaN   \n",
       "1         9/1/2014 0:01:00  40.7500 -74.0027  B02512                  NaN   \n",
       "2         9/1/2014 0:03:00  40.7559 -73.9864  B02512                  NaN   \n",
       "3         9/1/2014 0:06:00  40.7450 -73.9889  B02512                  NaN   \n",
       "4         9/1/2014 0:11:00  40.8145 -73.9444  B02512                  NaN   \n",
       "...                    ...      ...      ...     ...                  ...   \n",
       "564511  4/30/2014 23:22:00  40.7640 -73.9744  B02764                  NaN   \n",
       "564512  4/30/2014 23:26:00  40.7629 -73.9672  B02764                  NaN   \n",
       "564513  4/30/2014 23:31:00  40.7443 -73.9889  B02764                  NaN   \n",
       "564514  4/30/2014 23:32:00  40.6756 -73.9405  B02764                  NaN   \n",
       "564515  4/30/2014 23:48:00  40.6880 -73.9608  B02764                  NaN   \n",
       "\n",
       "       Pickup_date Affiliated_base_num  locationID  \n",
       "0              NaN                 NaN         NaN  \n",
       "1              NaN                 NaN         NaN  \n",
       "2              NaN                 NaN         NaN  \n",
       "3              NaN                 NaN         NaN  \n",
       "4              NaN                 NaN         NaN  \n",
       "...            ...                 ...         ...  \n",
       "564511         NaN                 NaN         NaN  \n",
       "564512         NaN                 NaN         NaN  \n",
       "564513         NaN                 NaN         NaN  \n",
       "564514         NaN                 NaN         NaN  \n",
       "564515         NaN                 NaN         NaN  \n",
       "\n",
       "[4551692 rows x 8 columns]"
      ]
     },
     "execution_count": 36,
     "metadata": {},
     "output_type": "execute_result"
    }
   ],
   "source": [
    "finaldf"
   ]
  },
  {
   "cell_type": "code",
   "execution_count": 37,
   "id": "4b2d7802",
   "metadata": {},
   "outputs": [],
   "source": [
    "rush=finaldf.groupby(['Lat','Lon'],as_index=False).size()"
   ]
  },
  {
   "cell_type": "code",
   "execution_count": 38,
   "id": "d213340f",
   "metadata": {},
   "outputs": [
    {
     "data": {
      "text/html": [
       "<div>\n",
       "<style scoped>\n",
       "    .dataframe tbody tr th:only-of-type {\n",
       "        vertical-align: middle;\n",
       "    }\n",
       "\n",
       "    .dataframe tbody tr th {\n",
       "        vertical-align: top;\n",
       "    }\n",
       "\n",
       "    .dataframe thead th {\n",
       "        text-align: right;\n",
       "    }\n",
       "</style>\n",
       "<table border=\"1\" class=\"dataframe\">\n",
       "  <thead>\n",
       "    <tr style=\"text-align: right;\">\n",
       "      <th></th>\n",
       "      <th>Lat</th>\n",
       "      <th>Lon</th>\n",
       "      <th>size</th>\n",
       "    </tr>\n",
       "  </thead>\n",
       "  <tbody>\n",
       "    <tr>\n",
       "      <th>0</th>\n",
       "      <td>39.6569</td>\n",
       "      <td>-74.2258</td>\n",
       "      <td>1</td>\n",
       "    </tr>\n",
       "    <tr>\n",
       "      <th>1</th>\n",
       "      <td>39.6686</td>\n",
       "      <td>-74.1607</td>\n",
       "      <td>1</td>\n",
       "    </tr>\n",
       "    <tr>\n",
       "      <th>2</th>\n",
       "      <td>39.7214</td>\n",
       "      <td>-74.2446</td>\n",
       "      <td>1</td>\n",
       "    </tr>\n",
       "    <tr>\n",
       "      <th>3</th>\n",
       "      <td>39.8416</td>\n",
       "      <td>-74.1512</td>\n",
       "      <td>1</td>\n",
       "    </tr>\n",
       "    <tr>\n",
       "      <th>4</th>\n",
       "      <td>39.9055</td>\n",
       "      <td>-74.0791</td>\n",
       "      <td>1</td>\n",
       "    </tr>\n",
       "    <tr>\n",
       "      <th>...</th>\n",
       "      <td>...</td>\n",
       "      <td>...</td>\n",
       "      <td>...</td>\n",
       "    </tr>\n",
       "    <tr>\n",
       "      <th>574553</th>\n",
       "      <td>41.3730</td>\n",
       "      <td>-72.9237</td>\n",
       "      <td>1</td>\n",
       "    </tr>\n",
       "    <tr>\n",
       "      <th>574554</th>\n",
       "      <td>41.3737</td>\n",
       "      <td>-73.7988</td>\n",
       "      <td>1</td>\n",
       "    </tr>\n",
       "    <tr>\n",
       "      <th>574555</th>\n",
       "      <td>41.5016</td>\n",
       "      <td>-72.8987</td>\n",
       "      <td>1</td>\n",
       "    </tr>\n",
       "    <tr>\n",
       "      <th>574556</th>\n",
       "      <td>41.5276</td>\n",
       "      <td>-72.7734</td>\n",
       "      <td>1</td>\n",
       "    </tr>\n",
       "    <tr>\n",
       "      <th>574557</th>\n",
       "      <td>42.1166</td>\n",
       "      <td>-72.0666</td>\n",
       "      <td>1</td>\n",
       "    </tr>\n",
       "  </tbody>\n",
       "</table>\n",
       "<p>574558 rows × 3 columns</p>\n",
       "</div>"
      ],
      "text/plain": [
       "            Lat      Lon  size\n",
       "0       39.6569 -74.2258     1\n",
       "1       39.6686 -74.1607     1\n",
       "2       39.7214 -74.2446     1\n",
       "3       39.8416 -74.1512     1\n",
       "4       39.9055 -74.0791     1\n",
       "...         ...      ...   ...\n",
       "574553  41.3730 -72.9237     1\n",
       "574554  41.3737 -73.7988     1\n",
       "574555  41.5016 -72.8987     1\n",
       "574556  41.5276 -72.7734     1\n",
       "574557  42.1166 -72.0666     1\n",
       "\n",
       "[574558 rows x 3 columns]"
      ]
     },
     "execution_count": 38,
     "metadata": {},
     "output_type": "execute_result"
    }
   ],
   "source": [
    "rush"
   ]
  },
  {
   "cell_type": "code",
   "execution_count": 39,
   "id": "b974d1c2",
   "metadata": {},
   "outputs": [
    {
     "name": "stdout",
     "output_type": "stream",
     "text": [
      "Requirement already satisfied: folium in c:\\users\\bhava\\anaconda3\\lib\\site-packages (0.14.0)\n",
      "Requirement already satisfied: requests in c:\\users\\bhava\\anaconda3\\lib\\site-packages (from folium) (2.28.1)\n",
      "Requirement already satisfied: numpy in c:\\users\\bhava\\anaconda3\\lib\\site-packages (from folium) (1.23.1)\n",
      "Requirement already satisfied: jinja2>=2.9 in c:\\users\\bhava\\anaconda3\\lib\\site-packages (from folium) (2.11.3)\n",
      "Requirement already satisfied: branca>=0.6.0 in c:\\users\\bhava\\anaconda3\\lib\\site-packages (from folium) (0.6.0)\n",
      "Requirement already satisfied: MarkupSafe>=0.23 in c:\\users\\bhava\\anaconda3\\lib\\site-packages (from jinja2>=2.9->folium) (2.0.1)\n",
      "Requirement already satisfied: urllib3<1.27,>=1.21.1 in c:\\users\\bhava\\anaconda3\\lib\\site-packages (from requests->folium) (1.26.11)\n",
      "Requirement already satisfied: charset-normalizer<3,>=2 in c:\\users\\bhava\\anaconda3\\lib\\site-packages (from requests->folium) (2.0.4)\n",
      "Requirement already satisfied: idna<4,>=2.5 in c:\\users\\bhava\\anaconda3\\lib\\site-packages (from requests->folium) (3.3)\n",
      "Requirement already satisfied: certifi>=2017.4.17 in c:\\users\\bhava\\anaconda3\\lib\\site-packages (from requests->folium) (2022.9.24)\n"
     ]
    }
   ],
   "source": [
    "!pip install folium"
   ]
  },
  {
   "cell_type": "code",
   "execution_count": 40,
   "id": "a9697a4e",
   "metadata": {},
   "outputs": [],
   "source": [
    "import folium\n",
    "from folium.plugins import HeatMap"
   ]
  },
  {
   "cell_type": "code",
   "execution_count": 41,
   "id": "cc447216",
   "metadata": {},
   "outputs": [],
   "source": [
    "basemap=folium.Map()"
   ]
  },
  {
   "cell_type": "code",
   "execution_count": 42,
   "id": "b35341f5",
   "metadata": {},
   "outputs": [
    {
     "data": {
      "text/html": [
       "<div style=\"width:100%;\"><div style=\"position:relative;width:100%;height:0;padding-bottom:60%;\"><span style=\"color:#565656\">Make this Notebook Trusted to load map: File -> Trust Notebook</span><iframe srcdoc=\"&lt;!DOCTYPE html&gt;\n",
       "&lt;html&gt;\n",
       "&lt;head&gt;\n",
       "    \n",
       "    &lt;meta http-equiv=&quot;content-type&quot; content=&quot;text/html; charset=UTF-8&quot; /&gt;\n",
       "    \n",
       "        &lt;script&gt;\n",
       "            L_NO_TOUCH = false;\n",
       "            L_DISABLE_3D = false;\n",
       "        &lt;/script&gt;\n",
       "    \n",
       "    &lt;style&gt;html, body {width: 100%;height: 100%;margin: 0;padding: 0;}&lt;/style&gt;\n",
       "    &lt;style&gt;#map {position:absolute;top:0;bottom:0;right:0;left:0;}&lt;/style&gt;\n",
       "    &lt;script src=&quot;https://cdn.jsdelivr.net/npm/leaflet@1.9.3/dist/leaflet.js&quot;&gt;&lt;/script&gt;\n",
       "    &lt;script src=&quot;https://code.jquery.com/jquery-1.12.4.min.js&quot;&gt;&lt;/script&gt;\n",
       "    &lt;script src=&quot;https://cdn.jsdelivr.net/npm/bootstrap@5.2.2/dist/js/bootstrap.bundle.min.js&quot;&gt;&lt;/script&gt;\n",
       "    &lt;script src=&quot;https://cdnjs.cloudflare.com/ajax/libs/Leaflet.awesome-markers/2.0.2/leaflet.awesome-markers.js&quot;&gt;&lt;/script&gt;\n",
       "    &lt;link rel=&quot;stylesheet&quot; href=&quot;https://cdn.jsdelivr.net/npm/leaflet@1.9.3/dist/leaflet.css&quot;/&gt;\n",
       "    &lt;link rel=&quot;stylesheet&quot; href=&quot;https://cdn.jsdelivr.net/npm/bootstrap@5.2.2/dist/css/bootstrap.min.css&quot;/&gt;\n",
       "    &lt;link rel=&quot;stylesheet&quot; href=&quot;https://netdna.bootstrapcdn.com/bootstrap/3.0.0/css/bootstrap.min.css&quot;/&gt;\n",
       "    &lt;link rel=&quot;stylesheet&quot; href=&quot;https://cdn.jsdelivr.net/npm/@fortawesome/fontawesome-free@6.2.0/css/all.min.css&quot;/&gt;\n",
       "    &lt;link rel=&quot;stylesheet&quot; href=&quot;https://cdnjs.cloudflare.com/ajax/libs/Leaflet.awesome-markers/2.0.2/leaflet.awesome-markers.css&quot;/&gt;\n",
       "    &lt;link rel=&quot;stylesheet&quot; href=&quot;https://cdn.jsdelivr.net/gh/python-visualization/folium/folium/templates/leaflet.awesome.rotate.min.css&quot;/&gt;\n",
       "    \n",
       "            &lt;meta name=&quot;viewport&quot; content=&quot;width=device-width,\n",
       "                initial-scale=1.0, maximum-scale=1.0, user-scalable=no&quot; /&gt;\n",
       "            &lt;style&gt;\n",
       "                #map_d5120c84a376f09dce2a92dc7016e08d {\n",
       "                    position: relative;\n",
       "                    width: 100.0%;\n",
       "                    height: 100.0%;\n",
       "                    left: 0.0%;\n",
       "                    top: 0.0%;\n",
       "                }\n",
       "                .leaflet-container { font-size: 1rem; }\n",
       "            &lt;/style&gt;\n",
       "        \n",
       "&lt;/head&gt;\n",
       "&lt;body&gt;\n",
       "    \n",
       "    \n",
       "            &lt;div class=&quot;folium-map&quot; id=&quot;map_d5120c84a376f09dce2a92dc7016e08d&quot; &gt;&lt;/div&gt;\n",
       "        \n",
       "&lt;/body&gt;\n",
       "&lt;script&gt;\n",
       "    \n",
       "    \n",
       "            var map_d5120c84a376f09dce2a92dc7016e08d = L.map(\n",
       "                &quot;map_d5120c84a376f09dce2a92dc7016e08d&quot;,\n",
       "                {\n",
       "                    center: [0, 0],\n",
       "                    crs: L.CRS.EPSG3857,\n",
       "                    zoom: 1,\n",
       "                    zoomControl: true,\n",
       "                    preferCanvas: false,\n",
       "                }\n",
       "            );\n",
       "\n",
       "            \n",
       "\n",
       "        \n",
       "    \n",
       "            var tile_layer_f119bcabed2f62d2114bf5d5a8450b3f = L.tileLayer(\n",
       "                &quot;https://{s}.tile.openstreetmap.org/{z}/{x}/{y}.png&quot;,\n",
       "                {&quot;attribution&quot;: &quot;Data by \\u0026copy; \\u003ca target=\\&quot;_blank\\&quot; href=\\&quot;http://openstreetmap.org\\&quot;\\u003eOpenStreetMap\\u003c/a\\u003e, under \\u003ca target=\\&quot;_blank\\&quot; href=\\&quot;http://www.openstreetmap.org/copyright\\&quot;\\u003eODbL\\u003c/a\\u003e.&quot;, &quot;detectRetina&quot;: false, &quot;maxNativeZoom&quot;: 18, &quot;maxZoom&quot;: 18, &quot;minZoom&quot;: 0, &quot;noWrap&quot;: false, &quot;opacity&quot;: 1, &quot;subdomains&quot;: &quot;abc&quot;, &quot;tms&quot;: false}\n",
       "            ).addTo(map_d5120c84a376f09dce2a92dc7016e08d);\n",
       "        \n",
       "&lt;/script&gt;\n",
       "&lt;/html&gt;\" style=\"position:absolute;width:100%;height:100%;left:0;top:0;border:none !important;\" allowfullscreen webkitallowfullscreen mozallowfullscreen></iframe></div></div>"
      ],
      "text/plain": [
       "<folium.folium.Map at 0x227348f2ee0>"
      ]
     },
     "execution_count": 42,
     "metadata": {},
     "output_type": "execute_result"
    }
   ],
   "source": [
    "basemap"
   ]
  },
  {
   "cell_type": "code",
   "execution_count": 43,
   "id": "bb2c3332",
   "metadata": {},
   "outputs": [
    {
     "data": {
      "text/plain": [
       "<folium.plugins.heat_map.HeatMap at 0x227002f81f0>"
      ]
     },
     "execution_count": 43,
     "metadata": {},
     "output_type": "execute_result"
    }
   ],
   "source": [
    "HeatMap(rush).add_to(basemap)"
   ]
  },
  {
   "cell_type": "markdown",
   "id": "0501f5b6",
   "metadata": {},
   "source": [
    "Pairwise Analysis to figure out Rush"
   ]
  },
  {
   "cell_type": "code",
   "execution_count": 44,
   "id": "ffd56cc0",
   "metadata": {},
   "outputs": [
    {
     "data": {
      "text/html": [
       "<div>\n",
       "<style scoped>\n",
       "    .dataframe tbody tr th:only-of-type {\n",
       "        vertical-align: middle;\n",
       "    }\n",
       "\n",
       "    .dataframe tbody tr th {\n",
       "        vertical-align: top;\n",
       "    }\n",
       "\n",
       "    .dataframe thead th {\n",
       "        text-align: right;\n",
       "    }\n",
       "</style>\n",
       "<table border=\"1\" class=\"dataframe\">\n",
       "  <thead>\n",
       "    <tr style=\"text-align: right;\">\n",
       "      <th></th>\n",
       "      <th>Date/Time</th>\n",
       "      <th>Lat</th>\n",
       "      <th>Lon</th>\n",
       "      <th>Base</th>\n",
       "      <th>Dispatching_base_num</th>\n",
       "      <th>Pickup_date</th>\n",
       "      <th>Affiliated_base_num</th>\n",
       "      <th>locationID</th>\n",
       "    </tr>\n",
       "  </thead>\n",
       "  <tbody>\n",
       "    <tr>\n",
       "      <th>0</th>\n",
       "      <td>9/1/2014 0:01:00</td>\n",
       "      <td>40.2201</td>\n",
       "      <td>-74.0021</td>\n",
       "      <td>B02512</td>\n",
       "      <td>NaN</td>\n",
       "      <td>NaN</td>\n",
       "      <td>NaN</td>\n",
       "      <td>NaN</td>\n",
       "    </tr>\n",
       "    <tr>\n",
       "      <th>1</th>\n",
       "      <td>9/1/2014 0:01:00</td>\n",
       "      <td>40.7500</td>\n",
       "      <td>-74.0027</td>\n",
       "      <td>B02512</td>\n",
       "      <td>NaN</td>\n",
       "      <td>NaN</td>\n",
       "      <td>NaN</td>\n",
       "      <td>NaN</td>\n",
       "    </tr>\n",
       "    <tr>\n",
       "      <th>2</th>\n",
       "      <td>9/1/2014 0:03:00</td>\n",
       "      <td>40.7559</td>\n",
       "      <td>-73.9864</td>\n",
       "      <td>B02512</td>\n",
       "      <td>NaN</td>\n",
       "      <td>NaN</td>\n",
       "      <td>NaN</td>\n",
       "      <td>NaN</td>\n",
       "    </tr>\n",
       "    <tr>\n",
       "      <th>3</th>\n",
       "      <td>9/1/2014 0:06:00</td>\n",
       "      <td>40.7450</td>\n",
       "      <td>-73.9889</td>\n",
       "      <td>B02512</td>\n",
       "      <td>NaN</td>\n",
       "      <td>NaN</td>\n",
       "      <td>NaN</td>\n",
       "      <td>NaN</td>\n",
       "    </tr>\n",
       "    <tr>\n",
       "      <th>4</th>\n",
       "      <td>9/1/2014 0:11:00</td>\n",
       "      <td>40.8145</td>\n",
       "      <td>-73.9444</td>\n",
       "      <td>B02512</td>\n",
       "      <td>NaN</td>\n",
       "      <td>NaN</td>\n",
       "      <td>NaN</td>\n",
       "      <td>NaN</td>\n",
       "    </tr>\n",
       "  </tbody>\n",
       "</table>\n",
       "</div>"
      ],
      "text/plain": [
       "          Date/Time      Lat      Lon    Base Dispatching_base_num  \\\n",
       "0  9/1/2014 0:01:00  40.2201 -74.0021  B02512                  NaN   \n",
       "1  9/1/2014 0:01:00  40.7500 -74.0027  B02512                  NaN   \n",
       "2  9/1/2014 0:03:00  40.7559 -73.9864  B02512                  NaN   \n",
       "3  9/1/2014 0:06:00  40.7450 -73.9889  B02512                  NaN   \n",
       "4  9/1/2014 0:11:00  40.8145 -73.9444  B02512                  NaN   \n",
       "\n",
       "  Pickup_date Affiliated_base_num  locationID  \n",
       "0         NaN                 NaN         NaN  \n",
       "1         NaN                 NaN         NaN  \n",
       "2         NaN                 NaN         NaN  \n",
       "3         NaN                 NaN         NaN  \n",
       "4         NaN                 NaN         NaN  "
      ]
     },
     "execution_count": 44,
     "metadata": {},
     "output_type": "execute_result"
    }
   ],
   "source": [
    "finaldf.head()"
   ]
  },
  {
   "cell_type": "code",
   "execution_count": 45,
   "id": "197b162b",
   "metadata": {},
   "outputs": [
    {
     "data": {
      "text/plain": [
       "Date/Time                object\n",
       "Lat                     float64\n",
       "Lon                     float64\n",
       "Base                     object\n",
       "Dispatching_base_num     object\n",
       "Pickup_date              object\n",
       "Affiliated_base_num      object\n",
       "locationID              float64\n",
       "dtype: object"
      ]
     },
     "execution_count": 45,
     "metadata": {},
     "output_type": "execute_result"
    }
   ],
   "source": [
    "finaldf.dtypes"
   ]
  },
  {
   "cell_type": "code",
   "execution_count": 46,
   "id": "e3a3adc4",
   "metadata": {},
   "outputs": [],
   "source": [
    "finaldf['Date/Time']=pd.to_datetime(finaldf['Date/Time'], format=\"%m/%d/%Y %H:%M:%S\")"
   ]
  },
  {
   "cell_type": "code",
   "execution_count": 47,
   "id": "f0a2818c",
   "metadata": {},
   "outputs": [],
   "source": [
    "finaldf['day']=finaldf['Date/Time'].dt.day\n",
    "finaldf['hour']=finaldf['Date/Time'].dt.hour"
   ]
  },
  {
   "cell_type": "code",
   "execution_count": 48,
   "id": "8a867c39",
   "metadata": {},
   "outputs": [
    {
     "data": {
      "text/html": [
       "<div>\n",
       "<style scoped>\n",
       "    .dataframe tbody tr th:only-of-type {\n",
       "        vertical-align: middle;\n",
       "    }\n",
       "\n",
       "    .dataframe tbody tr th {\n",
       "        vertical-align: top;\n",
       "    }\n",
       "\n",
       "    .dataframe thead th {\n",
       "        text-align: right;\n",
       "    }\n",
       "</style>\n",
       "<table border=\"1\" class=\"dataframe\">\n",
       "  <thead>\n",
       "    <tr style=\"text-align: right;\">\n",
       "      <th></th>\n",
       "      <th>Date/Time</th>\n",
       "      <th>Lat</th>\n",
       "      <th>Lon</th>\n",
       "      <th>Base</th>\n",
       "      <th>Dispatching_base_num</th>\n",
       "      <th>Pickup_date</th>\n",
       "      <th>Affiliated_base_num</th>\n",
       "      <th>locationID</th>\n",
       "      <th>day</th>\n",
       "      <th>hour</th>\n",
       "    </tr>\n",
       "  </thead>\n",
       "  <tbody>\n",
       "    <tr>\n",
       "      <th>0</th>\n",
       "      <td>2014-09-01 00:01:00</td>\n",
       "      <td>40.2201</td>\n",
       "      <td>-74.0021</td>\n",
       "      <td>B02512</td>\n",
       "      <td>NaN</td>\n",
       "      <td>NaN</td>\n",
       "      <td>NaN</td>\n",
       "      <td>NaN</td>\n",
       "      <td>1.0</td>\n",
       "      <td>0.0</td>\n",
       "    </tr>\n",
       "    <tr>\n",
       "      <th>1</th>\n",
       "      <td>2014-09-01 00:01:00</td>\n",
       "      <td>40.7500</td>\n",
       "      <td>-74.0027</td>\n",
       "      <td>B02512</td>\n",
       "      <td>NaN</td>\n",
       "      <td>NaN</td>\n",
       "      <td>NaN</td>\n",
       "      <td>NaN</td>\n",
       "      <td>1.0</td>\n",
       "      <td>0.0</td>\n",
       "    </tr>\n",
       "    <tr>\n",
       "      <th>2</th>\n",
       "      <td>2014-09-01 00:03:00</td>\n",
       "      <td>40.7559</td>\n",
       "      <td>-73.9864</td>\n",
       "      <td>B02512</td>\n",
       "      <td>NaN</td>\n",
       "      <td>NaN</td>\n",
       "      <td>NaN</td>\n",
       "      <td>NaN</td>\n",
       "      <td>1.0</td>\n",
       "      <td>0.0</td>\n",
       "    </tr>\n",
       "    <tr>\n",
       "      <th>3</th>\n",
       "      <td>2014-09-01 00:06:00</td>\n",
       "      <td>40.7450</td>\n",
       "      <td>-73.9889</td>\n",
       "      <td>B02512</td>\n",
       "      <td>NaN</td>\n",
       "      <td>NaN</td>\n",
       "      <td>NaN</td>\n",
       "      <td>NaN</td>\n",
       "      <td>1.0</td>\n",
       "      <td>0.0</td>\n",
       "    </tr>\n",
       "    <tr>\n",
       "      <th>4</th>\n",
       "      <td>2014-09-01 00:11:00</td>\n",
       "      <td>40.8145</td>\n",
       "      <td>-73.9444</td>\n",
       "      <td>B02512</td>\n",
       "      <td>NaN</td>\n",
       "      <td>NaN</td>\n",
       "      <td>NaN</td>\n",
       "      <td>NaN</td>\n",
       "      <td>1.0</td>\n",
       "      <td>0.0</td>\n",
       "    </tr>\n",
       "  </tbody>\n",
       "</table>\n",
       "</div>"
      ],
      "text/plain": [
       "            Date/Time      Lat      Lon    Base Dispatching_base_num  \\\n",
       "0 2014-09-01 00:01:00  40.2201 -74.0021  B02512                  NaN   \n",
       "1 2014-09-01 00:01:00  40.7500 -74.0027  B02512                  NaN   \n",
       "2 2014-09-01 00:03:00  40.7559 -73.9864  B02512                  NaN   \n",
       "3 2014-09-01 00:06:00  40.7450 -73.9889  B02512                  NaN   \n",
       "4 2014-09-01 00:11:00  40.8145 -73.9444  B02512                  NaN   \n",
       "\n",
       "  Pickup_date Affiliated_base_num  locationID  day  hour  \n",
       "0         NaN                 NaN         NaN  1.0   0.0  \n",
       "1         NaN                 NaN         NaN  1.0   0.0  \n",
       "2         NaN                 NaN         NaN  1.0   0.0  \n",
       "3         NaN                 NaN         NaN  1.0   0.0  \n",
       "4         NaN                 NaN         NaN  1.0   0.0  "
      ]
     },
     "execution_count": 48,
     "metadata": {},
     "output_type": "execute_result"
    }
   ],
   "source": [
    "finaldf.head()"
   ]
  },
  {
   "cell_type": "code",
   "execution_count": 49,
   "id": "9c836ac1",
   "metadata": {},
   "outputs": [],
   "source": [
    "pivot=finaldf.groupby(['day','hour']).size().unstack()"
   ]
  },
  {
   "cell_type": "code",
   "execution_count": 50,
   "id": "5f3f8903",
   "metadata": {},
   "outputs": [
    {
     "data": {
      "text/html": [
       "<style type=\"text/css\">\n",
       "#T_92464_row0_col0, #T_92464_row8_col23, #T_92464_row23_col2 {\n",
       "  background-color: #bcc7e1;\n",
       "  color: #000000;\n",
       "}\n",
       "#T_92464_row0_col1 {\n",
       "  background-color: #d2d2e7;\n",
       "  color: #000000;\n",
       "}\n",
       "#T_92464_row0_col2 {\n",
       "  background-color: #e2dfee;\n",
       "  color: #000000;\n",
       "}\n",
       "#T_92464_row0_col3 {\n",
       "  background-color: #b1c2de;\n",
       "  color: #000000;\n",
       "}\n",
       "#T_92464_row0_col4, #T_92464_row0_col8 {\n",
       "  background-color: #5a9ec9;\n",
       "  color: #f1f1f1;\n",
       "}\n",
       "#T_92464_row0_col5, #T_92464_row23_col3, #T_92464_row25_col0, #T_92464_row26_col7 {\n",
       "  background-color: #71a8ce;\n",
       "  color: #f1f1f1;\n",
       "}\n",
       "#T_92464_row0_col6, #T_92464_row8_col3, #T_92464_row12_col23, #T_92464_row20_col20 {\n",
       "  background-color: #76aad0;\n",
       "  color: #f1f1f1;\n",
       "}\n",
       "#T_92464_row0_col7, #T_92464_row0_col11, #T_92464_row12_col20, #T_92464_row20_col15 {\n",
       "  background-color: #4897c4;\n",
       "  color: #f1f1f1;\n",
       "}\n",
       "#T_92464_row0_col9, #T_92464_row17_col22, #T_92464_row20_col21, #T_92464_row24_col20 {\n",
       "  background-color: #4697c4;\n",
       "  color: #f1f1f1;\n",
       "}\n",
       "#T_92464_row0_col10, #T_92464_row1_col20, #T_92464_row6_col3, #T_92464_row6_col9, #T_92464_row12_col5, #T_92464_row21_col20 {\n",
       "  background-color: #4496c3;\n",
       "  color: #f1f1f1;\n",
       "}\n",
       "#T_92464_row0_col12, #T_92464_row6_col8 {\n",
       "  background-color: #529bc7;\n",
       "  color: #f1f1f1;\n",
       "}\n",
       "#T_92464_row0_col13, #T_92464_row2_col20, #T_92464_row3_col8, #T_92464_row3_col10, #T_92464_row13_col6, #T_92464_row13_col12, #T_92464_row19_col9, #T_92464_row21_col19, #T_92464_row26_col9 {\n",
       "  background-color: #328dbf;\n",
       "  color: #f1f1f1;\n",
       "}\n",
       "#T_92464_row0_col14, #T_92464_row2_col4, #T_92464_row5_col4, #T_92464_row5_col16, #T_92464_row13_col19, #T_92464_row13_col20, #T_92464_row19_col16 {\n",
       "  background-color: #2987bc;\n",
       "  color: #f1f1f1;\n",
       "}\n",
       "#T_92464_row0_col15, #T_92464_row5_col19, #T_92464_row19_col18, #T_92464_row19_col22, #T_92464_row20_col18 {\n",
       "  background-color: #5ea0ca;\n",
       "  color: #f1f1f1;\n",
       "}\n",
       "#T_92464_row0_col16, #T_92464_row3_col22, #T_92464_row27_col18, #T_92464_row27_col20 {\n",
       "  background-color: #67a4cc;\n",
       "  color: #f1f1f1;\n",
       "}\n",
       "#T_92464_row0_col17, #T_92464_row7_col21, #T_92464_row8_col20, #T_92464_row20_col9, #T_92464_row27_col2 {\n",
       "  background-color: #3b92c1;\n",
       "  color: #f1f1f1;\n",
       "}\n",
       "#T_92464_row0_col18 {\n",
       "  background-color: #88b1d4;\n",
       "  color: #000000;\n",
       "}\n",
       "#T_92464_row0_col19, #T_92464_row2_col3, #T_92464_row8_col22, #T_92464_row21_col3 {\n",
       "  background-color: #7bacd1;\n",
       "  color: #f1f1f1;\n",
       "}\n",
       "#T_92464_row0_col20, #T_92464_row17_col0, #T_92464_row28_col22 {\n",
       "  background-color: #a5bddb;\n",
       "  color: #000000;\n",
       "}\n",
       "#T_92464_row0_col21, #T_92464_row25_col8, #T_92464_row26_col8 {\n",
       "  background-color: #6fa7ce;\n",
       "  color: #f1f1f1;\n",
       "}\n",
       "#T_92464_row0_col22, #T_92464_row17_col2 {\n",
       "  background-color: #d5d5e8;\n",
       "  color: #000000;\n",
       "}\n",
       "#T_92464_row0_col23 {\n",
       "  background-color: #fcf4fa;\n",
       "  color: #000000;\n",
       "}\n",
       "#T_92464_row1_col0, #T_92464_row22_col2 {\n",
       "  background-color: #f3edf5;\n",
       "  color: #000000;\n",
       "}\n",
       "#T_92464_row1_col1 {\n",
       "  background-color: #f4edf6;\n",
       "  color: #000000;\n",
       "}\n",
       "#T_92464_row1_col2, #T_92464_row10_col2, #T_92464_row14_col2, #T_92464_row24_col1, #T_92464_row30_col2 {\n",
       "  background-color: #f8f1f8;\n",
       "  color: #000000;\n",
       "}\n",
       "#T_92464_row1_col3, #T_92464_row13_col2, #T_92464_row16_col23, #T_92464_row18_col2 {\n",
       "  background-color: #8eb3d5;\n",
       "  color: #000000;\n",
       "}\n",
       "#T_92464_row1_col4, #T_92464_row12_col2 {\n",
       "  background-color: #034a74;\n",
       "  color: #f1f1f1;\n",
       "}\n",
       "#T_92464_row1_col5, #T_92464_row14_col10, #T_92464_row15_col11, #T_92464_row15_col14, #T_92464_row15_col15, #T_92464_row16_col13, #T_92464_row17_col7, #T_92464_row18_col22 {\n",
       "  background-color: #04649e;\n",
       "  color: #f1f1f1;\n",
       "}\n",
       "#T_92464_row1_col6, #T_92464_row4_col17, #T_92464_row8_col13, #T_92464_row8_col16, #T_92464_row10_col14, #T_92464_row17_col16, #T_92464_row17_col17, #T_92464_row18_col20, #T_92464_row21_col10, #T_92464_row24_col12, #T_92464_row25_col17 {\n",
       "  background-color: #0569a4;\n",
       "  color: #f1f1f1;\n",
       "}\n",
       "#T_92464_row1_col7, #T_92464_row8_col15, #T_92464_row12_col3, #T_92464_row15_col20, #T_92464_row19_col1, #T_92464_row19_col12, #T_92464_row20_col1, #T_92464_row23_col17, #T_92464_row26_col4 {\n",
       "  background-color: #0567a1;\n",
       "  color: #f1f1f1;\n",
       "}\n",
       "#T_92464_row1_col8, #T_92464_row4_col7, #T_92464_row11_col7, #T_92464_row11_col9, #T_92464_row18_col6, #T_92464_row22_col9 {\n",
       "  background-color: #0570b0;\n",
       "  color: #f1f1f1;\n",
       "}\n",
       "#T_92464_row1_col9, #T_92464_row20_col6 {\n",
       "  background-color: #3991c1;\n",
       "  color: #f1f1f1;\n",
       "}\n",
       "#T_92464_row1_col10, #T_92464_row1_col14, #T_92464_row5_col1, #T_92464_row5_col10, #T_92464_row6_col15, #T_92464_row13_col21, #T_92464_row20_col0, #T_92464_row23_col12, #T_92464_row28_col12 {\n",
       "  background-color: #2a88bc;\n",
       "  color: #f1f1f1;\n",
       "}\n",
       "#T_92464_row1_col11, #T_92464_row3_col11, #T_92464_row13_col7, #T_92464_row14_col15, #T_92464_row16_col22, #T_92464_row20_col17, #T_92464_row23_col20, #T_92464_row24_col23 {\n",
       "  background-color: #2786bb;\n",
       "  color: #f1f1f1;\n",
       "}\n",
       "#T_92464_row1_col12, #T_92464_row4_col23, #T_92464_row6_col21, #T_92464_row12_col7, #T_92464_row24_col19, #T_92464_row27_col6, #T_92464_row29_col22 {\n",
       "  background-color: #2f8bbe;\n",
       "  color: #f1f1f1;\n",
       "}\n",
       "#T_92464_row1_col13, #T_92464_row4_col13, #T_92464_row15_col22 {\n",
       "  background-color: #3f93c2;\n",
       "  color: #f1f1f1;\n",
       "}\n",
       "#T_92464_row1_col15, #T_92464_row2_col10, #T_92464_row3_col19, #T_92464_row5_col21, #T_92464_row13_col3, #T_92464_row13_col9, #T_92464_row20_col7, #T_92464_row23_col19, #T_92464_row27_col7 {\n",
       "  background-color: #2c89bd;\n",
       "  color: #f1f1f1;\n",
       "}\n",
       "#T_92464_row1_col16, #T_92464_row4_col6, #T_92464_row10_col16, #T_92464_row11_col5, #T_92464_row11_col11, #T_92464_row17_col15, #T_92464_row25_col2, #T_92464_row26_col10 {\n",
       "  background-color: #056dab;\n",
       "  color: #f1f1f1;\n",
       "}\n",
       "#T_92464_row1_col17, #T_92464_row4_col9, #T_92464_row11_col14, #T_92464_row19_col13, #T_92464_row28_col17 {\n",
       "  background-color: #045e94;\n",
       "  color: #f1f1f1;\n",
       "}\n",
       "#T_92464_row1_col18, #T_92464_row2_col16, #T_92464_row10_col6, #T_92464_row10_col11, #T_92464_row11_col13, #T_92464_row16_col16, #T_92464_row17_col14 {\n",
       "  background-color: #0567a2;\n",
       "  color: #f1f1f1;\n",
       "}\n",
       "#T_92464_row1_col19, #T_92464_row2_col13, #T_92464_row3_col7, #T_92464_row6_col19, #T_92464_row9_col7, #T_92464_row11_col6, #T_92464_row16_col6 {\n",
       "  background-color: #157ab5;\n",
       "  color: #f1f1f1;\n",
       "}\n",
       "#T_92464_row1_col21, #T_92464_row23_col18 {\n",
       "  background-color: #3d93c2;\n",
       "  color: #f1f1f1;\n",
       "}\n",
       "#T_92464_row1_col22 {\n",
       "  background-color: #a4bcda;\n",
       "  color: #000000;\n",
       "}\n",
       "#T_92464_row1_col23, #T_92464_row16_col0 {\n",
       "  background-color: #bfc9e1;\n",
       "  color: #000000;\n",
       "}\n",
       "#T_92464_row2_col0 {\n",
       "  background-color: #a9bfdc;\n",
       "  color: #000000;\n",
       "}\n",
       "#T_92464_row2_col1, #T_92464_row21_col22 {\n",
       "  background-color: #b4c4df;\n",
       "  color: #000000;\n",
       "}\n",
       "#T_92464_row2_col2, #T_92464_row28_col2 {\n",
       "  background-color: #c4cbe3;\n",
       "  color: #000000;\n",
       "}\n",
       "#T_92464_row2_col5, #T_92464_row4_col15, #T_92464_row6_col7, #T_92464_row12_col6, #T_92464_row12_col21, #T_92464_row13_col13, #T_92464_row17_col3 {\n",
       "  background-color: #3790c0;\n",
       "  color: #f1f1f1;\n",
       "}\n",
       "#T_92464_row2_col6, #T_92464_row5_col2 {\n",
       "  background-color: #348ebf;\n",
       "  color: #f1f1f1;\n",
       "}\n",
       "#T_92464_row2_col7, #T_92464_row6_col5, #T_92464_row26_col21 {\n",
       "  background-color: #308cbe;\n",
       "  color: #f1f1f1;\n",
       "}\n",
       "#T_92464_row2_col8, #T_92464_row7_col20, #T_92464_row19_col19, #T_92464_row19_col20 {\n",
       "  background-color: #509ac6;\n",
       "  color: #f1f1f1;\n",
       "}\n",
       "#T_92464_row2_col9, #T_92464_row4_col12, #T_92464_row7_col19, #T_92464_row10_col20, #T_92464_row25_col5, #T_92464_row27_col0 {\n",
       "  background-color: #4094c3;\n",
       "  color: #f1f1f1;\n",
       "}\n",
       "#T_92464_row2_col11, #T_92464_row9_col4, #T_92464_row20_col14, #T_92464_row23_col6 {\n",
       "  background-color: #1c7fb8;\n",
       "  color: #f1f1f1;\n",
       "}\n",
       "#T_92464_row2_col12, #T_92464_row4_col19, #T_92464_row12_col8, #T_92464_row18_col9, #T_92464_row23_col15, #T_92464_row23_col21, #T_92464_row25_col12, #T_92464_row28_col18 {\n",
       "  background-color: #187cb6;\n",
       "  color: #f1f1f1;\n",
       "}\n",
       "#T_92464_row2_col14, #T_92464_row2_col15, #T_92464_row2_col19, #T_92464_row3_col13, #T_92464_row5_col14, #T_92464_row7_col12, #T_92464_row25_col10, #T_92464_row25_col13, #T_92464_row25_col16, #T_92464_row27_col12 {\n",
       "  background-color: #0d75b3;\n",
       "  color: #f1f1f1;\n",
       "}\n",
       "#T_92464_row2_col17, #T_92464_row8_col19, #T_92464_row16_col7, #T_92464_row18_col12, #T_92464_row22_col18 {\n",
       "  background-color: #056ead;\n",
       "  color: #f1f1f1;\n",
       "}\n",
       "#T_92464_row2_col18, #T_92464_row9_col13, #T_92464_row9_col14, #T_92464_row10_col17, #T_92464_row17_col11, #T_92464_row22_col15 {\n",
       "  background-color: #04649d;\n",
       "  color: #f1f1f1;\n",
       "}\n",
       "#T_92464_row2_col21, #T_92464_row3_col12, #T_92464_row25_col9 {\n",
       "  background-color: #2d8abd;\n",
       "  color: #f1f1f1;\n",
       "}\n",
       "#T_92464_row2_col22, #T_92464_row14_col3 {\n",
       "  background-color: #99b8d8;\n",
       "  color: #000000;\n",
       "}\n",
       "#T_92464_row2_col23 {\n",
       "  background-color: #e0dded;\n",
       "  color: #000000;\n",
       "}\n",
       "#T_92464_row3_col0 {\n",
       "  background-color: #d6d6e9;\n",
       "  color: #000000;\n",
       "}\n",
       "#T_92464_row3_col1, #T_92464_row14_col23 {\n",
       "  background-color: #ebe6f2;\n",
       "  color: #000000;\n",
       "}\n",
       "#T_92464_row3_col2, #T_92464_row13_col23, #T_92464_row27_col23 {\n",
       "  background-color: #ece7f2;\n",
       "  color: #000000;\n",
       "}\n",
       "#T_92464_row3_col3, #T_92464_row10_col3 {\n",
       "  background-color: #8bb2d4;\n",
       "  color: #000000;\n",
       "}\n",
       "#T_92464_row3_col4, #T_92464_row4_col8, #T_92464_row12_col19, #T_92464_row16_col19, #T_92464_row18_col13, #T_92464_row25_col3, #T_92464_row28_col10 {\n",
       "  background-color: #056ba7;\n",
       "  color: #f1f1f1;\n",
       "}\n",
       "#T_92464_row3_col5, #T_92464_row3_col6, #T_92464_row3_col14, #T_92464_row4_col4, #T_92464_row5_col12, #T_92464_row7_col15, #T_92464_row16_col10, #T_92464_row19_col0, #T_92464_row19_col4, #T_92464_row20_col2, #T_92464_row20_col3, #T_92464_row26_col16 {\n",
       "  background-color: #1379b5;\n",
       "  color: #f1f1f1;\n",
       "}\n",
       "#T_92464_row3_col9, #T_92464_row21_col18, #T_92464_row21_col21, #T_92464_row27_col8 {\n",
       "  background-color: #358fc0;\n",
       "  color: #f1f1f1;\n",
       "}\n",
       "#T_92464_row3_col15, #T_92464_row3_col16, #T_92464_row3_col21, #T_92464_row4_col14, #T_92464_row13_col14, #T_92464_row16_col8, #T_92464_row18_col3, #T_92464_row20_col16, #T_92464_row26_col17 {\n",
       "  background-color: #2685bb;\n",
       "  color: #f1f1f1;\n",
       "}\n",
       "#T_92464_row3_col17, #T_92464_row6_col13, #T_92464_row6_col14, #T_92464_row15_col12, #T_92464_row18_col10, #T_92464_row18_col15, #T_92464_row23_col9 {\n",
       "  background-color: #0872b1;\n",
       "  color: #f1f1f1;\n",
       "}\n",
       "#T_92464_row3_col18, #T_92464_row5_col15, #T_92464_row10_col21, #T_92464_row16_col9, #T_92464_row28_col19 {\n",
       "  background-color: #2081b9;\n",
       "  color: #f1f1f1;\n",
       "}\n",
       "#T_92464_row3_col20 {\n",
       "  background-color: #63a2cb;\n",
       "  color: #f1f1f1;\n",
       "}\n",
       "#T_92464_row3_col23, #T_92464_row4_col3, #T_92464_row23_col1 {\n",
       "  background-color: #c1cae2;\n",
       "  color: #000000;\n",
       "}\n",
       "#T_92464_row4_col0 {\n",
       "  background-color: #e1dfed;\n",
       "  color: #000000;\n",
       "}\n",
       "#T_92464_row4_col1 {\n",
       "  background-color: #f5eff6;\n",
       "  color: #000000;\n",
       "}\n",
       "#T_92464_row4_col2, #T_92464_row30_col0, #T_92464_row30_col1, #T_92464_row30_col3, #T_92464_row30_col4, #T_92464_row30_col5, #T_92464_row30_col6, #T_92464_row30_col7, #T_92464_row30_col8, #T_92464_row30_col9, #T_92464_row30_col10, #T_92464_row30_col11, #T_92464_row30_col12, #T_92464_row30_col13, #T_92464_row30_col14, #T_92464_row30_col15, #T_92464_row30_col16, #T_92464_row30_col17, #T_92464_row30_col18, #T_92464_row30_col19, #T_92464_row30_col20, #T_92464_row30_col21, #T_92464_row30_col22, #T_92464_row30_col23 {\n",
       "  background-color: #fff7fb;\n",
       "  color: #000000;\n",
       "}\n",
       "#T_92464_row4_col5, #T_92464_row11_col19, #T_92464_row12_col12, #T_92464_row14_col7, #T_92464_row21_col8 {\n",
       "  background-color: #045e93;\n",
       "  color: #f1f1f1;\n",
       "}\n",
       "#T_92464_row4_col10, #T_92464_row5_col13, #T_92464_row14_col21, #T_92464_row19_col10, #T_92464_row21_col14, #T_92464_row28_col21 {\n",
       "  background-color: #056faf;\n",
       "  color: #f1f1f1;\n",
       "}\n",
       "#T_92464_row4_col11, #T_92464_row23_col8 {\n",
       "  background-color: #2383ba;\n",
       "  color: #f1f1f1;\n",
       "}\n",
       "#T_92464_row4_col16, #T_92464_row4_col20, #T_92464_row6_col10, #T_92464_row10_col5, #T_92464_row10_col19, #T_92464_row13_col10, #T_92464_row19_col15, #T_92464_row20_col10, #T_92464_row27_col17 {\n",
       "  background-color: #1e80b8;\n",
       "  color: #f1f1f1;\n",
       "}\n",
       "#T_92464_row4_col18, #T_92464_row8_col21, #T_92464_row13_col16, #T_92464_row28_col3, #T_92464_row28_col20 {\n",
       "  background-color: #2484ba;\n",
       "  color: #f1f1f1;\n",
       "}\n",
       "#T_92464_row4_col21, #T_92464_row8_col18, #T_92464_row12_col18 {\n",
       "  background-color: #045f95;\n",
       "  color: #f1f1f1;\n",
       "}\n",
       "#T_92464_row4_col22, #T_92464_row7_col13, #T_92464_row15_col18, #T_92464_row16_col11, #T_92464_row18_col14, #T_92464_row22_col11, #T_92464_row23_col11, #T_92464_row24_col17, #T_92464_row25_col18, #T_92464_row28_col13, #T_92464_row28_col16 {\n",
       "  background-color: #056dac;\n",
       "  color: #f1f1f1;\n",
       "}\n",
       "#T_92464_row5_col0, #T_92464_row7_col14, #T_92464_row8_col12, #T_92464_row9_col6, #T_92464_row9_col19, #T_92464_row13_col5, #T_92464_row17_col12, #T_92464_row18_col7, #T_92464_row18_col16, #T_92464_row22_col10 {\n",
       "  background-color: #0c74b2;\n",
       "  color: #f1f1f1;\n",
       "}\n",
       "#T_92464_row5_col3, #T_92464_row27_col1 {\n",
       "  background-color: #569dc8;\n",
       "  color: #f1f1f1;\n",
       "}\n",
       "#T_92464_row5_col5, #T_92464_row25_col6, #T_92464_row26_col19, #T_92464_row26_col23, #T_92464_row27_col19 {\n",
       "  background-color: #69a5cc;\n",
       "  color: #f1f1f1;\n",
       "}\n",
       "#T_92464_row5_col6, #T_92464_row19_col23 {\n",
       "  background-color: #78abd0;\n",
       "  color: #f1f1f1;\n",
       "}\n",
       "#T_92464_row5_col7 {\n",
       "  background-color: #7eadd1;\n",
       "  color: #f1f1f1;\n",
       "}\n",
       "#T_92464_row5_col8, #T_92464_row13_col0 {\n",
       "  background-color: #79abd0;\n",
       "  color: #f1f1f1;\n",
       "}\n",
       "#T_92464_row5_col9, #T_92464_row20_col19, #T_92464_row26_col22 {\n",
       "  background-color: #65a3cb;\n",
       "  color: #f1f1f1;\n",
       "}\n",
       "#T_92464_row5_col11, #T_92464_row6_col18, #T_92464_row7_col16, #T_92464_row20_col5, #T_92464_row20_col12, #T_92464_row25_col11 {\n",
       "  background-color: #0f76b3;\n",
       "  color: #f1f1f1;\n",
       "}\n",
       "#T_92464_row5_col17, #T_92464_row17_col20, #T_92464_row18_col23, #T_92464_row19_col21, #T_92464_row23_col13, #T_92464_row27_col15 {\n",
       "  background-color: #2182b9;\n",
       "  color: #f1f1f1;\n",
       "}\n",
       "#T_92464_row5_col18, #T_92464_row10_col22 {\n",
       "  background-color: #60a1ca;\n",
       "  color: #f1f1f1;\n",
       "}\n",
       "#T_92464_row5_col20, #T_92464_row5_col23, #T_92464_row7_col3 {\n",
       "  background-color: #75a9cf;\n",
       "  color: #f1f1f1;\n",
       "}\n",
       "#T_92464_row5_col22 {\n",
       "  background-color: #589ec8;\n",
       "  color: #f1f1f1;\n",
       "}\n",
       "#T_92464_row6_col0, #T_92464_row9_col3, #T_92464_row12_col22, #T_92464_row20_col22 {\n",
       "  background-color: #86b0d3;\n",
       "  color: #000000;\n",
       "}\n",
       "#T_92464_row6_col1, #T_92464_row22_col23 {\n",
       "  background-color: #9ab8d8;\n",
       "  color: #000000;\n",
       "}\n",
       "#T_92464_row6_col2 {\n",
       "  background-color: #abbfdc;\n",
       "  color: #000000;\n",
       "}\n",
       "#T_92464_row6_col4, #T_92464_row6_col17, #T_92464_row24_col10 {\n",
       "  background-color: #046097;\n",
       "  color: #f1f1f1;\n",
       "}\n",
       "#T_92464_row6_col6, #T_92464_row7_col18, #T_92464_row13_col8, #T_92464_row13_col15, #T_92464_row20_col8, #T_92464_row26_col5 {\n",
       "  background-color: #4295c3;\n",
       "  color: #f1f1f1;\n",
       "}\n",
       "#T_92464_row6_col11, #T_92464_row9_col8, #T_92464_row9_col9, #T_92464_row17_col19, #T_92464_row22_col22, #T_92464_row25_col15, #T_92464_row26_col15, #T_92464_row28_col11 {\n",
       "  background-color: #1077b4;\n",
       "  color: #f1f1f1;\n",
       "}\n",
       "#T_92464_row6_col12, #T_92464_row10_col18, #T_92464_row17_col18, #T_92464_row18_col8, #T_92464_row19_col17, #T_92464_row23_col14, #T_92464_row27_col16 {\n",
       "  background-color: #1b7eb7;\n",
       "  color: #f1f1f1;\n",
       "}\n",
       "#T_92464_row6_col16, #T_92464_row10_col9, #T_92464_row12_col15, #T_92464_row19_col2, #T_92464_row22_col14, #T_92464_row25_col19 {\n",
       "  background-color: #05659f;\n",
       "  color: #f1f1f1;\n",
       "}\n",
       "#T_92464_row6_col20, #T_92464_row13_col18 {\n",
       "  background-color: #4a98c5;\n",
       "  color: #f1f1f1;\n",
       "}\n",
       "#T_92464_row6_col22, #T_92464_row15_col3 {\n",
       "  background-color: #94b6d7;\n",
       "  color: #000000;\n",
       "}\n",
       "#T_92464_row6_col23 {\n",
       "  background-color: #d9d8ea;\n",
       "  color: #000000;\n",
       "}\n",
       "#T_92464_row7_col0 {\n",
       "  background-color: #dbdaeb;\n",
       "  color: #000000;\n",
       "}\n",
       "#T_92464_row7_col1, #T_92464_row21_col2 {\n",
       "  background-color: #eee9f3;\n",
       "  color: #000000;\n",
       "}\n",
       "#T_92464_row7_col2, #T_92464_row7_col23, #T_92464_row24_col0 {\n",
       "  background-color: #f4eef6;\n",
       "  color: #000000;\n",
       "}\n",
       "#T_92464_row7_col4, #T_92464_row12_col1, #T_92464_row15_col6, #T_92464_row17_col4 {\n",
       "  background-color: #03476f;\n",
       "  color: #f1f1f1;\n",
       "}\n",
       "#T_92464_row7_col5, #T_92464_row8_col6, #T_92464_row11_col22, #T_92464_row11_col23, #T_92464_row12_col0, #T_92464_row22_col4, #T_92464_row22_col19, #T_92464_row22_col20, #T_92464_row24_col7, #T_92464_row25_col21, #T_92464_row26_col1, #T_92464_row26_col2, #T_92464_row26_col3, #T_92464_row29_col5, #T_92464_row29_col8, #T_92464_row29_col9, #T_92464_row29_col10, #T_92464_row29_col11, #T_92464_row29_col12, #T_92464_row29_col13, #T_92464_row29_col14, #T_92464_row29_col15, #T_92464_row29_col16, #T_92464_row29_col17, #T_92464_row29_col18 {\n",
       "  background-color: #023858;\n",
       "  color: #f1f1f1;\n",
       "}\n",
       "#T_92464_row7_col6, #T_92464_row25_col23 {\n",
       "  background-color: #034f7d;\n",
       "  color: #f1f1f1;\n",
       "}\n",
       "#T_92464_row7_col7, #T_92464_row7_col8, #T_92464_row8_col9, #T_92464_row11_col18, #T_92464_row14_col19, #T_92464_row16_col4, #T_92464_row29_col19 {\n",
       "  background-color: #03456c;\n",
       "  color: #f1f1f1;\n",
       "}\n",
       "#T_92464_row7_col9, #T_92464_row15_col10, #T_92464_row24_col6, #T_92464_row24_col8, #T_92464_row25_col22 {\n",
       "  background-color: #045483;\n",
       "  color: #f1f1f1;\n",
       "}\n",
       "#T_92464_row7_col10, #T_92464_row9_col11, #T_92464_row14_col16, #T_92464_row16_col18, #T_92464_row18_col17, #T_92464_row26_col14 {\n",
       "  background-color: #0568a3;\n",
       "  color: #f1f1f1;\n",
       "}\n",
       "#T_92464_row7_col11, #T_92464_row9_col18, #T_92464_row9_col21, #T_92464_row10_col10, #T_92464_row11_col20, #T_92464_row17_col8, #T_92464_row21_col11, #T_92464_row22_col8, #T_92464_row27_col3 {\n",
       "  background-color: #056ba9;\n",
       "  color: #f1f1f1;\n",
       "}\n",
       "#T_92464_row7_col17, #T_92464_row12_col4, #T_92464_row21_col15, #T_92464_row23_col5 {\n",
       "  background-color: #0569a5;\n",
       "  color: #f1f1f1;\n",
       "}\n",
       "#T_92464_row7_col22, #T_92464_row11_col1 {\n",
       "  background-color: #b3c3de;\n",
       "  color: #000000;\n",
       "}\n",
       "#T_92464_row8_col0, #T_92464_row8_col1, #T_92464_row8_col2 {\n",
       "  background-color: #e7e3f0;\n",
       "  color: #000000;\n",
       "}\n",
       "#T_92464_row8_col4, #T_92464_row18_col21, #T_92464_row29_col21 {\n",
       "  background-color: #034b76;\n",
       "  color: #f1f1f1;\n",
       "}\n",
       "#T_92464_row8_col5, #T_92464_row11_col21, #T_92464_row14_col17, #T_92464_row20_col4 {\n",
       "  background-color: #023e62;\n",
       "  color: #f1f1f1;\n",
       "}\n",
       "#T_92464_row8_col7, #T_92464_row28_col4, #T_92464_row29_col7 {\n",
       "  background-color: #02395a;\n",
       "  color: #f1f1f1;\n",
       "}\n",
       "#T_92464_row8_col8, #T_92464_row21_col4, #T_92464_row22_col21 {\n",
       "  background-color: #023c5f;\n",
       "  color: #f1f1f1;\n",
       "}\n",
       "#T_92464_row8_col10, #T_92464_row11_col4, #T_92464_row13_col4, #T_92464_row14_col8, #T_92464_row21_col17, #T_92464_row26_col12 {\n",
       "  background-color: #046299;\n",
       "  color: #f1f1f1;\n",
       "}\n",
       "#T_92464_row8_col11, #T_92464_row10_col13, #T_92464_row17_col9, #T_92464_row23_col16, #T_92464_row25_col4, #T_92464_row27_col5, #T_92464_row28_col15 {\n",
       "  background-color: #0566a0;\n",
       "  color: #f1f1f1;\n",
       "}\n",
       "#T_92464_row8_col14, #T_92464_row15_col4, #T_92464_row17_col5 {\n",
       "  background-color: #04588a;\n",
       "  color: #f1f1f1;\n",
       "}\n",
       "#T_92464_row8_col17, #T_92464_row21_col5 {\n",
       "  background-color: #034165;\n",
       "  color: #f1f1f1;\n",
       "}\n",
       "#T_92464_row9_col0 {\n",
       "  background-color: #b0c2de;\n",
       "  color: #000000;\n",
       "}\n",
       "#T_92464_row9_col1, #T_92464_row11_col0 {\n",
       "  background-color: #b7c5df;\n",
       "  color: #000000;\n",
       "}\n",
       "#T_92464_row9_col2, #T_92464_row17_col1 {\n",
       "  background-color: #b5c4df;\n",
       "  color: #000000;\n",
       "}\n",
       "#T_92464_row9_col5, #T_92464_row27_col13 {\n",
       "  background-color: #1278b4;\n",
       "  color: #f1f1f1;\n",
       "}\n",
       "#T_92464_row9_col10, #T_92464_row13_col11, #T_92464_row13_col17, #T_92464_row18_col18, #T_92464_row20_col13, #T_92464_row23_col7, #T_92464_row24_col15 {\n",
       "  background-color: #167bb6;\n",
       "  color: #f1f1f1;\n",
       "}\n",
       "#T_92464_row9_col12, #T_92464_row9_col20, #T_92464_row10_col12, #T_92464_row11_col8, #T_92464_row14_col12, #T_92464_row15_col13, #T_92464_row17_col6, #T_92464_row18_col5, #T_92464_row20_col11, #T_92464_row21_col12, #T_92464_row22_col12, #T_92464_row22_col17, #T_92464_row24_col13, #T_92464_row24_col16, #T_92464_row24_col18, #T_92464_row25_col14 {\n",
       "  background-color: #0a73b2;\n",
       "  color: #f1f1f1;\n",
       "}\n",
       "#T_92464_row9_col15, #T_92464_row16_col17, #T_92464_row19_col11 {\n",
       "  background-color: #045b8e;\n",
       "  color: #f1f1f1;\n",
       "}\n",
       "#T_92464_row9_col16 {\n",
       "  background-color: #034e7b;\n",
       "  color: #f1f1f1;\n",
       "}\n",
       "#T_92464_row9_col17 {\n",
       "  background-color: #034267;\n",
       "  color: #f1f1f1;\n",
       "}\n",
       "#T_92464_row9_col22, #T_92464_row26_col18, #T_92464_row27_col21 {\n",
       "  background-color: #62a2cb;\n",
       "  color: #f1f1f1;\n",
       "}\n",
       "#T_92464_row9_col23, #T_92464_row17_col23 {\n",
       "  background-color: #a2bcda;\n",
       "  color: #000000;\n",
       "}\n",
       "#T_92464_row10_col0 {\n",
       "  background-color: #cacee5;\n",
       "  color: #000000;\n",
       "}\n",
       "#T_92464_row10_col1 {\n",
       "  background-color: #ede8f3;\n",
       "  color: #000000;\n",
       "}\n",
       "#T_92464_row10_col4 {\n",
       "  background-color: #045280;\n",
       "  color: #f1f1f1;\n",
       "}\n",
       "#T_92464_row10_col7, #T_92464_row21_col7, #T_92464_row28_col6 {\n",
       "  background-color: #045c90;\n",
       "  color: #f1f1f1;\n",
       "}\n",
       "#T_92464_row10_col8, #T_92464_row12_col13, #T_92464_row14_col20, #T_92464_row21_col6, #T_92464_row22_col6, #T_92464_row28_col7 {\n",
       "  background-color: #045d92;\n",
       "  color: #f1f1f1;\n",
       "}\n",
       "#T_92464_row10_col15, #T_92464_row18_col11, #T_92464_row18_col19, #T_92464_row22_col13, #T_92464_row22_col16, #T_92464_row24_col14, #T_92464_row25_col1 {\n",
       "  background-color: #0771b1;\n",
       "  color: #f1f1f1;\n",
       "}\n",
       "#T_92464_row10_col23 {\n",
       "  background-color: #afc1dd;\n",
       "  color: #000000;\n",
       "}\n",
       "#T_92464_row11_col2 {\n",
       "  background-color: #c8cde4;\n",
       "  color: #000000;\n",
       "}\n",
       "#T_92464_row11_col3 {\n",
       "  background-color: #a1bbda;\n",
       "  color: #000000;\n",
       "}\n",
       "#T_92464_row11_col10, #T_92464_row11_col12, #T_92464_row14_col9, #T_92464_row16_col15, #T_92464_row17_col10, #T_92464_row21_col9, #T_92464_row25_col20, #T_92464_row27_col9, #T_92464_row27_col14 {\n",
       "  background-color: #056fae;\n",
       "  color: #f1f1f1;\n",
       "}\n",
       "#T_92464_row11_col15, #T_92464_row12_col16, #T_92464_row28_col9 {\n",
       "  background-color: #046198;\n",
       "  color: #f1f1f1;\n",
       "}\n",
       "#T_92464_row11_col16, #T_92464_row22_col7, #T_92464_row23_col4 {\n",
       "  background-color: #045b8f;\n",
       "  color: #f1f1f1;\n",
       "}\n",
       "#T_92464_row11_col17, #T_92464_row27_col4 {\n",
       "  background-color: #034871;\n",
       "  color: #f1f1f1;\n",
       "}\n",
       "#T_92464_row12_col9, #T_92464_row15_col16, #T_92464_row18_col4 {\n",
       "  background-color: #04598c;\n",
       "  color: #f1f1f1;\n",
       "}\n",
       "#T_92464_row12_col10, #T_92464_row21_col16 {\n",
       "  background-color: #046096;\n",
       "  color: #f1f1f1;\n",
       "}\n",
       "#T_92464_row12_col11, #T_92464_row14_col5, #T_92464_row24_col5 {\n",
       "  background-color: #045687;\n",
       "  color: #f1f1f1;\n",
       "}\n",
       "#T_92464_row12_col14, #T_92464_row12_col17 {\n",
       "  background-color: #03446a;\n",
       "  color: #f1f1f1;\n",
       "}\n",
       "#T_92464_row13_col1, #T_92464_row29_col3 {\n",
       "  background-color: #91b5d6;\n",
       "  color: #000000;\n",
       "}\n",
       "#T_92464_row13_col22, #T_92464_row15_col23, #T_92464_row16_col2 {\n",
       "  background-color: #acc0dd;\n",
       "  color: #000000;\n",
       "}\n",
       "#T_92464_row14_col0 {\n",
       "  background-color: #f0eaf4;\n",
       "  color: #000000;\n",
       "}\n",
       "#T_92464_row14_col1, #T_92464_row29_col1 {\n",
       "  background-color: #f7f0f7;\n",
       "  color: #000000;\n",
       "}\n",
       "#T_92464_row14_col4 {\n",
       "  background-color: #034d79;\n",
       "  color: #f1f1f1;\n",
       "}\n",
       "#T_92464_row14_col6, #T_92464_row14_col14, #T_92464_row24_col11, #T_92464_row27_col11, #T_92464_row28_col8, #T_92464_row28_col14 {\n",
       "  background-color: #04639b;\n",
       "  color: #f1f1f1;\n",
       "}\n",
       "#T_92464_row14_col11, #T_92464_row19_col3, #T_92464_row24_col21 {\n",
       "  background-color: #04629a;\n",
       "  color: #f1f1f1;\n",
       "}\n",
       "#T_92464_row14_col13, #T_92464_row15_col19, #T_92464_row26_col0 {\n",
       "  background-color: #034973;\n",
       "  color: #f1f1f1;\n",
       "}\n",
       "#T_92464_row14_col18, #T_92464_row15_col5, #T_92464_row16_col21 {\n",
       "  background-color: #045788;\n",
       "  color: #f1f1f1;\n",
       "}\n",
       "#T_92464_row14_col22 {\n",
       "  background-color: #97b7d7;\n",
       "  color: #000000;\n",
       "}\n",
       "#T_92464_row15_col0, #T_92464_row22_col0 {\n",
       "  background-color: #eee8f3;\n",
       "  color: #000000;\n",
       "}\n",
       "#T_92464_row15_col1, #T_92464_row22_col1 {\n",
       "  background-color: #f2ecf5;\n",
       "  color: #000000;\n",
       "}\n",
       "#T_92464_row15_col2, #T_92464_row29_col0 {\n",
       "  background-color: #f5eef6;\n",
       "  color: #000000;\n",
       "}\n",
       "#T_92464_row15_col7, #T_92464_row15_col8, #T_92464_row24_col9 {\n",
       "  background-color: #023d60;\n",
       "  color: #f1f1f1;\n",
       "}\n",
       "#T_92464_row15_col9 {\n",
       "  background-color: #023f64;\n",
       "  color: #f1f1f1;\n",
       "}\n",
       "#T_92464_row15_col17 {\n",
       "  background-color: #03466e;\n",
       "  color: #f1f1f1;\n",
       "}\n",
       "#T_92464_row15_col21, #T_92464_row24_col4 {\n",
       "  background-color: #023b5d;\n",
       "  color: #f1f1f1;\n",
       "}\n",
       "#T_92464_row16_col1 {\n",
       "  background-color: #c2cbe2;\n",
       "  color: #000000;\n",
       "}\n",
       "#T_92464_row16_col3, #T_92464_row19_col7 {\n",
       "  background-color: #73a9cf;\n",
       "  color: #f1f1f1;\n",
       "}\n",
       "#T_92464_row16_col5, #T_92464_row16_col14, #T_92464_row17_col13, #T_92464_row17_col21, #T_92464_row19_col14, #T_92464_row27_col10 {\n",
       "  background-color: #056aa6;\n",
       "  color: #f1f1f1;\n",
       "}\n",
       "#T_92464_row16_col12, #T_92464_row16_col20, #T_92464_row21_col13 {\n",
       "  background-color: #056caa;\n",
       "  color: #f1f1f1;\n",
       "}\n",
       "#T_92464_row18_col0 {\n",
       "  background-color: #b8c6e0;\n",
       "  color: #000000;\n",
       "}\n",
       "#T_92464_row18_col1 {\n",
       "  background-color: #adc1dd;\n",
       "  color: #000000;\n",
       "}\n",
       "#T_92464_row19_col5, #T_92464_row19_col8 {\n",
       "  background-color: #6da6cd;\n",
       "  color: #f1f1f1;\n",
       "}\n",
       "#T_92464_row19_col6, #T_92464_row23_col22 {\n",
       "  background-color: #7dacd1;\n",
       "  color: #f1f1f1;\n",
       "}\n",
       "#T_92464_row20_col23, #T_92464_row23_col0 {\n",
       "  background-color: #b9c6e0;\n",
       "  color: #000000;\n",
       "}\n",
       "#T_92464_row21_col0, #T_92464_row29_col23 {\n",
       "  background-color: #dedcec;\n",
       "  color: #000000;\n",
       "}\n",
       "#T_92464_row21_col1 {\n",
       "  background-color: #efe9f3;\n",
       "  color: #000000;\n",
       "}\n",
       "#T_92464_row21_col23 {\n",
       "  background-color: #e8e4f0;\n",
       "  color: #000000;\n",
       "}\n",
       "#T_92464_row22_col3 {\n",
       "  background-color: #89b1d4;\n",
       "  color: #000000;\n",
       "}\n",
       "#T_92464_row22_col5 {\n",
       "  background-color: #034369;\n",
       "  color: #f1f1f1;\n",
       "}\n",
       "#T_92464_row23_col10, #T_92464_row24_col22 {\n",
       "  background-color: #197db7;\n",
       "  color: #f1f1f1;\n",
       "}\n",
       "#T_92464_row23_col23 {\n",
       "  background-color: #ede7f2;\n",
       "  color: #000000;\n",
       "}\n",
       "#T_92464_row24_col2 {\n",
       "  background-color: #faf3f9;\n",
       "  color: #000000;\n",
       "}\n",
       "#T_92464_row24_col3 {\n",
       "  background-color: #84b0d3;\n",
       "  color: #f1f1f1;\n",
       "}\n",
       "#T_92464_row25_col7 {\n",
       "  background-color: #5c9fc9;\n",
       "  color: #f1f1f1;\n",
       "}\n",
       "#T_92464_row26_col6, #T_92464_row26_col20 {\n",
       "  background-color: #81aed2;\n",
       "  color: #f1f1f1;\n",
       "}\n",
       "#T_92464_row26_col11, #T_92464_row26_col13 {\n",
       "  background-color: #045585;\n",
       "  color: #f1f1f1;\n",
       "}\n",
       "#T_92464_row27_col22 {\n",
       "  background-color: #cdd0e5;\n",
       "  color: #000000;\n",
       "}\n",
       "#T_92464_row28_col0 {\n",
       "  background-color: #e6e2ef;\n",
       "  color: #000000;\n",
       "}\n",
       "#T_92464_row28_col1 {\n",
       "  background-color: #dddbec;\n",
       "  color: #000000;\n",
       "}\n",
       "#T_92464_row28_col5 {\n",
       "  background-color: #034c78;\n",
       "  color: #f1f1f1;\n",
       "}\n",
       "#T_92464_row28_col23 {\n",
       "  background-color: #f1ebf5;\n",
       "  color: #000000;\n",
       "}\n",
       "#T_92464_row29_col2 {\n",
       "  background-color: #f6eff7;\n",
       "  color: #000000;\n",
       "}\n",
       "#T_92464_row29_col4 {\n",
       "  background-color: #045382;\n",
       "  color: #f1f1f1;\n",
       "}\n",
       "#T_92464_row29_col6 {\n",
       "  background-color: #023a5b;\n",
       "  color: #f1f1f1;\n",
       "}\n",
       "#T_92464_row29_col20 {\n",
       "  background-color: #03517e;\n",
       "  color: #f1f1f1;\n",
       "}\n",
       "</style>\n",
       "<table id=\"T_92464\">\n",
       "  <thead>\n",
       "    <tr>\n",
       "      <th class=\"index_name level0\" >hour</th>\n",
       "      <th id=\"T_92464_level0_col0\" class=\"col_heading level0 col0\" >0.000000</th>\n",
       "      <th id=\"T_92464_level0_col1\" class=\"col_heading level0 col1\" >1.000000</th>\n",
       "      <th id=\"T_92464_level0_col2\" class=\"col_heading level0 col2\" >2.000000</th>\n",
       "      <th id=\"T_92464_level0_col3\" class=\"col_heading level0 col3\" >3.000000</th>\n",
       "      <th id=\"T_92464_level0_col4\" class=\"col_heading level0 col4\" >4.000000</th>\n",
       "      <th id=\"T_92464_level0_col5\" class=\"col_heading level0 col5\" >5.000000</th>\n",
       "      <th id=\"T_92464_level0_col6\" class=\"col_heading level0 col6\" >6.000000</th>\n",
       "      <th id=\"T_92464_level0_col7\" class=\"col_heading level0 col7\" >7.000000</th>\n",
       "      <th id=\"T_92464_level0_col8\" class=\"col_heading level0 col8\" >8.000000</th>\n",
       "      <th id=\"T_92464_level0_col9\" class=\"col_heading level0 col9\" >9.000000</th>\n",
       "      <th id=\"T_92464_level0_col10\" class=\"col_heading level0 col10\" >10.000000</th>\n",
       "      <th id=\"T_92464_level0_col11\" class=\"col_heading level0 col11\" >11.000000</th>\n",
       "      <th id=\"T_92464_level0_col12\" class=\"col_heading level0 col12\" >12.000000</th>\n",
       "      <th id=\"T_92464_level0_col13\" class=\"col_heading level0 col13\" >13.000000</th>\n",
       "      <th id=\"T_92464_level0_col14\" class=\"col_heading level0 col14\" >14.000000</th>\n",
       "      <th id=\"T_92464_level0_col15\" class=\"col_heading level0 col15\" >15.000000</th>\n",
       "      <th id=\"T_92464_level0_col16\" class=\"col_heading level0 col16\" >16.000000</th>\n",
       "      <th id=\"T_92464_level0_col17\" class=\"col_heading level0 col17\" >17.000000</th>\n",
       "      <th id=\"T_92464_level0_col18\" class=\"col_heading level0 col18\" >18.000000</th>\n",
       "      <th id=\"T_92464_level0_col19\" class=\"col_heading level0 col19\" >19.000000</th>\n",
       "      <th id=\"T_92464_level0_col20\" class=\"col_heading level0 col20\" >20.000000</th>\n",
       "      <th id=\"T_92464_level0_col21\" class=\"col_heading level0 col21\" >21.000000</th>\n",
       "      <th id=\"T_92464_level0_col22\" class=\"col_heading level0 col22\" >22.000000</th>\n",
       "      <th id=\"T_92464_level0_col23\" class=\"col_heading level0 col23\" >23.000000</th>\n",
       "    </tr>\n",
       "    <tr>\n",
       "      <th class=\"index_name level0\" >day</th>\n",
       "      <th class=\"blank col0\" >&nbsp;</th>\n",
       "      <th class=\"blank col1\" >&nbsp;</th>\n",
       "      <th class=\"blank col2\" >&nbsp;</th>\n",
       "      <th class=\"blank col3\" >&nbsp;</th>\n",
       "      <th class=\"blank col4\" >&nbsp;</th>\n",
       "      <th class=\"blank col5\" >&nbsp;</th>\n",
       "      <th class=\"blank col6\" >&nbsp;</th>\n",
       "      <th class=\"blank col7\" >&nbsp;</th>\n",
       "      <th class=\"blank col8\" >&nbsp;</th>\n",
       "      <th class=\"blank col9\" >&nbsp;</th>\n",
       "      <th class=\"blank col10\" >&nbsp;</th>\n",
       "      <th class=\"blank col11\" >&nbsp;</th>\n",
       "      <th class=\"blank col12\" >&nbsp;</th>\n",
       "      <th class=\"blank col13\" >&nbsp;</th>\n",
       "      <th class=\"blank col14\" >&nbsp;</th>\n",
       "      <th class=\"blank col15\" >&nbsp;</th>\n",
       "      <th class=\"blank col16\" >&nbsp;</th>\n",
       "      <th class=\"blank col17\" >&nbsp;</th>\n",
       "      <th class=\"blank col18\" >&nbsp;</th>\n",
       "      <th class=\"blank col19\" >&nbsp;</th>\n",
       "      <th class=\"blank col20\" >&nbsp;</th>\n",
       "      <th class=\"blank col21\" >&nbsp;</th>\n",
       "      <th class=\"blank col22\" >&nbsp;</th>\n",
       "      <th class=\"blank col23\" >&nbsp;</th>\n",
       "    </tr>\n",
       "  </thead>\n",
       "  <tbody>\n",
       "    <tr>\n",
       "      <th id=\"T_92464_level0_row0\" class=\"row_heading level0 row0\" >1.000000</th>\n",
       "      <td id=\"T_92464_row0_col0\" class=\"data row0 col0\" >3178</td>\n",
       "      <td id=\"T_92464_row0_col1\" class=\"data row0 col1\" >1944</td>\n",
       "      <td id=\"T_92464_row0_col2\" class=\"data row0 col2\" >1256</td>\n",
       "      <td id=\"T_92464_row0_col3\" class=\"data row0 col3\" >1308</td>\n",
       "      <td id=\"T_92464_row0_col4\" class=\"data row0 col4\" >1429</td>\n",
       "      <td id=\"T_92464_row0_col5\" class=\"data row0 col5\" >2126</td>\n",
       "      <td id=\"T_92464_row0_col6\" class=\"data row0 col6\" >3664</td>\n",
       "      <td id=\"T_92464_row0_col7\" class=\"data row0 col7\" >5380</td>\n",
       "      <td id=\"T_92464_row0_col8\" class=\"data row0 col8\" >5292</td>\n",
       "      <td id=\"T_92464_row0_col9\" class=\"data row0 col9\" >4617</td>\n",
       "      <td id=\"T_92464_row0_col10\" class=\"data row0 col10\" >4607</td>\n",
       "      <td id=\"T_92464_row0_col11\" class=\"data row0 col11\" >4729</td>\n",
       "      <td id=\"T_92464_row0_col12\" class=\"data row0 col12\" >4930</td>\n",
       "      <td id=\"T_92464_row0_col13\" class=\"data row0 col13\" >5794</td>\n",
       "      <td id=\"T_92464_row0_col14\" class=\"data row0 col14\" >6933</td>\n",
       "      <td id=\"T_92464_row0_col15\" class=\"data row0 col15\" >7910</td>\n",
       "      <td id=\"T_92464_row0_col16\" class=\"data row0 col16\" >8633</td>\n",
       "      <td id=\"T_92464_row0_col17\" class=\"data row0 col17\" >9511</td>\n",
       "      <td id=\"T_92464_row0_col18\" class=\"data row0 col18\" >8604</td>\n",
       "      <td id=\"T_92464_row0_col19\" class=\"data row0 col19\" >8001</td>\n",
       "      <td id=\"T_92464_row0_col20\" class=\"data row0 col20\" >7315</td>\n",
       "      <td id=\"T_92464_row0_col21\" class=\"data row0 col21\" >7803</td>\n",
       "      <td id=\"T_92464_row0_col22\" class=\"data row0 col22\" >6268</td>\n",
       "      <td id=\"T_92464_row0_col23\" class=\"data row0 col23\" >4050</td>\n",
       "    </tr>\n",
       "    <tr>\n",
       "      <th id=\"T_92464_level0_row1\" class=\"row_heading level0 row1\" >2.000000</th>\n",
       "      <td id=\"T_92464_row1_col0\" class=\"data row1 col0\" >2435</td>\n",
       "      <td id=\"T_92464_row1_col1\" class=\"data row1 col1\" >1569</td>\n",
       "      <td id=\"T_92464_row1_col2\" class=\"data row1 col2\" >1087</td>\n",
       "      <td id=\"T_92464_row1_col3\" class=\"data row1 col3\" >1414</td>\n",
       "      <td id=\"T_92464_row1_col4\" class=\"data row1 col4\" >1876</td>\n",
       "      <td id=\"T_92464_row1_col5\" class=\"data row1 col5\" >2812</td>\n",
       "      <td id=\"T_92464_row1_col6\" class=\"data row1 col6\" >4920</td>\n",
       "      <td id=\"T_92464_row1_col7\" class=\"data row1 col7\" >6544</td>\n",
       "      <td id=\"T_92464_row1_col8\" class=\"data row1 col8\" >6310</td>\n",
       "      <td id=\"T_92464_row1_col9\" class=\"data row1 col9\" >4712</td>\n",
       "      <td id=\"T_92464_row1_col10\" class=\"data row1 col10\" >4797</td>\n",
       "      <td id=\"T_92464_row1_col11\" class=\"data row1 col11\" >4975</td>\n",
       "      <td id=\"T_92464_row1_col12\" class=\"data row1 col12\" >5188</td>\n",
       "      <td id=\"T_92464_row1_col13\" class=\"data row1 col13\" >5695</td>\n",
       "      <td id=\"T_92464_row1_col14\" class=\"data row1 col14\" >6904</td>\n",
       "      <td id=\"T_92464_row1_col15\" class=\"data row1 col15\" >8449</td>\n",
       "      <td id=\"T_92464_row1_col16\" class=\"data row1 col16\" >10109</td>\n",
       "      <td id=\"T_92464_row1_col17\" class=\"data row1 col17\" >11100</td>\n",
       "      <td id=\"T_92464_row1_col18\" class=\"data row1 col18\" >11123</td>\n",
       "      <td id=\"T_92464_row1_col19\" class=\"data row1 col19\" >9474</td>\n",
       "      <td id=\"T_92464_row1_col20\" class=\"data row1 col20\" >8759</td>\n",
       "      <td id=\"T_92464_row1_col21\" class=\"data row1 col21\" >8357</td>\n",
       "      <td id=\"T_92464_row1_col22\" class=\"data row1 col22\" >6998</td>\n",
       "      <td id=\"T_92464_row1_col23\" class=\"data row1 col23\" >5160</td>\n",
       "    </tr>\n",
       "    <tr>\n",
       "      <th id=\"T_92464_level0_row2\" class=\"row_heading level0 row2\" >3.000000</th>\n",
       "      <td id=\"T_92464_row2_col0\" class=\"data row2 col0\" >3354</td>\n",
       "      <td id=\"T_92464_row2_col1\" class=\"data row2 col1\" >2142</td>\n",
       "      <td id=\"T_92464_row2_col2\" class=\"data row2 col2\" >1407</td>\n",
       "      <td id=\"T_92464_row2_col3\" class=\"data row2 col3\" >1467</td>\n",
       "      <td id=\"T_92464_row2_col4\" class=\"data row2 col4\" >1550</td>\n",
       "      <td id=\"T_92464_row2_col5\" class=\"data row2 col5\" >2387</td>\n",
       "      <td id=\"T_92464_row2_col6\" class=\"data row2 col6\" >4241</td>\n",
       "      <td id=\"T_92464_row2_col7\" class=\"data row2 col7\" >5663</td>\n",
       "      <td id=\"T_92464_row2_col8\" class=\"data row2 col8\" >5386</td>\n",
       "      <td id=\"T_92464_row2_col9\" class=\"data row2 col9\" >4657</td>\n",
       "      <td id=\"T_92464_row2_col10\" class=\"data row2 col10\" >4788</td>\n",
       "      <td id=\"T_92464_row2_col11\" class=\"data row2 col11\" >5065</td>\n",
       "      <td id=\"T_92464_row2_col12\" class=\"data row2 col12\" >5384</td>\n",
       "      <td id=\"T_92464_row2_col13\" class=\"data row2 col13\" >6093</td>\n",
       "      <td id=\"T_92464_row2_col14\" class=\"data row2 col14\" >7226</td>\n",
       "      <td id=\"T_92464_row2_col15\" class=\"data row2 col15\" >8850</td>\n",
       "      <td id=\"T_92464_row2_col16\" class=\"data row2 col16\" >10314</td>\n",
       "      <td id=\"T_92464_row2_col17\" class=\"data row2 col17\" >10491</td>\n",
       "      <td id=\"T_92464_row2_col18\" class=\"data row2 col18\" >11239</td>\n",
       "      <td id=\"T_92464_row2_col19\" class=\"data row2 col19\" >9599</td>\n",
       "      <td id=\"T_92464_row2_col20\" class=\"data row2 col20\" >9026</td>\n",
       "      <td id=\"T_92464_row2_col21\" class=\"data row2 col21\" >8531</td>\n",
       "      <td id=\"T_92464_row2_col22\" class=\"data row2 col22\" >7142</td>\n",
       "      <td id=\"T_92464_row2_col23\" class=\"data row2 col23\" >4686</td>\n",
       "    </tr>\n",
       "    <tr>\n",
       "      <th id=\"T_92464_level0_row3\" class=\"row_heading level0 row3\" >4.000000</th>\n",
       "      <td id=\"T_92464_row3_col0\" class=\"data row3 col0\" >2897</td>\n",
       "      <td id=\"T_92464_row3_col1\" class=\"data row3 col1\" >1688</td>\n",
       "      <td id=\"T_92464_row3_col2\" class=\"data row3 col2\" >1199</td>\n",
       "      <td id=\"T_92464_row3_col3\" class=\"data row3 col3\" >1424</td>\n",
       "      <td id=\"T_92464_row3_col4\" class=\"data row3 col4\" >1696</td>\n",
       "      <td id=\"T_92464_row3_col5\" class=\"data row3 col5\" >2581</td>\n",
       "      <td id=\"T_92464_row3_col6\" class=\"data row3 col6\" >4592</td>\n",
       "      <td id=\"T_92464_row3_col7\" class=\"data row3 col7\" >6029</td>\n",
       "      <td id=\"T_92464_row3_col8\" class=\"data row3 col8\" >5704</td>\n",
       "      <td id=\"T_92464_row3_col9\" class=\"data row3 col9\" >4744</td>\n",
       "      <td id=\"T_92464_row3_col10\" class=\"data row3 col10\" >4743</td>\n",
       "      <td id=\"T_92464_row3_col11\" class=\"data row3 col11\" >4975</td>\n",
       "      <td id=\"T_92464_row3_col12\" class=\"data row3 col12\" >5193</td>\n",
       "      <td id=\"T_92464_row3_col13\" class=\"data row3 col13\" >6175</td>\n",
       "      <td id=\"T_92464_row3_col14\" class=\"data row3 col14\" >7158</td>\n",
       "      <td id=\"T_92464_row3_col15\" class=\"data row3 col15\" >8515</td>\n",
       "      <td id=\"T_92464_row3_col16\" class=\"data row3 col16\" >9492</td>\n",
       "      <td id=\"T_92464_row3_col17\" class=\"data row3 col17\" >10357</td>\n",
       "      <td id=\"T_92464_row3_col18\" class=\"data row3 col18\" >10259</td>\n",
       "      <td id=\"T_92464_row3_col19\" class=\"data row3 col19\" >9097</td>\n",
       "      <td id=\"T_92464_row3_col20\" class=\"data row3 col20\" >8358</td>\n",
       "      <td id=\"T_92464_row3_col21\" class=\"data row3 col21\" >8649</td>\n",
       "      <td id=\"T_92464_row3_col22\" class=\"data row3 col22\" >7706</td>\n",
       "      <td id=\"T_92464_row3_col23\" class=\"data row3 col23\" >5130</td>\n",
       "    </tr>\n",
       "    <tr>\n",
       "      <th id=\"T_92464_level0_row4\" class=\"row_heading level0 row4\" >5.000000</th>\n",
       "      <td id=\"T_92464_row4_col0\" class=\"data row4 col0\" >2733</td>\n",
       "      <td id=\"T_92464_row4_col1\" class=\"data row4 col1\" >1541</td>\n",
       "      <td id=\"T_92464_row4_col2\" class=\"data row4 col2\" >1030</td>\n",
       "      <td id=\"T_92464_row4_col3\" class=\"data row4 col3\" >1253</td>\n",
       "      <td id=\"T_92464_row4_col4\" class=\"data row4 col4\" >1617</td>\n",
       "      <td id=\"T_92464_row4_col5\" class=\"data row4 col5\" >2900</td>\n",
       "      <td id=\"T_92464_row4_col6\" class=\"data row4 col6\" >4814</td>\n",
       "      <td id=\"T_92464_row4_col7\" class=\"data row4 col7\" >6261</td>\n",
       "      <td id=\"T_92464_row4_col8\" class=\"data row4 col8\" >6469</td>\n",
       "      <td id=\"T_92464_row4_col9\" class=\"data row4 col9\" >5530</td>\n",
       "      <td id=\"T_92464_row4_col10\" class=\"data row4 col10\" >5141</td>\n",
       "      <td id=\"T_92464_row4_col11\" class=\"data row4 col11\" >5011</td>\n",
       "      <td id=\"T_92464_row4_col12\" class=\"data row4 col12\" >5047</td>\n",
       "      <td id=\"T_92464_row4_col13\" class=\"data row4 col13\" >5690</td>\n",
       "      <td id=\"T_92464_row4_col14\" class=\"data row4 col14\" >6955</td>\n",
       "      <td id=\"T_92464_row4_col15\" class=\"data row4 col15\" >8312</td>\n",
       "      <td id=\"T_92464_row4_col16\" class=\"data row4 col16\" >9609</td>\n",
       "      <td id=\"T_92464_row4_col17\" class=\"data row4 col17\" >10699</td>\n",
       "      <td id=\"T_92464_row4_col18\" class=\"data row4 col18\" >10170</td>\n",
       "      <td id=\"T_92464_row4_col19\" class=\"data row4 col19\" >9430</td>\n",
       "      <td id=\"T_92464_row4_col20\" class=\"data row4 col20\" >9354</td>\n",
       "      <td id=\"T_92464_row4_col21\" class=\"data row4 col21\" >9610</td>\n",
       "      <td id=\"T_92464_row4_col22\" class=\"data row4 col22\" >8853</td>\n",
       "      <td id=\"T_92464_row4_col23\" class=\"data row4 col23\" >6518</td>\n",
       "    </tr>\n",
       "    <tr>\n",
       "      <th id=\"T_92464_level0_row5\" class=\"row_heading level0 row5\" >6.000000</th>\n",
       "      <td id=\"T_92464_row5_col0\" class=\"data row5 col0\" >4537</td>\n",
       "      <td id=\"T_92464_row5_col1\" class=\"data row5 col1\" >2864</td>\n",
       "      <td id=\"T_92464_row5_col2\" class=\"data row5 col2\" >1864</td>\n",
       "      <td id=\"T_92464_row5_col3\" class=\"data row5 col3\" >1555</td>\n",
       "      <td id=\"T_92464_row5_col4\" class=\"data row5 col4\" >1551</td>\n",
       "      <td id=\"T_92464_row5_col5\" class=\"data row5 col5\" >2162</td>\n",
       "      <td id=\"T_92464_row5_col6\" class=\"data row5 col6\" >3642</td>\n",
       "      <td id=\"T_92464_row5_col7\" class=\"data row5 col7\" >4766</td>\n",
       "      <td id=\"T_92464_row5_col8\" class=\"data row5 col8\" >4942</td>\n",
       "      <td id=\"T_92464_row5_col9\" class=\"data row5 col9\" >4401</td>\n",
       "      <td id=\"T_92464_row5_col10\" class=\"data row5 col10\" >4801</td>\n",
       "      <td id=\"T_92464_row5_col11\" class=\"data row5 col11\" >5174</td>\n",
       "      <td id=\"T_92464_row5_col12\" class=\"data row5 col12\" >5426</td>\n",
       "      <td id=\"T_92464_row5_col13\" class=\"data row5 col13\" >6258</td>\n",
       "      <td id=\"T_92464_row5_col14\" class=\"data row5 col14\" >7235</td>\n",
       "      <td id=\"T_92464_row5_col15\" class=\"data row5 col15\" >8612</td>\n",
       "      <td id=\"T_92464_row5_col16\" class=\"data row5 col16\" >9444</td>\n",
       "      <td id=\"T_92464_row5_col17\" class=\"data row5 col17\" >9929</td>\n",
       "      <td id=\"T_92464_row5_col18\" class=\"data row5 col18\" >9263</td>\n",
       "      <td id=\"T_92464_row5_col19\" class=\"data row5 col19\" >8405</td>\n",
       "      <td id=\"T_92464_row5_col20\" class=\"data row5 col20\" >8117</td>\n",
       "      <td id=\"T_92464_row5_col21\" class=\"data row5 col21\" >8567</td>\n",
       "      <td id=\"T_92464_row5_col22\" class=\"data row5 col22\" >7852</td>\n",
       "      <td id=\"T_92464_row5_col23\" class=\"data row5 col23\" >5946</td>\n",
       "    </tr>\n",
       "    <tr>\n",
       "      <th id=\"T_92464_level0_row6\" class=\"row_heading level0 row6\" >7.000000</th>\n",
       "      <td id=\"T_92464_row6_col0\" class=\"data row6 col0\" >3645</td>\n",
       "      <td id=\"T_92464_row6_col1\" class=\"data row6 col1\" >2296</td>\n",
       "      <td id=\"T_92464_row6_col2\" class=\"data row6 col2\" >1507</td>\n",
       "      <td id=\"T_92464_row6_col3\" class=\"data row6 col3\" >1597</td>\n",
       "      <td id=\"T_92464_row6_col4\" class=\"data row6 col4\" >1763</td>\n",
       "      <td id=\"T_92464_row6_col5\" class=\"data row6 col5\" >2422</td>\n",
       "      <td id=\"T_92464_row6_col6\" class=\"data row6 col6\" >4102</td>\n",
       "      <td id=\"T_92464_row6_col7\" class=\"data row6 col7\" >5575</td>\n",
       "      <td id=\"T_92464_row6_col8\" class=\"data row6 col8\" >5376</td>\n",
       "      <td id=\"T_92464_row6_col9\" class=\"data row6 col9\" >4639</td>\n",
       "      <td id=\"T_92464_row6_col10\" class=\"data row6 col10\" >4905</td>\n",
       "      <td id=\"T_92464_row6_col11\" class=\"data row6 col11\" >5166</td>\n",
       "      <td id=\"T_92464_row6_col12\" class=\"data row6 col12\" >5364</td>\n",
       "      <td id=\"T_92464_row6_col13\" class=\"data row6 col13\" >6214</td>\n",
       "      <td id=\"T_92464_row6_col14\" class=\"data row6 col14\" >7276</td>\n",
       "      <td id=\"T_92464_row6_col15\" class=\"data row6 col15\" >8474</td>\n",
       "      <td id=\"T_92464_row6_col16\" class=\"data row6 col16\" >10393</td>\n",
       "      <td id=\"T_92464_row6_col17\" class=\"data row6 col17\" >11013</td>\n",
       "      <td id=\"T_92464_row6_col18\" class=\"data row6 col18\" >10573</td>\n",
       "      <td id=\"T_92464_row6_col19\" class=\"data row6 col19\" >9472</td>\n",
       "      <td id=\"T_92464_row6_col20\" class=\"data row6 col20\" >8691</td>\n",
       "      <td id=\"T_92464_row6_col21\" class=\"data row6 col21\" >8525</td>\n",
       "      <td id=\"T_92464_row6_col22\" class=\"data row6 col22\" >7194</td>\n",
       "      <td id=\"T_92464_row6_col23\" class=\"data row6 col23\" >4801</td>\n",
       "    </tr>\n",
       "    <tr>\n",
       "      <th id=\"T_92464_level0_row7\" class=\"row_heading level0 row7\" >8.000000</th>\n",
       "      <td id=\"T_92464_row7_col0\" class=\"data row7 col0\" >2830</td>\n",
       "      <td id=\"T_92464_row7_col1\" class=\"data row7 col1\" >1646</td>\n",
       "      <td id=\"T_92464_row7_col2\" class=\"data row7 col2\" >1123</td>\n",
       "      <td id=\"T_92464_row7_col3\" class=\"data row7 col3\" >1483</td>\n",
       "      <td id=\"T_92464_row7_col4\" class=\"data row7 col4\" >1889</td>\n",
       "      <td id=\"T_92464_row7_col5\" class=\"data row7 col5\" >3224</td>\n",
       "      <td id=\"T_92464_row7_col6\" class=\"data row7 col6\" >5431</td>\n",
       "      <td id=\"T_92464_row7_col7\" class=\"data row7 col7\" >7361</td>\n",
       "      <td id=\"T_92464_row7_col8\" class=\"data row7 col8\" >7357</td>\n",
       "      <td id=\"T_92464_row7_col9\" class=\"data row7 col9\" >5703</td>\n",
       "      <td id=\"T_92464_row7_col10\" class=\"data row7 col10\" >5288</td>\n",
       "      <td id=\"T_92464_row7_col11\" class=\"data row7 col11\" >5350</td>\n",
       "      <td id=\"T_92464_row7_col12\" class=\"data row7 col12\" >5483</td>\n",
       "      <td id=\"T_92464_row7_col13\" class=\"data row7 col13\" >6318</td>\n",
       "      <td id=\"T_92464_row7_col14\" class=\"data row7 col14\" >7240</td>\n",
       "      <td id=\"T_92464_row7_col15\" class=\"data row7 col15\" >8775</td>\n",
       "      <td id=\"T_92464_row7_col16\" class=\"data row7 col16\" >9851</td>\n",
       "      <td id=\"T_92464_row7_col17\" class=\"data row7 col17\" >10673</td>\n",
       "      <td id=\"T_92464_row7_col18\" class=\"data row7 col18\" >9687</td>\n",
       "      <td id=\"T_92464_row7_col19\" class=\"data row7 col19\" >8796</td>\n",
       "      <td id=\"T_92464_row7_col20\" class=\"data row7 col20\" >8604</td>\n",
       "      <td id=\"T_92464_row7_col21\" class=\"data row7 col21\" >8367</td>\n",
       "      <td id=\"T_92464_row7_col22\" class=\"data row7 col22\" >6795</td>\n",
       "      <td id=\"T_92464_row7_col23\" class=\"data row7 col23\" >4256</td>\n",
       "    </tr>\n",
       "    <tr>\n",
       "      <th id=\"T_92464_level0_row8\" class=\"row_heading level0 row8\" >9.000000</th>\n",
       "      <td id=\"T_92464_row8_col0\" class=\"data row8 col0\" >2657</td>\n",
       "      <td id=\"T_92464_row8_col1\" class=\"data row8 col1\" >1724</td>\n",
       "      <td id=\"T_92464_row8_col2\" class=\"data row8 col2\" >1222</td>\n",
       "      <td id=\"T_92464_row8_col3\" class=\"data row8 col3\" >1480</td>\n",
       "      <td id=\"T_92464_row8_col4\" class=\"data row8 col4\" >1871</td>\n",
       "      <td id=\"T_92464_row8_col5\" class=\"data row8 col5\" >3168</td>\n",
       "      <td id=\"T_92464_row8_col6\" class=\"data row8 col6\" >5802</td>\n",
       "      <td id=\"T_92464_row8_col7\" class=\"data row8 col7\" >7592</td>\n",
       "      <td id=\"T_92464_row8_col8\" class=\"data row8 col8\" >7519</td>\n",
       "      <td id=\"T_92464_row8_col9\" class=\"data row8 col9\" >5895</td>\n",
       "      <td id=\"T_92464_row8_col10\" class=\"data row8 col10\" >5406</td>\n",
       "      <td id=\"T_92464_row8_col11\" class=\"data row8 col11\" >5443</td>\n",
       "      <td id=\"T_92464_row8_col12\" class=\"data row8 col12\" >5496</td>\n",
       "      <td id=\"T_92464_row8_col13\" class=\"data row8 col13\" >6419</td>\n",
       "      <td id=\"T_92464_row8_col14\" class=\"data row8 col14\" >7877</td>\n",
       "      <td id=\"T_92464_row8_col15\" class=\"data row8 col15\" >9220</td>\n",
       "      <td id=\"T_92464_row8_col16\" class=\"data row8 col16\" >10270</td>\n",
       "      <td id=\"T_92464_row8_col17\" class=\"data row8 col17\" >11910</td>\n",
       "      <td id=\"T_92464_row8_col18\" class=\"data row8 col18\" >11449</td>\n",
       "      <td id=\"T_92464_row8_col19\" class=\"data row8 col19\" >9804</td>\n",
       "      <td id=\"T_92464_row8_col20\" class=\"data row8 col20\" >8909</td>\n",
       "      <td id=\"T_92464_row8_col21\" class=\"data row8 col21\" >8665</td>\n",
       "      <td id=\"T_92464_row8_col22\" class=\"data row8 col22\" >7499</td>\n",
       "      <td id=\"T_92464_row8_col23\" class=\"data row8 col23\" >5203</td>\n",
       "    </tr>\n",
       "    <tr>\n",
       "      <th id=\"T_92464_level0_row9\" class=\"row_heading level0 row9\" >10.000000</th>\n",
       "      <td id=\"T_92464_row9_col0\" class=\"data row9 col0\" >3296</td>\n",
       "      <td id=\"T_92464_row9_col1\" class=\"data row9 col1\" >2126</td>\n",
       "      <td id=\"T_92464_row9_col2\" class=\"data row9 col2\" >1464</td>\n",
       "      <td id=\"T_92464_row9_col3\" class=\"data row9 col3\" >1434</td>\n",
       "      <td id=\"T_92464_row9_col4\" class=\"data row9 col4\" >1591</td>\n",
       "      <td id=\"T_92464_row9_col5\" class=\"data row9 col5\" >2594</td>\n",
       "      <td id=\"T_92464_row9_col6\" class=\"data row9 col6\" >4664</td>\n",
       "      <td id=\"T_92464_row9_col7\" class=\"data row9 col7\" >6046</td>\n",
       "      <td id=\"T_92464_row9_col8\" class=\"data row9 col8\" >6158</td>\n",
       "      <td id=\"T_92464_row9_col9\" class=\"data row9 col9\" >5072</td>\n",
       "      <td id=\"T_92464_row9_col10\" class=\"data row9 col10\" >4976</td>\n",
       "      <td id=\"T_92464_row9_col11\" class=\"data row9 col11\" >5415</td>\n",
       "      <td id=\"T_92464_row9_col12\" class=\"data row9 col12\" >5506</td>\n",
       "      <td id=\"T_92464_row9_col13\" class=\"data row9 col13\" >6527</td>\n",
       "      <td id=\"T_92464_row9_col14\" class=\"data row9 col14\" >7612</td>\n",
       "      <td id=\"T_92464_row9_col15\" class=\"data row9 col15\" >9578</td>\n",
       "      <td id=\"T_92464_row9_col16\" class=\"data row9 col16\" >11045</td>\n",
       "      <td id=\"T_92464_row9_col17\" class=\"data row9 col17\" >11875</td>\n",
       "      <td id=\"T_92464_row9_col18\" class=\"data row9 col18\" >10934</td>\n",
       "      <td id=\"T_92464_row9_col19\" class=\"data row9 col19\" >9613</td>\n",
       "      <td id=\"T_92464_row9_col20\" class=\"data row9 col20\" >9687</td>\n",
       "      <td id=\"T_92464_row9_col21\" class=\"data row9 col21\" >9240</td>\n",
       "      <td id=\"T_92464_row9_col22\" class=\"data row9 col22\" >7766</td>\n",
       "      <td id=\"T_92464_row9_col23\" class=\"data row9 col23\" >5496</td>\n",
       "    </tr>\n",
       "    <tr>\n",
       "      <th id=\"T_92464_level0_row10\" class=\"row_heading level0 row10\" >11.000000</th>\n",
       "      <td id=\"T_92464_row10_col0\" class=\"data row10 col0\" >3036</td>\n",
       "      <td id=\"T_92464_row10_col1\" class=\"data row10 col1\" >1665</td>\n",
       "      <td id=\"T_92464_row10_col2\" class=\"data row10 col2\" >1095</td>\n",
       "      <td id=\"T_92464_row10_col3\" class=\"data row10 col3\" >1424</td>\n",
       "      <td id=\"T_92464_row10_col4\" class=\"data row10 col4\" >1842</td>\n",
       "      <td id=\"T_92464_row10_col5\" class=\"data row10 col5\" >2520</td>\n",
       "      <td id=\"T_92464_row10_col6\" class=\"data row10 col6\" >4954</td>\n",
       "      <td id=\"T_92464_row10_col7\" class=\"data row10 col7\" >6876</td>\n",
       "      <td id=\"T_92464_row10_col8\" class=\"data row10 col8\" >6871</td>\n",
       "      <td id=\"T_92464_row10_col9\" class=\"data row10 col9\" >5396</td>\n",
       "      <td id=\"T_92464_row10_col10\" class=\"data row10 col10\" >5215</td>\n",
       "      <td id=\"T_92464_row10_col11\" class=\"data row10 col11\" >5423</td>\n",
       "      <td id=\"T_92464_row10_col12\" class=\"data row10 col12\" >5513</td>\n",
       "      <td id=\"T_92464_row10_col13\" class=\"data row10 col13\" >6486</td>\n",
       "      <td id=\"T_92464_row10_col14\" class=\"data row10 col14\" >7503</td>\n",
       "      <td id=\"T_92464_row10_col15\" class=\"data row10 col15\" >8920</td>\n",
       "      <td id=\"T_92464_row10_col16\" class=\"data row10 col16\" >10125</td>\n",
       "      <td id=\"T_92464_row10_col17\" class=\"data row10 col17\" >10898</td>\n",
       "      <td id=\"T_92464_row10_col18\" class=\"data row10 col18\" >10361</td>\n",
       "      <td id=\"T_92464_row10_col19\" class=\"data row10 col19\" >9327</td>\n",
       "      <td id=\"T_92464_row10_col20\" class=\"data row10 col20\" >8824</td>\n",
       "      <td id=\"T_92464_row10_col21\" class=\"data row10 col21\" >8730</td>\n",
       "      <td id=\"T_92464_row10_col22\" class=\"data row10 col22\" >7771</td>\n",
       "      <td id=\"T_92464_row10_col23\" class=\"data row10 col23\" >5360</td>\n",
       "    </tr>\n",
       "    <tr>\n",
       "      <th id=\"T_92464_level0_row11\" class=\"row_heading level0 row11\" >12.000000</th>\n",
       "      <td id=\"T_92464_row11_col0\" class=\"data row11 col0\" >3227</td>\n",
       "      <td id=\"T_92464_row11_col1\" class=\"data row11 col1\" >2147</td>\n",
       "      <td id=\"T_92464_row11_col2\" class=\"data row11 col2\" >1393</td>\n",
       "      <td id=\"T_92464_row11_col3\" class=\"data row11 col3\" >1362</td>\n",
       "      <td id=\"T_92464_row11_col4\" class=\"data row11 col4\" >1757</td>\n",
       "      <td id=\"T_92464_row11_col5\" class=\"data row11 col5\" >2710</td>\n",
       "      <td id=\"T_92464_row11_col6\" class=\"data row11 col6\" >4576</td>\n",
       "      <td id=\"T_92464_row11_col7\" class=\"data row11 col7\" >6250</td>\n",
       "      <td id=\"T_92464_row11_col8\" class=\"data row11 col8\" >6231</td>\n",
       "      <td id=\"T_92464_row11_col9\" class=\"data row11 col9\" >5177</td>\n",
       "      <td id=\"T_92464_row11_col10\" class=\"data row11 col10\" >5157</td>\n",
       "      <td id=\"T_92464_row11_col11\" class=\"data row11 col11\" >5319</td>\n",
       "      <td id=\"T_92464_row11_col12\" class=\"data row11 col12\" >5570</td>\n",
       "      <td id=\"T_92464_row11_col13\" class=\"data row11 col13\" >6448</td>\n",
       "      <td id=\"T_92464_row11_col14\" class=\"data row11 col14\" >7743</td>\n",
       "      <td id=\"T_92464_row11_col15\" class=\"data row11 col15\" >9390</td>\n",
       "      <td id=\"T_92464_row11_col16\" class=\"data row11 col16\" >10734</td>\n",
       "      <td id=\"T_92464_row11_col17\" class=\"data row11 col17\" >11713</td>\n",
       "      <td id=\"T_92464_row11_col18\" class=\"data row11 col18\" >12216</td>\n",
       "      <td id=\"T_92464_row11_col19\" class=\"data row11 col19\" >10393</td>\n",
       "      <td id=\"T_92464_row11_col20\" class=\"data row11 col20\" >9965</td>\n",
       "      <td id=\"T_92464_row11_col21\" class=\"data row11 col21\" >10310</td>\n",
       "      <td id=\"T_92464_row11_col22\" class=\"data row11 col22\" >9992</td>\n",
       "      <td id=\"T_92464_row11_col23\" class=\"data row11 col23\" >7945</td>\n",
       "    </tr>\n",
       "    <tr>\n",
       "      <th id=\"T_92464_level0_row12\" class=\"row_heading level0 row12\" >13.000000</th>\n",
       "      <td id=\"T_92464_row12_col0\" class=\"data row12 col0\" >5408</td>\n",
       "      <td id=\"T_92464_row12_col1\" class=\"data row12 col1\" >3509</td>\n",
       "      <td id=\"T_92464_row12_col2\" class=\"data row12 col2\" >2262</td>\n",
       "      <td id=\"T_92464_row12_col3\" class=\"data row12 col3\" >1832</td>\n",
       "      <td id=\"T_92464_row12_col4\" class=\"data row12 col4\" >1705</td>\n",
       "      <td id=\"T_92464_row12_col5\" class=\"data row12 col5\" >2327</td>\n",
       "      <td id=\"T_92464_row12_col6\" class=\"data row12 col6\" >4196</td>\n",
       "      <td id=\"T_92464_row12_col7\" class=\"data row12 col7\" >5685</td>\n",
       "      <td id=\"T_92464_row12_col8\" class=\"data row12 col8\" >6060</td>\n",
       "      <td id=\"T_92464_row12_col9\" class=\"data row12 col9\" >5631</td>\n",
       "      <td id=\"T_92464_row12_col10\" class=\"data row12 col10\" >5442</td>\n",
       "      <td id=\"T_92464_row12_col11\" class=\"data row12 col11\" >5720</td>\n",
       "      <td id=\"T_92464_row12_col12\" class=\"data row12 col12\" >5914</td>\n",
       "      <td id=\"T_92464_row12_col13\" class=\"data row12 col13\" >6678</td>\n",
       "      <td id=\"T_92464_row12_col14\" class=\"data row12 col14\" >8200</td>\n",
       "      <td id=\"T_92464_row12_col15\" class=\"data row12 col15\" >9264</td>\n",
       "      <td id=\"T_92464_row12_col16\" class=\"data row12 col16\" >10534</td>\n",
       "      <td id=\"T_92464_row12_col17\" class=\"data row12 col17\" >11826</td>\n",
       "      <td id=\"T_92464_row12_col18\" class=\"data row12 col18\" >11450</td>\n",
       "      <td id=\"T_92464_row12_col19\" class=\"data row12 col19\" >9921</td>\n",
       "      <td id=\"T_92464_row12_col20\" class=\"data row12 col20\" >8705</td>\n",
       "      <td id=\"T_92464_row12_col21\" class=\"data row12 col21\" >8423</td>\n",
       "      <td id=\"T_92464_row12_col22\" class=\"data row12 col22\" >7363</td>\n",
       "      <td id=\"T_92464_row12_col23\" class=\"data row12 col23\" >5936</td>\n",
       "    </tr>\n",
       "    <tr>\n",
       "      <th id=\"T_92464_level0_row13\" class=\"row_heading level0 row13\" >14.000000</th>\n",
       "      <td id=\"T_92464_row13_col0\" class=\"data row13 col0\" >3748</td>\n",
       "      <td id=\"T_92464_row13_col1\" class=\"data row13 col1\" >2349</td>\n",
       "      <td id=\"T_92464_row13_col2\" class=\"data row13 col2\" >1605</td>\n",
       "      <td id=\"T_92464_row13_col3\" class=\"data row13 col3\" >1656</td>\n",
       "      <td id=\"T_92464_row13_col4\" class=\"data row13 col4\" >1756</td>\n",
       "      <td id=\"T_92464_row13_col5\" class=\"data row13 col5\" >2629</td>\n",
       "      <td id=\"T_92464_row13_col6\" class=\"data row13 col6\" >4257</td>\n",
       "      <td id=\"T_92464_row13_col7\" class=\"data row13 col7\" >5781</td>\n",
       "      <td id=\"T_92464_row13_col8\" class=\"data row13 col8\" >5520</td>\n",
       "      <td id=\"T_92464_row13_col9\" class=\"data row13 col9\" >4824</td>\n",
       "      <td id=\"T_92464_row13_col10\" class=\"data row13 col10\" >4911</td>\n",
       "      <td id=\"T_92464_row13_col11\" class=\"data row13 col11\" >5118</td>\n",
       "      <td id=\"T_92464_row13_col12\" class=\"data row13 col12\" >5153</td>\n",
       "      <td id=\"T_92464_row13_col13\" class=\"data row13 col13\" >5747</td>\n",
       "      <td id=\"T_92464_row13_col14\" class=\"data row13 col14\" >6963</td>\n",
       "      <td id=\"T_92464_row13_col15\" class=\"data row13 col15\" >8192</td>\n",
       "      <td id=\"T_92464_row13_col16\" class=\"data row13 col16\" >9511</td>\n",
       "      <td id=\"T_92464_row13_col17\" class=\"data row13 col17\" >10115</td>\n",
       "      <td id=\"T_92464_row13_col18\" class=\"data row13 col18\" >9553</td>\n",
       "      <td id=\"T_92464_row13_col19\" class=\"data row13 col19\" >9146</td>\n",
       "      <td id=\"T_92464_row13_col20\" class=\"data row13 col20\" >9182</td>\n",
       "      <td id=\"T_92464_row13_col21\" class=\"data row13 col21\" >8589</td>\n",
       "      <td id=\"T_92464_row13_col22\" class=\"data row13 col22\" >6891</td>\n",
       "      <td id=\"T_92464_row13_col23\" class=\"data row13 col23\" >4460</td>\n",
       "    </tr>\n",
       "    <tr>\n",
       "      <th id=\"T_92464_level0_row14\" class=\"row_heading level0 row14\" >15.000000</th>\n",
       "      <td id=\"T_92464_row14_col0\" class=\"data row14 col0\" >2497</td>\n",
       "      <td id=\"T_92464_row14_col1\" class=\"data row14 col1\" >1515</td>\n",
       "      <td id=\"T_92464_row14_col2\" class=\"data row14 col2\" >1087</td>\n",
       "      <td id=\"T_92464_row14_col3\" class=\"data row14 col3\" >1381</td>\n",
       "      <td id=\"T_92464_row14_col4\" class=\"data row14 col4\" >1862</td>\n",
       "      <td id=\"T_92464_row14_col5\" class=\"data row14 col5\" >2980</td>\n",
       "      <td id=\"T_92464_row14_col6\" class=\"data row14 col6\" >5050</td>\n",
       "      <td id=\"T_92464_row14_col7\" class=\"data row14 col7\" >6837</td>\n",
       "      <td id=\"T_92464_row14_col8\" class=\"data row14 col8\" >6729</td>\n",
       "      <td id=\"T_92464_row14_col9\" class=\"data row14 col9\" >5201</td>\n",
       "      <td id=\"T_92464_row14_col10\" class=\"data row14 col10\" >5347</td>\n",
       "      <td id=\"T_92464_row14_col11\" class=\"data row14 col11\" >5517</td>\n",
       "      <td id=\"T_92464_row14_col12\" class=\"data row14 col12\" >5503</td>\n",
       "      <td id=\"T_92464_row14_col13\" class=\"data row14 col13\" >6997</td>\n",
       "      <td id=\"T_92464_row14_col14\" class=\"data row14 col14\" >7633</td>\n",
       "      <td id=\"T_92464_row14_col15\" class=\"data row14 col15\" >8505</td>\n",
       "      <td id=\"T_92464_row14_col16\" class=\"data row14 col16\" >10285</td>\n",
       "      <td id=\"T_92464_row14_col17\" class=\"data row14 col17\" >11959</td>\n",
       "      <td id=\"T_92464_row14_col18\" class=\"data row14 col18\" >11728</td>\n",
       "      <td id=\"T_92464_row14_col19\" class=\"data row14 col19\" >11032</td>\n",
       "      <td id=\"T_92464_row14_col20\" class=\"data row14 col20\" >10509</td>\n",
       "      <td id=\"T_92464_row14_col21\" class=\"data row14 col21\" >9105</td>\n",
       "      <td id=\"T_92464_row14_col22\" class=\"data row14 col22\" >7153</td>\n",
       "      <td id=\"T_92464_row14_col23\" class=\"data row14 col23\" >4480</td>\n",
       "    </tr>\n",
       "    <tr>\n",
       "      <th id=\"T_92464_level0_row15\" class=\"row_heading level0 row15\" >16.000000</th>\n",
       "      <td id=\"T_92464_row15_col0\" class=\"data row15 col0\" >2547</td>\n",
       "      <td id=\"T_92464_row15_col1\" class=\"data row15 col1\" >1585</td>\n",
       "      <td id=\"T_92464_row15_col2\" class=\"data row15 col2\" >1119</td>\n",
       "      <td id=\"T_92464_row15_col3\" class=\"data row15 col3\" >1395</td>\n",
       "      <td id=\"T_92464_row15_col4\" class=\"data row15 col4\" >1818</td>\n",
       "      <td id=\"T_92464_row15_col5\" class=\"data row15 col5\" >2966</td>\n",
       "      <td id=\"T_92464_row15_col6\" class=\"data row15 col6\" >5558</td>\n",
       "      <td id=\"T_92464_row15_col7\" class=\"data row15 col7\" >7517</td>\n",
       "      <td id=\"T_92464_row15_col8\" class=\"data row15 col8\" >7495</td>\n",
       "      <td id=\"T_92464_row15_col9\" class=\"data row15 col9\" >5958</td>\n",
       "      <td id=\"T_92464_row15_col10\" class=\"data row15 col10\" >5626</td>\n",
       "      <td id=\"T_92464_row15_col11\" class=\"data row15 col11\" >5480</td>\n",
       "      <td id=\"T_92464_row15_col12\" class=\"data row15 col12\" >5525</td>\n",
       "      <td id=\"T_92464_row15_col13\" class=\"data row15 col13\" >6198</td>\n",
       "      <td id=\"T_92464_row15_col14\" class=\"data row15 col14\" >7597</td>\n",
       "      <td id=\"T_92464_row15_col15\" class=\"data row15 col15\" >9290</td>\n",
       "      <td id=\"T_92464_row15_col16\" class=\"data row15 col16\" >10804</td>\n",
       "      <td id=\"T_92464_row15_col17\" class=\"data row15 col17\" >11773</td>\n",
       "      <td id=\"T_92464_row15_col18\" class=\"data row15 col18\" >10855</td>\n",
       "      <td id=\"T_92464_row15_col19\" class=\"data row15 col19\" >10924</td>\n",
       "      <td id=\"T_92464_row15_col20\" class=\"data row15 col20\" >10142</td>\n",
       "      <td id=\"T_92464_row15_col21\" class=\"data row15 col21\" >10374</td>\n",
       "      <td id=\"T_92464_row15_col22\" class=\"data row15 col22\" >8094</td>\n",
       "      <td id=\"T_92464_row15_col23\" class=\"data row15 col23\" >5380</td>\n",
       "    </tr>\n",
       "    <tr>\n",
       "      <th id=\"T_92464_level0_row16\" class=\"row_heading level0 row16\" >17.000000</th>\n",
       "      <td id=\"T_92464_row16_col0\" class=\"data row16 col0\" >3155</td>\n",
       "      <td id=\"T_92464_row16_col1\" class=\"data row16 col1\" >2048</td>\n",
       "      <td id=\"T_92464_row16_col2\" class=\"data row16 col2\" >1500</td>\n",
       "      <td id=\"T_92464_row16_col3\" class=\"data row16 col3\" >1488</td>\n",
       "      <td id=\"T_92464_row16_col4\" class=\"data row16 col4\" >1897</td>\n",
       "      <td id=\"T_92464_row16_col5\" class=\"data row16 col5\" >2741</td>\n",
       "      <td id=\"T_92464_row16_col6\" class=\"data row16 col6\" >4562</td>\n",
       "      <td id=\"T_92464_row16_col7\" class=\"data row16 col7\" >6315</td>\n",
       "      <td id=\"T_92464_row16_col8\" class=\"data row16 col8\" >5882</td>\n",
       "      <td id=\"T_92464_row16_col9\" class=\"data row16 col9\" >4934</td>\n",
       "      <td id=\"T_92464_row16_col10\" class=\"data row16 col10\" >5004</td>\n",
       "      <td id=\"T_92464_row16_col11\" class=\"data row16 col11\" >5306</td>\n",
       "      <td id=\"T_92464_row16_col12\" class=\"data row16 col12\" >5634</td>\n",
       "      <td id=\"T_92464_row16_col13\" class=\"data row16 col13\" >6507</td>\n",
       "      <td id=\"T_92464_row16_col14\" class=\"data row16 col14\" >7472</td>\n",
       "      <td id=\"T_92464_row16_col15\" class=\"data row16 col15\" >8997</td>\n",
       "      <td id=\"T_92464_row16_col16\" class=\"data row16 col16\" >10323</td>\n",
       "      <td id=\"T_92464_row16_col17\" class=\"data row16 col17\" >11236</td>\n",
       "      <td id=\"T_92464_row16_col18\" class=\"data row16 col18\" >11089</td>\n",
       "      <td id=\"T_92464_row16_col19\" class=\"data row16 col19\" >9919</td>\n",
       "      <td id=\"T_92464_row16_col20\" class=\"data row16 col20\" >9935</td>\n",
       "      <td id=\"T_92464_row16_col21\" class=\"data row16 col21\" >9823</td>\n",
       "      <td id=\"T_92464_row16_col22\" class=\"data row16 col22\" >8362</td>\n",
       "      <td id=\"T_92464_row16_col23\" class=\"data row16 col23\" >5699</td>\n",
       "    </tr>\n",
       "    <tr>\n",
       "      <th id=\"T_92464_level0_row17\" class=\"row_heading level0 row17\" >18.000000</th>\n",
       "      <td id=\"T_92464_row17_col0\" class=\"data row17 col0\" >3390</td>\n",
       "      <td id=\"T_92464_row17_col1\" class=\"data row17 col1\" >2135</td>\n",
       "      <td id=\"T_92464_row17_col2\" class=\"data row17 col2\" >1332</td>\n",
       "      <td id=\"T_92464_row17_col3\" class=\"data row17 col3\" >1626</td>\n",
       "      <td id=\"T_92464_row17_col4\" class=\"data row17 col4\" >1892</td>\n",
       "      <td id=\"T_92464_row17_col5\" class=\"data row17 col5\" >2959</td>\n",
       "      <td id=\"T_92464_row17_col6\" class=\"data row17 col6\" >4688</td>\n",
       "      <td id=\"T_92464_row17_col7\" class=\"data row17 col7\" >6618</td>\n",
       "      <td id=\"T_92464_row17_col8\" class=\"data row17 col8\" >6451</td>\n",
       "      <td id=\"T_92464_row17_col9\" class=\"data row17 col9\" >5377</td>\n",
       "      <td id=\"T_92464_row17_col10\" class=\"data row17 col10\" >5150</td>\n",
       "      <td id=\"T_92464_row17_col11\" class=\"data row17 col11\" >5487</td>\n",
       "      <td id=\"T_92464_row17_col12\" class=\"data row17 col12\" >5490</td>\n",
       "      <td id=\"T_92464_row17_col13\" class=\"data row17 col13\" >6383</td>\n",
       "      <td id=\"T_92464_row17_col14\" class=\"data row17 col14\" >7534</td>\n",
       "      <td id=\"T_92464_row17_col15\" class=\"data row17 col15\" >9040</td>\n",
       "      <td id=\"T_92464_row17_col16\" class=\"data row17 col16\" >10274</td>\n",
       "      <td id=\"T_92464_row17_col17\" class=\"data row17 col17\" >10692</td>\n",
       "      <td id=\"T_92464_row17_col18\" class=\"data row17 col18\" >10338</td>\n",
       "      <td id=\"T_92464_row17_col19\" class=\"data row17 col19\" >9551</td>\n",
       "      <td id=\"T_92464_row17_col20\" class=\"data row17 col20\" >9310</td>\n",
       "      <td id=\"T_92464_row17_col21\" class=\"data row17 col21\" >9285</td>\n",
       "      <td id=\"T_92464_row17_col22\" class=\"data row17 col22\" >8015</td>\n",
       "      <td id=\"T_92464_row17_col23\" class=\"data row17 col23\" >5492</td>\n",
       "    </tr>\n",
       "    <tr>\n",
       "      <th id=\"T_92464_level0_row18\" class=\"row_heading level0 row18\" >19.000000</th>\n",
       "      <td id=\"T_92464_row18_col0\" class=\"data row18 col0\" >3217</td>\n",
       "      <td id=\"T_92464_row18_col1\" class=\"data row18 col1\" >2188</td>\n",
       "      <td id=\"T_92464_row18_col2\" class=\"data row18 col2\" >1604</td>\n",
       "      <td id=\"T_92464_row18_col3\" class=\"data row18 col3\" >1675</td>\n",
       "      <td id=\"T_92464_row18_col4\" class=\"data row18 col4\" >1810</td>\n",
       "      <td id=\"T_92464_row18_col5\" class=\"data row18 col5\" >2639</td>\n",
       "      <td id=\"T_92464_row18_col6\" class=\"data row18 col6\" >4733</td>\n",
       "      <td id=\"T_92464_row18_col7\" class=\"data row18 col7\" >6159</td>\n",
       "      <td id=\"T_92464_row18_col8\" class=\"data row18 col8\" >6014</td>\n",
       "      <td id=\"T_92464_row18_col9\" class=\"data row18 col9\" >5006</td>\n",
       "      <td id=\"T_92464_row18_col10\" class=\"data row18 col10\" >5092</td>\n",
       "      <td id=\"T_92464_row18_col11\" class=\"data row18 col11\" >5240</td>\n",
       "      <td id=\"T_92464_row18_col12\" class=\"data row18 col12\" >5590</td>\n",
       "      <td id=\"T_92464_row18_col13\" class=\"data row18 col13\" >6367</td>\n",
       "      <td id=\"T_92464_row18_col14\" class=\"data row18 col14\" >7374</td>\n",
       "      <td id=\"T_92464_row18_col15\" class=\"data row18 col15\" >8898</td>\n",
       "      <td id=\"T_92464_row18_col16\" class=\"data row18 col16\" >9893</td>\n",
       "      <td id=\"T_92464_row18_col17\" class=\"data row18 col17\" >10741</td>\n",
       "      <td id=\"T_92464_row18_col18\" class=\"data row18 col18\" >10429</td>\n",
       "      <td id=\"T_92464_row18_col19\" class=\"data row18 col19\" >9701</td>\n",
       "      <td id=\"T_92464_row18_col20\" class=\"data row18 col20\" >10051</td>\n",
       "      <td id=\"T_92464_row18_col21\" class=\"data row18 col21\" >10049</td>\n",
       "      <td id=\"T_92464_row18_col22\" class=\"data row18 col22\" >9090</td>\n",
       "      <td id=\"T_92464_row18_col23\" class=\"data row18 col23\" >6666</td>\n",
       "    </tr>\n",
       "    <tr>\n",
       "      <th id=\"T_92464_level0_row19\" class=\"row_heading level0 row19\" >20.000000</th>\n",
       "      <td id=\"T_92464_row19_col0\" class=\"data row19 col0\" >4475</td>\n",
       "      <td id=\"T_92464_row19_col1\" class=\"data row19 col1\" >3190</td>\n",
       "      <td id=\"T_92464_row19_col2\" class=\"data row19 col2\" >2100</td>\n",
       "      <td id=\"T_92464_row19_col3\" class=\"data row19 col3\" >1858</td>\n",
       "      <td id=\"T_92464_row19_col4\" class=\"data row19 col4\" >1618</td>\n",
       "      <td id=\"T_92464_row19_col5\" class=\"data row19 col5\" >2143</td>\n",
       "      <td id=\"T_92464_row19_col6\" class=\"data row19 col6\" >3584</td>\n",
       "      <td id=\"T_92464_row19_col7\" class=\"data row19 col7\" >4900</td>\n",
       "      <td id=\"T_92464_row19_col8\" class=\"data row19 col8\" >5083</td>\n",
       "      <td id=\"T_92464_row19_col9\" class=\"data row19 col9\" >4765</td>\n",
       "      <td id=\"T_92464_row19_col10\" class=\"data row19 col10\" >5135</td>\n",
       "      <td id=\"T_92464_row19_col11\" class=\"data row19 col11\" >5650</td>\n",
       "      <td id=\"T_92464_row19_col12\" class=\"data row19 col12\" >5745</td>\n",
       "      <td id=\"T_92464_row19_col13\" class=\"data row19 col13\" >6656</td>\n",
       "      <td id=\"T_92464_row19_col14\" class=\"data row19 col14\" >7462</td>\n",
       "      <td id=\"T_92464_row19_col15\" class=\"data row19 col15\" >8630</td>\n",
       "      <td id=\"T_92464_row19_col16\" class=\"data row19 col16\" >9448</td>\n",
       "      <td id=\"T_92464_row19_col17\" class=\"data row19 col17\" >10046</td>\n",
       "      <td id=\"T_92464_row19_col18\" class=\"data row19 col18\" >9272</td>\n",
       "      <td id=\"T_92464_row19_col19\" class=\"data row19 col19\" >8592</td>\n",
       "      <td id=\"T_92464_row19_col20\" class=\"data row19 col20\" >8614</td>\n",
       "      <td id=\"T_92464_row19_col21\" class=\"data row19 col21\" >8703</td>\n",
       "      <td id=\"T_92464_row19_col22\" class=\"data row19 col22\" >7787</td>\n",
       "      <td id=\"T_92464_row19_col23\" class=\"data row19 col23\" >5907</td>\n",
       "    </tr>\n",
       "    <tr>\n",
       "      <th id=\"T_92464_level0_row20\" class=\"row_heading level0 row20\" >21.000000</th>\n",
       "      <td id=\"T_92464_row20_col0\" class=\"data row20 col0\" >4294</td>\n",
       "      <td id=\"T_92464_row20_col1\" class=\"data row20 col1\" >3194</td>\n",
       "      <td id=\"T_92464_row20_col2\" class=\"data row20 col2\" >1972</td>\n",
       "      <td id=\"T_92464_row20_col3\" class=\"data row20 col3\" >1727</td>\n",
       "      <td id=\"T_92464_row20_col4\" class=\"data row20 col4\" >1926</td>\n",
       "      <td id=\"T_92464_row20_col5\" class=\"data row20 col5\" >2615</td>\n",
       "      <td id=\"T_92464_row20_col6\" class=\"data row20 col6\" >4185</td>\n",
       "      <td id=\"T_92464_row20_col7\" class=\"data row20 col7\" >5727</td>\n",
       "      <td id=\"T_92464_row20_col8\" class=\"data row20 col8\" >5529</td>\n",
       "      <td id=\"T_92464_row20_col9\" class=\"data row20 col9\" >4707</td>\n",
       "      <td id=\"T_92464_row20_col10\" class=\"data row20 col10\" >4911</td>\n",
       "      <td id=\"T_92464_row20_col11\" class=\"data row20 col11\" >5212</td>\n",
       "      <td id=\"T_92464_row20_col12\" class=\"data row20 col12\" >5465</td>\n",
       "      <td id=\"T_92464_row20_col13\" class=\"data row20 col13\" >6085</td>\n",
       "      <td id=\"T_92464_row20_col14\" class=\"data row20 col14\" >7064</td>\n",
       "      <td id=\"T_92464_row20_col15\" class=\"data row20 col15\" >8127</td>\n",
       "      <td id=\"T_92464_row20_col16\" class=\"data row20 col16\" >9483</td>\n",
       "      <td id=\"T_92464_row20_col17\" class=\"data row20 col17\" >9817</td>\n",
       "      <td id=\"T_92464_row20_col18\" class=\"data row20 col18\" >9291</td>\n",
       "      <td id=\"T_92464_row20_col19\" class=\"data row20 col19\" >8317</td>\n",
       "      <td id=\"T_92464_row20_col20\" class=\"data row20 col20\" >8107</td>\n",
       "      <td id=\"T_92464_row20_col21\" class=\"data row20 col21\" >8245</td>\n",
       "      <td id=\"T_92464_row20_col22\" class=\"data row20 col22\" >7362</td>\n",
       "      <td id=\"T_92464_row20_col23\" class=\"data row20 col23\" >5231</td>\n",
       "    </tr>\n",
       "    <tr>\n",
       "      <th id=\"T_92464_level0_row21\" class=\"row_heading level0 row21\" >22.000000</th>\n",
       "      <td id=\"T_92464_row21_col0\" class=\"data row21 col0\" >2787</td>\n",
       "      <td id=\"T_92464_row21_col1\" class=\"data row21 col1\" >1637</td>\n",
       "      <td id=\"T_92464_row21_col2\" class=\"data row21 col2\" >1175</td>\n",
       "      <td id=\"T_92464_row21_col3\" class=\"data row21 col3\" >1468</td>\n",
       "      <td id=\"T_92464_row21_col4\" class=\"data row21 col4\" >1934</td>\n",
       "      <td id=\"T_92464_row21_col5\" class=\"data row21 col5\" >3151</td>\n",
       "      <td id=\"T_92464_row21_col6\" class=\"data row21 col6\" >5204</td>\n",
       "      <td id=\"T_92464_row21_col7\" class=\"data row21 col7\" >6872</td>\n",
       "      <td id=\"T_92464_row21_col8\" class=\"data row21 col8\" >6850</td>\n",
       "      <td id=\"T_92464_row21_col9\" class=\"data row21 col9\" >5198</td>\n",
       "      <td id=\"T_92464_row21_col10\" class=\"data row21 col10\" >5277</td>\n",
       "      <td id=\"T_92464_row21_col11\" class=\"data row21 col11\" >5352</td>\n",
       "      <td id=\"T_92464_row21_col12\" class=\"data row21 col12\" >5512</td>\n",
       "      <td id=\"T_92464_row21_col13\" class=\"data row21 col13\" >6342</td>\n",
       "      <td id=\"T_92464_row21_col14\" class=\"data row21 col14\" >7337</td>\n",
       "      <td id=\"T_92464_row21_col15\" class=\"data row21 col15\" >9148</td>\n",
       "      <td id=\"T_92464_row21_col16\" class=\"data row21 col16\" >10574</td>\n",
       "      <td id=\"T_92464_row21_col17\" class=\"data row21 col17\" >10962</td>\n",
       "      <td id=\"T_92464_row21_col18\" class=\"data row21 col18\" >9884</td>\n",
       "      <td id=\"T_92464_row21_col19\" class=\"data row21 col19\" >8980</td>\n",
       "      <td id=\"T_92464_row21_col20\" class=\"data row21 col20\" >8772</td>\n",
       "      <td id=\"T_92464_row21_col21\" class=\"data row21 col21\" >8430</td>\n",
       "      <td id=\"T_92464_row21_col22\" class=\"data row21 col22\" >6784</td>\n",
       "      <td id=\"T_92464_row21_col23\" class=\"data row21 col23\" >4530</td>\n",
       "    </tr>\n",
       "    <tr>\n",
       "      <th id=\"T_92464_level0_row22\" class=\"row_heading level0 row22\" >23.000000</th>\n",
       "      <td id=\"T_92464_row22_col0\" class=\"data row22 col0\" >2546</td>\n",
       "      <td id=\"T_92464_row22_col1\" class=\"data row22 col1\" >1580</td>\n",
       "      <td id=\"T_92464_row22_col2\" class=\"data row22 col2\" >1136</td>\n",
       "      <td id=\"T_92464_row22_col3\" class=\"data row22 col3\" >1429</td>\n",
       "      <td id=\"T_92464_row22_col4\" class=\"data row22 col4\" >1957</td>\n",
       "      <td id=\"T_92464_row22_col5\" class=\"data row22 col5\" >3132</td>\n",
       "      <td id=\"T_92464_row22_col6\" class=\"data row22 col6\" >5204</td>\n",
       "      <td id=\"T_92464_row22_col7\" class=\"data row22 col7\" >6890</td>\n",
       "      <td id=\"T_92464_row22_col8\" class=\"data row22 col8\" >6436</td>\n",
       "      <td id=\"T_92464_row22_col9\" class=\"data row22 col9\" >5177</td>\n",
       "      <td id=\"T_92464_row22_col10\" class=\"data row22 col10\" >5066</td>\n",
       "      <td id=\"T_92464_row22_col11\" class=\"data row22 col11\" >5304</td>\n",
       "      <td id=\"T_92464_row22_col12\" class=\"data row22 col12\" >5504</td>\n",
       "      <td id=\"T_92464_row22_col13\" class=\"data row22 col13\" >6232</td>\n",
       "      <td id=\"T_92464_row22_col14\" class=\"data row22 col14\" >7575</td>\n",
       "      <td id=\"T_92464_row22_col15\" class=\"data row22 col15\" >9309</td>\n",
       "      <td id=\"T_92464_row22_col16\" class=\"data row22 col16\" >9980</td>\n",
       "      <td id=\"T_92464_row22_col17\" class=\"data row22 col17\" >10341</td>\n",
       "      <td id=\"T_92464_row22_col18\" class=\"data row22 col18\" >10823</td>\n",
       "      <td id=\"T_92464_row22_col19\" class=\"data row22 col19\" >11347</td>\n",
       "      <td id=\"T_92464_row22_col20\" class=\"data row22 col20\" >11447</td>\n",
       "      <td id=\"T_92464_row22_col21\" class=\"data row22 col21\" >10347</td>\n",
       "      <td id=\"T_92464_row22_col22\" class=\"data row22 col22\" >8637</td>\n",
       "      <td id=\"T_92464_row22_col23\" class=\"data row22 col23\" >5577</td>\n",
       "    </tr>\n",
       "    <tr>\n",
       "      <th id=\"T_92464_level0_row23\" class=\"row_heading level0 row23\" >24.000000</th>\n",
       "      <td id=\"T_92464_row23_col0\" class=\"data row23 col0\" >3200</td>\n",
       "      <td id=\"T_92464_row23_col1\" class=\"data row23 col1\" >2055</td>\n",
       "      <td id=\"T_92464_row23_col2\" class=\"data row23 col2\" >1438</td>\n",
       "      <td id=\"T_92464_row23_col3\" class=\"data row23 col3\" >1493</td>\n",
       "      <td id=\"T_92464_row23_col4\" class=\"data row23 col4\" >1798</td>\n",
       "      <td id=\"T_92464_row23_col5\" class=\"data row23 col5\" >2754</td>\n",
       "      <td id=\"T_92464_row23_col6\" class=\"data row23 col6\" >4484</td>\n",
       "      <td id=\"T_92464_row23_col7\" class=\"data row23 col7\" >6013</td>\n",
       "      <td id=\"T_92464_row23_col8\" class=\"data row23 col8\" >5913</td>\n",
       "      <td id=\"T_92464_row23_col9\" class=\"data row23 col9\" >5146</td>\n",
       "      <td id=\"T_92464_row23_col10\" class=\"data row23 col10\" >4947</td>\n",
       "      <td id=\"T_92464_row23_col11\" class=\"data row23 col11\" >5311</td>\n",
       "      <td id=\"T_92464_row23_col12\" class=\"data row23 col12\" >5229</td>\n",
       "      <td id=\"T_92464_row23_col13\" class=\"data row23 col13\" >5974</td>\n",
       "      <td id=\"T_92464_row23_col14\" class=\"data row23 col14\" >7083</td>\n",
       "      <td id=\"T_92464_row23_col15\" class=\"data row23 col15\" >8706</td>\n",
       "      <td id=\"T_92464_row23_col16\" class=\"data row23 col16\" >10366</td>\n",
       "      <td id=\"T_92464_row23_col17\" class=\"data row23 col17\" >10786</td>\n",
       "      <td id=\"T_92464_row23_col18\" class=\"data row23 col18\" >9772</td>\n",
       "      <td id=\"T_92464_row23_col19\" class=\"data row23 col19\" >9080</td>\n",
       "      <td id=\"T_92464_row23_col20\" class=\"data row23 col20\" >9213</td>\n",
       "      <td id=\"T_92464_row23_col21\" class=\"data row23 col21\" >8831</td>\n",
       "      <td id=\"T_92464_row23_col22\" class=\"data row23 col22\" >7480</td>\n",
       "      <td id=\"T_92464_row23_col23\" class=\"data row23 col23\" >4456</td>\n",
       "    </tr>\n",
       "    <tr>\n",
       "      <th id=\"T_92464_level0_row24\" class=\"row_heading level0 row24\" >25.000000</th>\n",
       "      <td id=\"T_92464_row24_col0\" class=\"data row24 col0\" >2405</td>\n",
       "      <td id=\"T_92464_row24_col1\" class=\"data row24 col1\" >1499</td>\n",
       "      <td id=\"T_92464_row24_col2\" class=\"data row24 col2\" >1072</td>\n",
       "      <td id=\"T_92464_row24_col3\" class=\"data row24 col3\" >1439</td>\n",
       "      <td id=\"T_92464_row24_col4\" class=\"data row24 col4\" >1943</td>\n",
       "      <td id=\"T_92464_row24_col5\" class=\"data row24 col5\" >2973</td>\n",
       "      <td id=\"T_92464_row24_col6\" class=\"data row24 col6\" >5356</td>\n",
       "      <td id=\"T_92464_row24_col7\" class=\"data row24 col7\" >7627</td>\n",
       "      <td id=\"T_92464_row24_col8\" class=\"data row24 col8\" >7078</td>\n",
       "      <td id=\"T_92464_row24_col9\" class=\"data row24 col9\" >5994</td>\n",
       "      <td id=\"T_92464_row24_col10\" class=\"data row24 col10\" >5432</td>\n",
       "      <td id=\"T_92464_row24_col11\" class=\"data row24 col11\" >5504</td>\n",
       "      <td id=\"T_92464_row24_col12\" class=\"data row24 col12\" >5694</td>\n",
       "      <td id=\"T_92464_row24_col13\" class=\"data row24 col13\" >6204</td>\n",
       "      <td id=\"T_92464_row24_col14\" class=\"data row24 col14\" >7298</td>\n",
       "      <td id=\"T_92464_row24_col15\" class=\"data row24 col15\" >8732</td>\n",
       "      <td id=\"T_92464_row24_col16\" class=\"data row24 col16\" >9922</td>\n",
       "      <td id=\"T_92464_row24_col17\" class=\"data row24 col17\" >10504</td>\n",
       "      <td id=\"T_92464_row24_col18\" class=\"data row24 col18\" >10673</td>\n",
       "      <td id=\"T_92464_row24_col19\" class=\"data row24 col19\" >9048</td>\n",
       "      <td id=\"T_92464_row24_col20\" class=\"data row24 col20\" >8751</td>\n",
       "      <td id=\"T_92464_row24_col21\" class=\"data row24 col21\" >9508</td>\n",
       "      <td id=\"T_92464_row24_col22\" class=\"data row24 col22\" >8522</td>\n",
       "      <td id=\"T_92464_row24_col23\" class=\"data row24 col23\" >6605</td>\n",
       "    </tr>\n",
       "    <tr>\n",
       "      <th id=\"T_92464_level0_row25\" class=\"row_heading level0 row25\" >26.000000</th>\n",
       "      <td id=\"T_92464_row25_col0\" class=\"data row25 col0\" >3810</td>\n",
       "      <td id=\"T_92464_row25_col1\" class=\"data row25 col1\" >3065</td>\n",
       "      <td id=\"T_92464_row25_col2\" class=\"data row25 col2\" >2046</td>\n",
       "      <td id=\"T_92464_row25_col3\" class=\"data row25 col3\" >1806</td>\n",
       "      <td id=\"T_92464_row25_col4\" class=\"data row25 col4\" >1730</td>\n",
       "      <td id=\"T_92464_row25_col5\" class=\"data row25 col5\" >2337</td>\n",
       "      <td id=\"T_92464_row25_col6\" class=\"data row25 col6\" >3776</td>\n",
       "      <td id=\"T_92464_row25_col7\" class=\"data row25 col7\" >5172</td>\n",
       "      <td id=\"T_92464_row25_col8\" class=\"data row25 col8\" >5071</td>\n",
       "      <td id=\"T_92464_row25_col9\" class=\"data row25 col9\" >4808</td>\n",
       "      <td id=\"T_92464_row25_col10\" class=\"data row25 col10\" >5061</td>\n",
       "      <td id=\"T_92464_row25_col11\" class=\"data row25 col11\" >5179</td>\n",
       "      <td id=\"T_92464_row25_col12\" class=\"data row25 col12\" >5381</td>\n",
       "      <td id=\"T_92464_row25_col13\" class=\"data row25 col13\" >6166</td>\n",
       "      <td id=\"T_92464_row25_col14\" class=\"data row25 col14\" >7269</td>\n",
       "      <td id=\"T_92464_row25_col15\" class=\"data row25 col15\" >8815</td>\n",
       "      <td id=\"T_92464_row25_col16\" class=\"data row25 col16\" >9885</td>\n",
       "      <td id=\"T_92464_row25_col17\" class=\"data row25 col17\" >10697</td>\n",
       "      <td id=\"T_92464_row25_col18\" class=\"data row25 col18\" >10867</td>\n",
       "      <td id=\"T_92464_row25_col19\" class=\"data row25 col19\" >10122</td>\n",
       "      <td id=\"T_92464_row25_col20\" class=\"data row25 col20\" >9820</td>\n",
       "      <td id=\"T_92464_row25_col21\" class=\"data row25 col21\" >10441</td>\n",
       "      <td id=\"T_92464_row25_col22\" class=\"data row25 col22\" >9486</td>\n",
       "      <td id=\"T_92464_row25_col23\" class=\"data row25 col23\" >7593</td>\n",
       "    </tr>\n",
       "    <tr>\n",
       "      <th id=\"T_92464_level0_row26\" class=\"row_heading level0 row26\" >27.000000</th>\n",
       "      <td id=\"T_92464_row26_col0\" class=\"data row26 col0\" >5196</td>\n",
       "      <td id=\"T_92464_row26_col1\" class=\"data row26 col1\" >3635</td>\n",
       "      <td id=\"T_92464_row26_col2\" class=\"data row26 col2\" >2352</td>\n",
       "      <td id=\"T_92464_row26_col3\" class=\"data row26 col3\" >2055</td>\n",
       "      <td id=\"T_92464_row26_col4\" class=\"data row26 col4\" >1723</td>\n",
       "      <td id=\"T_92464_row26_col5\" class=\"data row26 col5\" >2336</td>\n",
       "      <td id=\"T_92464_row26_col6\" class=\"data row26 col6\" >3539</td>\n",
       "      <td id=\"T_92464_row26_col7\" class=\"data row26 col7\" >4937</td>\n",
       "      <td id=\"T_92464_row26_col8\" class=\"data row26 col8\" >5053</td>\n",
       "      <td id=\"T_92464_row26_col9\" class=\"data row26 col9\" >4771</td>\n",
       "      <td id=\"T_92464_row26_col10\" class=\"data row26 col10\" >5198</td>\n",
       "      <td id=\"T_92464_row26_col11\" class=\"data row26 col11\" >5732</td>\n",
       "      <td id=\"T_92464_row26_col12\" class=\"data row26 col12\" >5839</td>\n",
       "      <td id=\"T_92464_row26_col13\" class=\"data row26 col13\" >6820</td>\n",
       "      <td id=\"T_92464_row26_col14\" class=\"data row26 col14\" >7519</td>\n",
       "      <td id=\"T_92464_row26_col15\" class=\"data row26 col15\" >8803</td>\n",
       "      <td id=\"T_92464_row26_col16\" class=\"data row26 col16\" >9793</td>\n",
       "      <td id=\"T_92464_row26_col17\" class=\"data row26 col17\" >9838</td>\n",
       "      <td id=\"T_92464_row26_col18\" class=\"data row26 col18\" >9228</td>\n",
       "      <td id=\"T_92464_row26_col19\" class=\"data row26 col19\" >8267</td>\n",
       "      <td id=\"T_92464_row26_col20\" class=\"data row26 col20\" >7908</td>\n",
       "      <td id=\"T_92464_row26_col21\" class=\"data row26 col21\" >8507</td>\n",
       "      <td id=\"T_92464_row26_col22\" class=\"data row26 col22\" >7720</td>\n",
       "      <td id=\"T_92464_row26_col23\" class=\"data row26 col23\" >6046</td>\n",
       "    </tr>\n",
       "    <tr>\n",
       "      <th id=\"T_92464_level0_row27\" class=\"row_heading level0 row27\" >28.000000</th>\n",
       "      <td id=\"T_92464_row27_col0\" class=\"data row27 col0\" >4123</td>\n",
       "      <td id=\"T_92464_row27_col1\" class=\"data row27 col1\" >2646</td>\n",
       "      <td id=\"T_92464_row27_col2\" class=\"data row27 col2\" >1843</td>\n",
       "      <td id=\"T_92464_row27_col3\" class=\"data row27 col3\" >1802</td>\n",
       "      <td id=\"T_92464_row27_col4\" class=\"data row27 col4\" >1883</td>\n",
       "      <td id=\"T_92464_row27_col5\" class=\"data row27 col5\" >2793</td>\n",
       "      <td id=\"T_92464_row27_col6\" class=\"data row27 col6\" >4290</td>\n",
       "      <td id=\"T_92464_row27_col7\" class=\"data row27 col7\" >5715</td>\n",
       "      <td id=\"T_92464_row27_col8\" class=\"data row27 col8\" >5671</td>\n",
       "      <td id=\"T_92464_row27_col9\" class=\"data row27 col9\" >5206</td>\n",
       "      <td id=\"T_92464_row27_col10\" class=\"data row27 col10\" >5247</td>\n",
       "      <td id=\"T_92464_row27_col11\" class=\"data row27 col11\" >5500</td>\n",
       "      <td id=\"T_92464_row27_col12\" class=\"data row27 col12\" >5486</td>\n",
       "      <td id=\"T_92464_row27_col13\" class=\"data row27 col13\" >6120</td>\n",
       "      <td id=\"T_92464_row27_col14\" class=\"data row27 col14\" >7341</td>\n",
       "      <td id=\"T_92464_row27_col15\" class=\"data row27 col15\" >8584</td>\n",
       "      <td id=\"T_92464_row27_col16\" class=\"data row27 col16\" >9671</td>\n",
       "      <td id=\"T_92464_row27_col17\" class=\"data row27 col17\" >9975</td>\n",
       "      <td id=\"T_92464_row27_col18\" class=\"data row27 col18\" >9132</td>\n",
       "      <td id=\"T_92464_row27_col19\" class=\"data row27 col19\" >8255</td>\n",
       "      <td id=\"T_92464_row27_col20\" class=\"data row27 col20\" >8309</td>\n",
       "      <td id=\"T_92464_row27_col21\" class=\"data row27 col21\" >7949</td>\n",
       "      <td id=\"T_92464_row27_col22\" class=\"data row27 col22\" >6411</td>\n",
       "      <td id=\"T_92464_row27_col23\" class=\"data row27 col23\" >4461</td>\n",
       "    </tr>\n",
       "    <tr>\n",
       "      <th id=\"T_92464_level0_row28\" class=\"row_heading level0 row28\" >29.000000</th>\n",
       "      <td id=\"T_92464_row28_col0\" class=\"data row28 col0\" >2678</td>\n",
       "      <td id=\"T_92464_row28_col1\" class=\"data row28 col1\" >1827</td>\n",
       "      <td id=\"T_92464_row28_col2\" class=\"data row28 col2\" >1409</td>\n",
       "      <td id=\"T_92464_row28_col3\" class=\"data row28 col3\" >1678</td>\n",
       "      <td id=\"T_92464_row28_col4\" class=\"data row28 col4\" >1948</td>\n",
       "      <td id=\"T_92464_row28_col5\" class=\"data row28 col5\" >3056</td>\n",
       "      <td id=\"T_92464_row28_col6\" class=\"data row28 col6\" >5213</td>\n",
       "      <td id=\"T_92464_row28_col7\" class=\"data row28 col7\" >6852</td>\n",
       "      <td id=\"T_92464_row28_col8\" class=\"data row28 col8\" >6695</td>\n",
       "      <td id=\"T_92464_row28_col9\" class=\"data row28 col9\" >5481</td>\n",
       "      <td id=\"T_92464_row28_col10\" class=\"data row28 col10\" >5234</td>\n",
       "      <td id=\"T_92464_row28_col11\" class=\"data row28 col11\" >5163</td>\n",
       "      <td id=\"T_92464_row28_col12\" class=\"data row28 col12\" >5220</td>\n",
       "      <td id=\"T_92464_row28_col13\" class=\"data row28 col13\" >6305</td>\n",
       "      <td id=\"T_92464_row28_col14\" class=\"data row28 col14\" >7630</td>\n",
       "      <td id=\"T_92464_row28_col15\" class=\"data row28 col15\" >9249</td>\n",
       "      <td id=\"T_92464_row28_col16\" class=\"data row28 col16\" >10105</td>\n",
       "      <td id=\"T_92464_row28_col17\" class=\"data row28 col17\" >11113</td>\n",
       "      <td id=\"T_92464_row28_col18\" class=\"data row28 col18\" >10411</td>\n",
       "      <td id=\"T_92464_row28_col19\" class=\"data row28 col19\" >9301</td>\n",
       "      <td id=\"T_92464_row28_col20\" class=\"data row28 col20\" >9270</td>\n",
       "      <td id=\"T_92464_row28_col21\" class=\"data row28 col21\" >9114</td>\n",
       "      <td id=\"T_92464_row28_col22\" class=\"data row28 col22\" >6992</td>\n",
       "      <td id=\"T_92464_row28_col23\" class=\"data row28 col23\" >4323</td>\n",
       "    </tr>\n",
       "    <tr>\n",
       "      <th id=\"T_92464_level0_row29\" class=\"row_heading level0 row29\" >30.000000</th>\n",
       "      <td id=\"T_92464_row29_col0\" class=\"data row29 col0\" >2401</td>\n",
       "      <td id=\"T_92464_row29_col1\" class=\"data row29 col1\" >1510</td>\n",
       "      <td id=\"T_92464_row29_col2\" class=\"data row29 col2\" >1112</td>\n",
       "      <td id=\"T_92464_row29_col3\" class=\"data row29 col3\" >1403</td>\n",
       "      <td id=\"T_92464_row29_col4\" class=\"data row29 col4\" >1841</td>\n",
       "      <td id=\"T_92464_row29_col5\" class=\"data row29 col5\" >3216</td>\n",
       "      <td id=\"T_92464_row29_col6\" class=\"data row29 col6\" >5757</td>\n",
       "      <td id=\"T_92464_row29_col7\" class=\"data row29 col7\" >7596</td>\n",
       "      <td id=\"T_92464_row29_col8\" class=\"data row29 col8\" >7611</td>\n",
       "      <td id=\"T_92464_row29_col9\" class=\"data row29 col9\" >6064</td>\n",
       "      <td id=\"T_92464_row29_col10\" class=\"data row29 col10\" >5987</td>\n",
       "      <td id=\"T_92464_row29_col11\" class=\"data row29 col11\" >6090</td>\n",
       "      <td id=\"T_92464_row29_col12\" class=\"data row29 col12\" >6423</td>\n",
       "      <td id=\"T_92464_row29_col13\" class=\"data row29 col13\" >7249</td>\n",
       "      <td id=\"T_92464_row29_col14\" class=\"data row29 col14\" >8396</td>\n",
       "      <td id=\"T_92464_row29_col15\" class=\"data row29 col15\" >10243</td>\n",
       "      <td id=\"T_92464_row29_col16\" class=\"data row29 col16\" >11554</td>\n",
       "      <td id=\"T_92464_row29_col17\" class=\"data row29 col17\" >12126</td>\n",
       "      <td id=\"T_92464_row29_col18\" class=\"data row29 col18\" >12561</td>\n",
       "      <td id=\"T_92464_row29_col19\" class=\"data row29 col19\" >11024</td>\n",
       "      <td id=\"T_92464_row29_col20\" class=\"data row29 col20\" >10836</td>\n",
       "      <td id=\"T_92464_row29_col21\" class=\"data row29 col21\" >10042</td>\n",
       "      <td id=\"T_92464_row29_col22\" class=\"data row29 col22\" >8275</td>\n",
       "      <td id=\"T_92464_row29_col23\" class=\"data row29 col23\" >4723</td>\n",
       "    </tr>\n",
       "    <tr>\n",
       "      <th id=\"T_92464_level0_row30\" class=\"row_heading level0 row30\" >31.000000</th>\n",
       "      <td id=\"T_92464_row30_col0\" class=\"data row30 col0\" >2174</td>\n",
       "      <td id=\"T_92464_row30_col1\" class=\"data row30 col1\" >1394</td>\n",
       "      <td id=\"T_92464_row30_col2\" class=\"data row30 col2\" >1087</td>\n",
       "      <td id=\"T_92464_row30_col3\" class=\"data row30 col3\" >919</td>\n",
       "      <td id=\"T_92464_row30_col4\" class=\"data row30 col4\" >773</td>\n",
       "      <td id=\"T_92464_row30_col5\" class=\"data row30 col5\" >997</td>\n",
       "      <td id=\"T_92464_row30_col6\" class=\"data row30 col6\" >1561</td>\n",
       "      <td id=\"T_92464_row30_col7\" class=\"data row30 col7\" >2169</td>\n",
       "      <td id=\"T_92464_row30_col8\" class=\"data row30 col8\" >2410</td>\n",
       "      <td id=\"T_92464_row30_col9\" class=\"data row30 col9\" >2525</td>\n",
       "      <td id=\"T_92464_row30_col10\" class=\"data row30 col10\" >2564</td>\n",
       "      <td id=\"T_92464_row30_col11\" class=\"data row30 col11\" >2777</td>\n",
       "      <td id=\"T_92464_row30_col12\" class=\"data row30 col12\" >2954</td>\n",
       "      <td id=\"T_92464_row30_col13\" class=\"data row30 col13\" >3280</td>\n",
       "      <td id=\"T_92464_row30_col14\" class=\"data row30 col14\" >4104</td>\n",
       "      <td id=\"T_92464_row30_col15\" class=\"data row30 col15\" >5099</td>\n",
       "      <td id=\"T_92464_row30_col16\" class=\"data row30 col16\" >5386</td>\n",
       "      <td id=\"T_92464_row30_col17\" class=\"data row30 col17\" >5308</td>\n",
       "      <td id=\"T_92464_row30_col18\" class=\"data row30 col18\" >5350</td>\n",
       "      <td id=\"T_92464_row30_col19\" class=\"data row30 col19\" >4898</td>\n",
       "      <td id=\"T_92464_row30_col20\" class=\"data row30 col20\" >4819</td>\n",
       "      <td id=\"T_92464_row30_col21\" class=\"data row30 col21\" >5064</td>\n",
       "      <td id=\"T_92464_row30_col22\" class=\"data row30 col22\" >5164</td>\n",
       "      <td id=\"T_92464_row30_col23\" class=\"data row30 col23\" >3961</td>\n",
       "    </tr>\n",
       "  </tbody>\n",
       "</table>\n"
      ],
      "text/plain": [
       "<pandas.io.formats.style.Styler at 0x227002eefa0>"
      ]
     },
     "execution_count": 50,
     "metadata": {},
     "output_type": "execute_result"
    }
   ],
   "source": [
    "pivot.style.background_gradient()"
   ]
  },
  {
   "cell_type": "code",
   "execution_count": null,
   "id": "58aab707",
   "metadata": {},
   "outputs": [],
   "source": []
  }
 ],
 "metadata": {
  "kernelspec": {
   "display_name": "Python 3 (ipykernel)",
   "language": "python",
   "name": "python3"
  },
  "language_info": {
   "codemirror_mode": {
    "name": "ipython",
    "version": 3
   },
   "file_extension": ".py",
   "mimetype": "text/x-python",
   "name": "python",
   "nbconvert_exporter": "python",
   "pygments_lexer": "ipython3",
   "version": "3.9.12"
  }
 },
 "nbformat": 4,
 "nbformat_minor": 5
}
